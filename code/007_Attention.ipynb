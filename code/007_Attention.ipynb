{
  "nbformat": 4,
  "nbformat_minor": 0,
  "metadata": {
    "colab": {
      "name": "007_Attention.ipynb",
      "provenance": [],
      "collapsed_sections": []
    },
    "kernelspec": {
      "name": "python3",
      "display_name": "Python 3"
    },
    "language_info": {
      "name": "python"
    }
  },
  "cells": [
    {
      "cell_type": "code",
      "metadata": {
        "id": "VGIq4H5hVWch"
      },
      "source": [
        "import numpy as np\n",
        "import pandas as pd\n",
        "import re\n",
        "import matplotlib.pyplot as plt\n",
        "from pprint import pprint\n",
        "import urllib.request"
      ],
      "execution_count": null,
      "outputs": []
    },
    {
      "cell_type": "code",
      "metadata": {
        "id": "VLUttTmWzfI7"
      },
      "source": [
        "!pip install attention\n",
        "from attention import AttentionLayer"
      ],
      "execution_count": null,
      "outputs": []
    },
    {
      "cell_type": "code",
      "metadata": {
        "colab": {
          "base_uri": "https://localhost:8080/"
        },
        "id": "_e-iXZYx59cH",
        "outputId": "1ea97dc2-f3af-41ae-fe52-7352c1b27b2c"
      },
      "source": [
        "url = \"https://raw.githubusercontent.com/thushv89/attention_keras/master/src/layers/attention.py\"\n",
        "urllib.request.urlretrieve(url, filename=\"attention.py\")"
      ],
      "execution_count": 7,
      "outputs": [
        {
          "output_type": "execute_result",
          "data": {
            "text/plain": [
              "('attention.py', <http.client.HTTPMessage at 0x7febd38f1f90>)"
            ]
          },
          "metadata": {
            "tags": []
          },
          "execution_count": 7
        }
      ]
    },
    {
      "cell_type": "code",
      "metadata": {
        "id": "aiwIsxUKWxV4"
      },
      "source": [
        "import nltk\n",
        "from nltk.corpus import stopwords\n",
        "from bs4 import BeautifulSoup"
      ],
      "execution_count": 8,
      "outputs": []
    },
    {
      "cell_type": "code",
      "metadata": {
        "id": "9ZiD0pAeW5Wa"
      },
      "source": [
        "from keras.preprocessing.text import Tokenizer\n",
        "from keras.preprocessing.sequence import pad_sequences\n",
        "from keras.layers import Input, LSTM, Embedding, Dense, Concatenate\n",
        "from keras.models import Model\n",
        "from keras.callbacks import EarlyStopping, ModelCheckpoint\n",
        "\n",
        "from keras.models import load_model"
      ],
      "execution_count": 107,
      "outputs": []
    },
    {
      "cell_type": "code",
      "metadata": {
        "id": "xAKXDxU_XHEf"
      },
      "source": [
        "from google.colab import drive"
      ],
      "execution_count": 10,
      "outputs": []
    },
    {
      "cell_type": "code",
      "metadata": {
        "id": "wxLpBIHTvdYm"
      },
      "source": [
        "from sklearn.model_selection import train_test_split"
      ],
      "execution_count": 11,
      "outputs": []
    },
    {
      "cell_type": "code",
      "metadata": {
        "colab": {
          "base_uri": "https://localhost:8080/"
        },
        "id": "qMsCl1vZXQMz",
        "outputId": "f3f3cd1b-9383-465e-8530-a44e2db2aeb8"
      },
      "source": [
        "drive.mount('/content/drive/')"
      ],
      "execution_count": 12,
      "outputs": [
        {
          "output_type": "stream",
          "text": [
            "Mounted at /content/drive/\n"
          ],
          "name": "stdout"
        }
      ]
    },
    {
      "cell_type": "code",
      "metadata": {
        "colab": {
          "base_uri": "https://localhost:8080/"
        },
        "id": "BXHgvQ_2XS2x",
        "outputId": "e71d311e-d142-4d4d-b91d-e451d354ea4e"
      },
      "source": [
        "!ls -l"
      ],
      "execution_count": 13,
      "outputs": [
        {
          "output_type": "stream",
          "text": [
            "total 20\n",
            "-rw-r--r-- 1 root root 4645 Apr  2 04:19 attention.py\n",
            "drwx------ 5 root root 4096 Apr  2 04:19 drive\n",
            "drwxr-xr-x 2 root root 4096 Apr  2 04:19 __pycache__\n",
            "drwxr-xr-x 1 root root 4096 Mar 25 13:38 sample_data\n"
          ],
          "name": "stdout"
        }
      ]
    },
    {
      "cell_type": "code",
      "metadata": {
        "id": "qpkqq4qIXZ_O"
      },
      "source": [
        "data = pd.read_csv('/content/drive/MyDrive/Colab Notebooks/Natural_Language_Processing/data/Reviews.csv' , nrows = 100000)"
      ],
      "execution_count": 16,
      "outputs": []
    },
    {
      "cell_type": "markdown",
      "metadata": {
        "id": "9kezFKIzYwgE"
      },
      "source": [
        "## 1. Data Load"
      ]
    },
    {
      "cell_type": "code",
      "metadata": {
        "colab": {
          "base_uri": "https://localhost:8080/"
        },
        "id": "mU3jFtcvXvdc",
        "outputId": "f7d767ef-07b4-4932-9958-3198a43596a9"
      },
      "source": [
        "print('전체 리뷰 개수: ' , len(data))"
      ],
      "execution_count": 17,
      "outputs": [
        {
          "output_type": "stream",
          "text": [
            "전체 리뷰 개수:  100000\n"
          ],
          "name": "stdout"
        }
      ]
    },
    {
      "cell_type": "code",
      "metadata": {
        "colab": {
          "base_uri": "https://localhost:8080/",
          "height": 683
        },
        "id": "j1SyAO4lYkXS",
        "outputId": "9b946bff-8abd-45b1-b271-8cee9993387e"
      },
      "source": [
        "data.head()"
      ],
      "execution_count": 18,
      "outputs": [
        {
          "output_type": "execute_result",
          "data": {
            "text/html": [
              "<div>\n",
              "<style scoped>\n",
              "    .dataframe tbody tr th:only-of-type {\n",
              "        vertical-align: middle;\n",
              "    }\n",
              "\n",
              "    .dataframe tbody tr th {\n",
              "        vertical-align: top;\n",
              "    }\n",
              "\n",
              "    .dataframe thead th {\n",
              "        text-align: right;\n",
              "    }\n",
              "</style>\n",
              "<table border=\"1\" class=\"dataframe\">\n",
              "  <thead>\n",
              "    <tr style=\"text-align: right;\">\n",
              "      <th></th>\n",
              "      <th>Id</th>\n",
              "      <th>ProductId</th>\n",
              "      <th>UserId</th>\n",
              "      <th>ProfileName</th>\n",
              "      <th>HelpfulnessNumerator</th>\n",
              "      <th>HelpfulnessDenominator</th>\n",
              "      <th>Score</th>\n",
              "      <th>Time</th>\n",
              "      <th>Summary</th>\n",
              "      <th>Text</th>\n",
              "    </tr>\n",
              "  </thead>\n",
              "  <tbody>\n",
              "    <tr>\n",
              "      <th>0</th>\n",
              "      <td>1</td>\n",
              "      <td>B001E4KFG0</td>\n",
              "      <td>A3SGXH7AUHU8GW</td>\n",
              "      <td>delmartian</td>\n",
              "      <td>1</td>\n",
              "      <td>1</td>\n",
              "      <td>5</td>\n",
              "      <td>1303862400</td>\n",
              "      <td>Good Quality Dog Food</td>\n",
              "      <td>I have bought several of the Vitality canned d...</td>\n",
              "    </tr>\n",
              "    <tr>\n",
              "      <th>1</th>\n",
              "      <td>2</td>\n",
              "      <td>B00813GRG4</td>\n",
              "      <td>A1D87F6ZCVE5NK</td>\n",
              "      <td>dll pa</td>\n",
              "      <td>0</td>\n",
              "      <td>0</td>\n",
              "      <td>1</td>\n",
              "      <td>1346976000</td>\n",
              "      <td>Not as Advertised</td>\n",
              "      <td>Product arrived labeled as Jumbo Salted Peanut...</td>\n",
              "    </tr>\n",
              "    <tr>\n",
              "      <th>2</th>\n",
              "      <td>3</td>\n",
              "      <td>B000LQOCH0</td>\n",
              "      <td>ABXLMWJIXXAIN</td>\n",
              "      <td>Natalia Corres \"Natalia Corres\"</td>\n",
              "      <td>1</td>\n",
              "      <td>1</td>\n",
              "      <td>4</td>\n",
              "      <td>1219017600</td>\n",
              "      <td>\"Delight\" says it all</td>\n",
              "      <td>This is a confection that has been around a fe...</td>\n",
              "    </tr>\n",
              "    <tr>\n",
              "      <th>3</th>\n",
              "      <td>4</td>\n",
              "      <td>B000UA0QIQ</td>\n",
              "      <td>A395BORC6FGVXV</td>\n",
              "      <td>Karl</td>\n",
              "      <td>3</td>\n",
              "      <td>3</td>\n",
              "      <td>2</td>\n",
              "      <td>1307923200</td>\n",
              "      <td>Cough Medicine</td>\n",
              "      <td>If you are looking for the secret ingredient i...</td>\n",
              "    </tr>\n",
              "    <tr>\n",
              "      <th>4</th>\n",
              "      <td>5</td>\n",
              "      <td>B006K2ZZ7K</td>\n",
              "      <td>A1UQRSCLF8GW1T</td>\n",
              "      <td>Michael D. Bigham \"M. Wassir\"</td>\n",
              "      <td>0</td>\n",
              "      <td>0</td>\n",
              "      <td>5</td>\n",
              "      <td>1350777600</td>\n",
              "      <td>Great taffy</td>\n",
              "      <td>Great taffy at a great price.  There was a wid...</td>\n",
              "    </tr>\n",
              "  </tbody>\n",
              "</table>\n",
              "</div>"
            ],
            "text/plain": [
              "   Id  ...                                               Text\n",
              "0   1  ...  I have bought several of the Vitality canned d...\n",
              "1   2  ...  Product arrived labeled as Jumbo Salted Peanut...\n",
              "2   3  ...  This is a confection that has been around a fe...\n",
              "3   4  ...  If you are looking for the secret ingredient i...\n",
              "4   5  ...  Great taffy at a great price.  There was a wid...\n",
              "\n",
              "[5 rows x 10 columns]"
            ]
          },
          "metadata": {
            "tags": []
          },
          "execution_count": 18
        }
      ]
    },
    {
      "cell_type": "code",
      "metadata": {
        "colab": {
          "base_uri": "https://localhost:8080/"
        },
        "id": "Q_oJygBIYm2A",
        "outputId": "635951ef-d7ab-4ccd-cdb0-904e263fa69c"
      },
      "source": [
        "data.keys()"
      ],
      "execution_count": 19,
      "outputs": [
        {
          "output_type": "execute_result",
          "data": {
            "text/plain": [
              "Index(['Id', 'ProductId', 'UserId', 'ProfileName', 'HelpfulnessNumerator',\n",
              "       'HelpfulnessDenominator', 'Score', 'Time', 'Summary', 'Text'],\n",
              "      dtype='object')"
            ]
          },
          "metadata": {
            "tags": []
          },
          "execution_count": 19
        }
      ]
    },
    {
      "cell_type": "markdown",
      "metadata": {
        "id": "Ot5pL6WYY8Hq"
      },
      "source": [
        "### 1) test, summary 분리"
      ]
    },
    {
      "cell_type": "code",
      "metadata": {
        "colab": {
          "base_uri": "https://localhost:8080/",
          "height": 204
        },
        "id": "aSLIBjZoY3Eu",
        "outputId": "b0693d53-d447-4e20-ca0c-a3e23bbc0336"
      },
      "source": [
        "data = data[['Text' , 'Summary']]\n",
        "\n",
        "data.head()"
      ],
      "execution_count": 20,
      "outputs": [
        {
          "output_type": "execute_result",
          "data": {
            "text/html": [
              "<div>\n",
              "<style scoped>\n",
              "    .dataframe tbody tr th:only-of-type {\n",
              "        vertical-align: middle;\n",
              "    }\n",
              "\n",
              "    .dataframe tbody tr th {\n",
              "        vertical-align: top;\n",
              "    }\n",
              "\n",
              "    .dataframe thead th {\n",
              "        text-align: right;\n",
              "    }\n",
              "</style>\n",
              "<table border=\"1\" class=\"dataframe\">\n",
              "  <thead>\n",
              "    <tr style=\"text-align: right;\">\n",
              "      <th></th>\n",
              "      <th>Text</th>\n",
              "      <th>Summary</th>\n",
              "    </tr>\n",
              "  </thead>\n",
              "  <tbody>\n",
              "    <tr>\n",
              "      <th>0</th>\n",
              "      <td>I have bought several of the Vitality canned d...</td>\n",
              "      <td>Good Quality Dog Food</td>\n",
              "    </tr>\n",
              "    <tr>\n",
              "      <th>1</th>\n",
              "      <td>Product arrived labeled as Jumbo Salted Peanut...</td>\n",
              "      <td>Not as Advertised</td>\n",
              "    </tr>\n",
              "    <tr>\n",
              "      <th>2</th>\n",
              "      <td>This is a confection that has been around a fe...</td>\n",
              "      <td>\"Delight\" says it all</td>\n",
              "    </tr>\n",
              "    <tr>\n",
              "      <th>3</th>\n",
              "      <td>If you are looking for the secret ingredient i...</td>\n",
              "      <td>Cough Medicine</td>\n",
              "    </tr>\n",
              "    <tr>\n",
              "      <th>4</th>\n",
              "      <td>Great taffy at a great price.  There was a wid...</td>\n",
              "      <td>Great taffy</td>\n",
              "    </tr>\n",
              "  </tbody>\n",
              "</table>\n",
              "</div>"
            ],
            "text/plain": [
              "                                                Text                Summary\n",
              "0  I have bought several of the Vitality canned d...  Good Quality Dog Food\n",
              "1  Product arrived labeled as Jumbo Salted Peanut...      Not as Advertised\n",
              "2  This is a confection that has been around a fe...  \"Delight\" says it all\n",
              "3  If you are looking for the secret ingredient i...         Cough Medicine\n",
              "4  Great taffy at a great price.  There was a wid...            Great taffy"
            ]
          },
          "metadata": {
            "tags": []
          },
          "execution_count": 20
        }
      ]
    },
    {
      "cell_type": "code",
      "metadata": {
        "colab": {
          "base_uri": "https://localhost:8080/",
          "height": 359
        },
        "id": "RfHWw1pzcv2Y",
        "outputId": "fe3a869c-b881-4789-bebe-4b309fc94687"
      },
      "source": [
        "data.sample(10)"
      ],
      "execution_count": 21,
      "outputs": [
        {
          "output_type": "execute_result",
          "data": {
            "text/html": [
              "<div>\n",
              "<style scoped>\n",
              "    .dataframe tbody tr th:only-of-type {\n",
              "        vertical-align: middle;\n",
              "    }\n",
              "\n",
              "    .dataframe tbody tr th {\n",
              "        vertical-align: top;\n",
              "    }\n",
              "\n",
              "    .dataframe thead th {\n",
              "        text-align: right;\n",
              "    }\n",
              "</style>\n",
              "<table border=\"1\" class=\"dataframe\">\n",
              "  <thead>\n",
              "    <tr style=\"text-align: right;\">\n",
              "      <th></th>\n",
              "      <th>Text</th>\n",
              "      <th>Summary</th>\n",
              "    </tr>\n",
              "  </thead>\n",
              "  <tbody>\n",
              "    <tr>\n",
              "      <th>10613</th>\n",
              "      <td>Gimme better ingredients (KIND/Larabars) for m...</td>\n",
              "      <td>Slightly healthier but not worth it</td>\n",
              "    </tr>\n",
              "    <tr>\n",
              "      <th>66257</th>\n",
              "      <td>These fenugreek seeds were very fresh when the...</td>\n",
              "      <td>Quite fresh</td>\n",
              "    </tr>\n",
              "    <tr>\n",
              "      <th>17199</th>\n",
              "      <td>These are great, the perfect mix of coconut an...</td>\n",
              "      <td>Great snack for the kids, and I sneak a few too</td>\n",
              "    </tr>\n",
              "    <tr>\n",
              "      <th>50432</th>\n",
              "      <td>i order these for my baby shower and unfortuna...</td>\n",
              "      <td>never again.!!</td>\n",
              "    </tr>\n",
              "    <tr>\n",
              "      <th>95619</th>\n",
              "      <td>These are great - very light and crispy, and n...</td>\n",
              "      <td>Perfect potato chips!</td>\n",
              "    </tr>\n",
              "    <tr>\n",
              "      <th>21417</th>\n",
              "      <td>I don't write too many reviews, but I read the...</td>\n",
              "      <td>My Dog Goes CRAZY!!</td>\n",
              "    </tr>\n",
              "    <tr>\n",
              "      <th>34222</th>\n",
              "      <td>I have been using C.E.T chews for my dog for m...</td>\n",
              "      <td>C.E.T.Chews</td>\n",
              "    </tr>\n",
              "    <tr>\n",
              "      <th>35261</th>\n",
              "      <td>My 5 month old aussie/border collie mix puppy ...</td>\n",
              "      <td>Fun game for dogs</td>\n",
              "    </tr>\n",
              "    <tr>\n",
              "      <th>62847</th>\n",
              "      <td>I'm giving this product three stars by grading...</td>\n",
              "      <td>Chocolate?</td>\n",
              "    </tr>\n",
              "    <tr>\n",
              "      <th>71447</th>\n",
              "      <td>I received a free sample and I was hooked on f...</td>\n",
              "      <td>ADDICTINGLY YUMMY</td>\n",
              "    </tr>\n",
              "  </tbody>\n",
              "</table>\n",
              "</div>"
            ],
            "text/plain": [
              "                                                    Text                                          Summary\n",
              "10613  Gimme better ingredients (KIND/Larabars) for m...              Slightly healthier but not worth it\n",
              "66257  These fenugreek seeds were very fresh when the...                                      Quite fresh\n",
              "17199  These are great, the perfect mix of coconut an...  Great snack for the kids, and I sneak a few too\n",
              "50432  i order these for my baby shower and unfortuna...                                   never again.!!\n",
              "95619  These are great - very light and crispy, and n...                            Perfect potato chips!\n",
              "21417  I don't write too many reviews, but I read the...                              My Dog Goes CRAZY!!\n",
              "34222  I have been using C.E.T chews for my dog for m...                                      C.E.T.Chews\n",
              "35261  My 5 month old aussie/border collie mix puppy ...                                Fun game for dogs\n",
              "62847  I'm giving this product three stars by grading...                                       Chocolate?\n",
              "71447  I received a free sample and I was hooked on f...                                ADDICTINGLY YUMMY"
            ]
          },
          "metadata": {
            "tags": []
          },
          "execution_count": 21
        }
      ]
    },
    {
      "cell_type": "markdown",
      "metadata": {
        "id": "UBAwMpSakoXe"
      },
      "source": [
        "## 2. Data Preprocessing"
      ]
    },
    {
      "cell_type": "markdown",
      "metadata": {
        "id": "7IN7kiTQloWp"
      },
      "source": [
        "### 1) 불필요한 샘플 제거"
      ]
    },
    {
      "cell_type": "markdown",
      "metadata": {
        "id": "UtZ4vfAWkrJx"
      },
      "source": [
        "- 중복샘플이 있는지 확인"
      ]
    },
    {
      "cell_type": "code",
      "metadata": {
        "id": "cPccsoONc7lL",
        "colab": {
          "base_uri": "https://localhost:8080/"
        },
        "outputId": "6de6da0a-cea8-44ac-ea82-394e9e1284a0"
      },
      "source": [
        "print(data['Text'].nunique() , data['Summary'].nunique())"
      ],
      "execution_count": 22,
      "outputs": [
        {
          "output_type": "stream",
          "text": [
            "88426 72348\n"
          ],
          "name": "stdout"
        }
      ]
    },
    {
      "cell_type": "markdown",
      "metadata": {
        "id": "YeNXTyF3lDfe"
      },
      "source": [
        "- 중복인 내용 제거"
      ]
    },
    {
      "cell_type": "code",
      "metadata": {
        "colab": {
          "base_uri": "https://localhost:8080/"
        },
        "id": "4OOeCPpQk1_y",
        "outputId": "60044aa2-f06e-4317-95cc-7f6141ff33ff"
      },
      "source": [
        "data.drop_duplicates(subset = ['Text'] , inplace = True)\n",
        "print('전체 샘플수: ' , len(data))"
      ],
      "execution_count": 23,
      "outputs": [
        {
          "output_type": "stream",
          "text": [
            "전체 샘플수:  88426\n"
          ],
          "name": "stdout"
        }
      ]
    },
    {
      "cell_type": "markdown",
      "metadata": {
        "id": "KqO1vyDflV-V"
      },
      "source": [
        "- Null 샘플 존재 확인"
      ]
    },
    {
      "cell_type": "code",
      "metadata": {
        "colab": {
          "base_uri": "https://localhost:8080/"
        },
        "id": "ORxjPVgAlT9t",
        "outputId": "cb77ae18-65db-4a4a-d049-305c7b0b220b"
      },
      "source": [
        "print(data.isnull().sum())"
      ],
      "execution_count": 24,
      "outputs": [
        {
          "output_type": "stream",
          "text": [
            "Text       0\n",
            "Summary    1\n",
            "dtype: int64\n"
          ],
          "name": "stdout"
        }
      ]
    },
    {
      "cell_type": "code",
      "metadata": {
        "id": "GoOYwd-elboq"
      },
      "source": [
        "# Null이 존재할 경우\n",
        "data.dropna(axis = 0, inplace = True)"
      ],
      "execution_count": 25,
      "outputs": []
    },
    {
      "cell_type": "markdown",
      "metadata": {
        "id": "phC1aPJ1lrgD"
      },
      "source": [
        "### 2) 샘플 내부 전처리"
      ]
    },
    {
      "cell_type": "markdown",
      "metadata": {
        "id": "D-uDgON-lyPo"
      },
      "source": [
        "- 동일한 의미지만 스펠링이 다른 단어 정규화\n",
        "- 참고링크: https://stackoverflow.com/questions/19790188/expanding-english-language-contractions-in-python"
      ]
    },
    {
      "cell_type": "code",
      "metadata": {
        "id": "RL2kJoSKllKs"
      },
      "source": [
        "# 전처리 함수 내 사용\n",
        "contractions = {\"ain't\": \"is not\", \"aren't\": \"are not\",\"can't\": \"cannot\", \n",
        "                \"'cause\": \"because\", \"could've\": \"could have\", \n",
        "                \"couldn't\": \"could not\", \"didn't\": \"did not\", \n",
        "                \"doesn't\": \"does not\", \"don't\": \"do not\", \"hadn't\": \"had not\", \n",
        "                \"hasn't\": \"has not\", \"haven't\": \"have not\", \"he'd\": \"he would\",\n",
        "                \"he'll\": \"he will\", \"he's\": \"he is\", \"how'd\": \"how did\", \n",
        "                \"how'd'y\": \"how do you\", \"how'll\": \"how will\", \"how's\": \"how is\",\n",
        "                \"I'd\": \"I would\", \"I'd've\": \"I would have\", \"I'll\": \"I will\",\n",
        "                \"I'll've\": \"I will have\",\"I'm\": \"I am\", \"I've\": \"I have\",\n",
        "                \"i'd\": \"i would\", \"i'd've\": \"i would have\", \"i'll\": \"i will\",\n",
        "                \"i'll've\": \"i will have\",\"i'm\": \"i am\", \"i've\": \"i have\", \n",
        "                \"isn't\": \"is not\", \"it'd\": \"it would\", \"it'd've\": \"it would have\", \n",
        "                \"it'll\": \"it will\", \"it'll've\": \"it will have\",\"it's\": \"it is\",\n",
        "                \"let's\": \"let us\", \"ma'am\": \"madam\", \"mayn't\": \"may not\", \n",
        "                \"might've\": \"might have\",\"mightn't\": \"might not\",\n",
        "                \"mightn't've\": \"might not have\", \"must've\": \"must have\",\n",
        "                \"mustn't\": \"must not\", \"mustn't've\": \"must not have\",\n",
        "                \"needn't\": \"need not\", \"needn't've\": \"need not have\",\n",
        "                \"o'clock\": \"of the clock\", \"oughtn't\": \"ought not\", \n",
        "                \"oughtn't've\": \"ought not have\", \"shan't\": \"shall not\", \n",
        "                \"sha'n't\": \"shall not\", \"shan't've\": \"shall not have\", \n",
        "                \"she'd\": \"she would\", \"she'd've\": \"she would have\", \n",
        "                \"she'll\": \"she will\", \"she'll've\": \"she will have\", \n",
        "                \"she's\": \"she is\", \"should've\": \"should have\",\n",
        "                \"shouldn't\": \"should not\", \"shouldn't've\": \"should not have\", \n",
        "                \"so've\": \"so have\",\"so's\": \"so as\", \"this's\": \"this is\",\n",
        "                \"that'd\": \"that would\", \"that'd've\": \"that would have\", \n",
        "                \"that's\": \"that is\", \"there'd\": \"there would\", \n",
        "                \"there'd've\": \"there would have\", \"there's\": \"there is\", \n",
        "                \"here's\": \"here is\",\"they'd\": \"they would\", \n",
        "                \"they'd've\": \"they would have\", \"they'll\": \"they will\",\n",
        "                \"they'll've\": \"they will have\", \"they're\": \"they are\", \n",
        "                \"they've\": \"they have\", \"to've\": \"to have\", \"wasn't\": \"was not\",\n",
        "                \"we'd\": \"we would\", \"we'd've\": \"we would have\", \n",
        "                \"we'll\": \"we will\", \"we'll've\": \"we will have\", \"we're\": \"we are\",\n",
        "                \"we've\": \"we have\", \"weren't\": \"were not\", \"what'll\": \"what will\",\n",
        "                \"what'll've\": \"what will have\", \"what're\": \"what are\", \n",
        "                \"what's\": \"what is\", \"what've\": \"what have\", \"when's\": \"when is\",\n",
        "                \"when've\": \"when have\", \"where'd\": \"where did\", \"where's\": \"where is\",\n",
        "                \"where've\": \"where have\", \"who'll\": \"who will\", \n",
        "                \"who'll've\": \"who will have\", \"who's\": \"who is\", \"who've\": \"who have\",\n",
        "                \"why's\": \"why is\", \"why've\": \"why have\", \"will've\": \"will have\",\n",
        "                \"won't\": \"will not\", \"won't've\": \"will not have\",\n",
        "                \"would've\": \"would have\", \"wouldn't\": \"would not\", \n",
        "                \"wouldn't've\": \"would not have\", \"y'all\": \"you all\", \n",
        "                \"y'all'd\": \"you all would\",\"y'all'd've\": \"you all would have\",\n",
        "                \"y'all're\": \"you all are\",\"y'all've\": \"you all have\",\n",
        "                \"you'd\": \"you would\", \"you'd've\": \"you would have\", \n",
        "                \"you'll\": \"you will\", \"you'll've\": \"you will have\", \n",
        "                \"you're\": \"you are\", \"you've\": \"you have\"}"
      ],
      "execution_count": 26,
      "outputs": []
    },
    {
      "cell_type": "markdown",
      "metadata": {
        "id": "E3hevpTCmi0U"
      },
      "source": [
        "- NLTK의 불용어를 저장하고 개수 확인"
      ]
    },
    {
      "cell_type": "code",
      "metadata": {
        "colab": {
          "base_uri": "https://localhost:8080/"
        },
        "id": "IefPk05km3rL",
        "outputId": "fc0a2e89-beb5-4e09-f091-5cec697e9055"
      },
      "source": [
        "nltk.download('stopwords')"
      ],
      "execution_count": 27,
      "outputs": [
        {
          "output_type": "stream",
          "text": [
            "[nltk_data] Downloading package stopwords to /root/nltk_data...\n",
            "[nltk_data]   Unzipping corpora/stopwords.zip.\n"
          ],
          "name": "stdout"
        },
        {
          "output_type": "execute_result",
          "data": {
            "text/plain": [
              "True"
            ]
          },
          "metadata": {
            "tags": []
          },
          "execution_count": 27
        }
      ]
    },
    {
      "cell_type": "code",
      "metadata": {
        "colab": {
          "base_uri": "https://localhost:8080/"
        },
        "id": "YLcZp1Uhl7lr",
        "outputId": "87ea125d-fcbb-425a-8d2a-f8bd01e1867f"
      },
      "source": [
        "# NLTK의 불용어\n",
        "stop_words = set(stopwords.words('english'))\n",
        "print('불용어 개수: ' , len(stop_words))\n",
        "print('불용어 종류: ' , stop_words)"
      ],
      "execution_count": 28,
      "outputs": [
        {
          "output_type": "stream",
          "text": [
            "불용어 개수:  179\n",
            "불용어 종류:  {'in', 'weren', 'up', 'of', 'than', 'we', 'they', 'further', \"you've\", 'off', 'o', 'shouldn', 'no', 'y', 'if', \"shan't\", 'nor', 'other', 'will', 'does', 'not', 'is', 'have', 'this', 'over', \"couldn't\", 'ourselves', 'some', 'mightn', 'm', 'a', \"shouldn't\", 'which', 'herself', \"that'll\", \"you'd\", 'between', 'my', \"you'll\", \"wouldn't\", \"she's\", 'haven', 'are', 'very', 'ma', 'from', 'who', \"don't\", 'itself', 've', 'below', 'where', \"won't\", 'each', 'by', 'having', 'these', 'while', 'with', 'through', 'before', 'myself', \"mightn't\", 'hers', 'do', 'doing', 'can', 'then', 'now', 'll', 't', \"mustn't\", \"hasn't\", \"should've\", \"it's\", 'such', 'hadn', 'out', \"wasn't\", 'she', 'themselves', 're', 'its', 'yours', 'when', 'an', 'whom', 'has', 'his', 'own', 'her', 'to', 'wouldn', 'most', 'any', 'here', 'just', 'our', 'ours', \"you're\", 'too', 'shan', 'what', 'there', 'for', 'above', 'that', 'and', 'why', 'their', \"aren't\", 'hasn', 'me', 'as', 'needn', 'your', 'him', 'them', 'on', 'only', 'did', \"needn't\", \"weren't\", 'under', 'yourself', 'were', 's', 'yourselves', 'd', 'theirs', 'himself', 'being', 'again', 'once', 'so', \"didn't\", 'down', 'he', 'doesn', 'all', 'aren', 'was', 'after', 'you', 'those', 'until', \"doesn't\", 'don', 'against', 'am', 'been', 'few', 'at', 'it', 'had', \"hadn't\", 'mustn', 'because', 'both', 'more', 'won', 'same', 'but', 'should', 'about', 'during', 'how', 'isn', 'be', \"isn't\", 'into', 'wasn', 'couldn', \"haven't\", 'or', 'i', 'ain', 'didn', 'the'}\n"
          ],
          "name": "stdout"
        }
      ]
    },
    {
      "cell_type": "markdown",
      "metadata": {
        "id": "RyWcFKr3nKLO"
      },
      "source": [
        "### 3) 전처리 함수 설계"
      ]
    },
    {
      "cell_type": "code",
      "metadata": {
        "id": "6xKqMljJm05U"
      },
      "source": [
        "# 전처리 함수\n",
        "def preprocess_sentence(sentence, remove_stopwords = True) :\n",
        "  sentence = sentence.lower()\n",
        "\n",
        "  # <br /> <a ref = ...> 등의 html 태그 제거\n",
        "  sentence = BeautifulSoup(sentence, \"lxml\").text\n",
        "  # 괄호로 닫힌 문자열 제거 ex) my husband (and myself) for => my husband for\n",
        "  sentence = re.sub(r'\\([^)]*\\)' , '' , sentence)\n",
        "  # 쌍따옴표 제거\n",
        "  sentence = re.sub('\"' , '' , sentence)\n",
        "  # 약어 정규화\n",
        "  sentence = ' '.join([contractions[t] if t in contractions else t\n",
        "                       for t in sentence.split(\" \")]) \n",
        "  # 소유격 제거 ex) roland's => roland\n",
        "  sentence = re.sub(r\"'s\\b\" , '' , sentence)\n",
        "  # 영어 외 문자(숫자, 특수문자 등) 공백으로 전환\n",
        "  sentence = re.sub(\"[^a-zA-Z]\" , \" \" , sentence)\n",
        "  # m이 3개 이상이면 2개로 변경 ex) ummmmmmm yeah => umm yeah\n",
        "  sentence = re.sub('m]{2,}' , 'mm' , sentence)\n",
        "  # 불용어 제거(Text)\n",
        "  if remove_stopwords:\n",
        "    tokens = ' '.join(word for word in sentence.split()\n",
        "    if not word in stop_words if len(word) > 1)\n",
        "  # 불용어 미제거(Summary)\n",
        "  else:\n",
        "    tokens = ' '.join(word for word in sentence.split() if len(word) > 1)\n",
        "  \n",
        "  return tokens"
      ],
      "execution_count": 29,
      "outputs": []
    },
    {
      "cell_type": "markdown",
      "metadata": {
        "id": "r4HBZFIJp6O3"
      },
      "source": [
        "- 함수 테스트"
      ]
    },
    {
      "cell_type": "code",
      "metadata": {
        "colab": {
          "base_uri": "https://localhost:8080/"
        },
        "id": "AoxPcxBMp8MS",
        "outputId": "fb023d5b-2d4f-4eb4-ab1d-3d73c9dd83cf"
      },
      "source": [
        "temp_text = 'Everything I bought was great, infact I ordered twice and the third ordered was<br />for my mother and father.'\n",
        "temp_summary = \"Great way to start aren't (or finish) the day!!! ummmmm\"\n",
        "print(preprocess_sentence(temp_text))\n",
        "print(preprocess_sentence(temp_summary, 0))"
      ],
      "execution_count": 30,
      "outputs": [
        {
          "output_type": "stream",
          "text": [
            "everything bought great infact ordered twice third ordered wasfor mother father\n",
            "great way to start are not the day ummmmm\n"
          ],
          "name": "stdout"
        }
      ]
    },
    {
      "cell_type": "markdown",
      "metadata": {
        "id": "A829lJSvqQiV"
      },
      "source": [
        "### 4) Text열 전처리"
      ]
    },
    {
      "cell_type": "code",
      "metadata": {
        "colab": {
          "base_uri": "https://localhost:8080/"
        },
        "id": "Th4IiOwtqSq4",
        "outputId": "70ce1a7a-eec7-4eab-a27c-b918e9a70eab"
      },
      "source": [
        "clean_text = []\n",
        "\n",
        "for s in data['Text'] :\n",
        "  clean_text.append(preprocess_sentence(s))\n",
        "\n",
        "clean_text[:5]"
      ],
      "execution_count": 31,
      "outputs": [
        {
          "output_type": "execute_result",
          "data": {
            "text/plain": [
              "['bought several vitality canned dog food products found good quality product looks like stew processed meat smells better labrador finicky appreciates product better',\n",
              " 'product arrived labeled jumbo salted peanuts peanuts actually small sized unsalted sure error vendor intended represent product jumbo',\n",
              " 'confection around centuries light pillowy citrus gelatin nuts case filberts cut tiny squares liberally coated powdered sugar tiny mouthful heaven chewy flavorful highly recommend yummy treat familiar story lewis lion witch wardrobe treat seduces edmund selling brother sisters witch',\n",
              " 'looking secret ingredient robitussin believe found got addition root beer extract ordered made cherry soda flavor medicinal',\n",
              " 'great taffy great price wide assortment yummy taffy delivery quick taffy lover deal']"
            ]
          },
          "metadata": {
            "tags": []
          },
          "execution_count": 31
        }
      ]
    },
    {
      "cell_type": "markdown",
      "metadata": {
        "id": "nQOAVKq2qoKl"
      },
      "source": [
        "### 5) Summary 열 전처리"
      ]
    },
    {
      "cell_type": "code",
      "metadata": {
        "colab": {
          "base_uri": "https://localhost:8080/"
        },
        "id": "8vFSDoVBqisk",
        "outputId": "cc672f98-fd67-448d-a478-5caf2790ec9e"
      },
      "source": [
        "clean_summary = []\n",
        "\n",
        "for s in data['Summary'] :\n",
        "  clean_summary.append(preprocess_sentence(s, 0))\n",
        "\n",
        "clean_summary[:5]"
      ],
      "execution_count": 32,
      "outputs": [
        {
          "output_type": "stream",
          "text": [
            "/usr/local/lib/python3.7/dist-packages/bs4/__init__.py:336: UserWarning: \"http://www.amazon.com/gp/product/b007i7yygy/ref=cm_cr_rev_prod_title\" looks like a URL. Beautiful Soup is not an HTTP client. You should probably use an HTTP client like requests to get the document behind the URL, and feed that document to Beautiful Soup.\n",
            "  ' that document to Beautiful Soup.' % decoded_markup\n"
          ],
          "name": "stderr"
        },
        {
          "output_type": "execute_result",
          "data": {
            "text/plain": [
              "['good quality dog food',\n",
              " 'not as advertised',\n",
              " 'delight says it all',\n",
              " 'cough medicine',\n",
              " 'great taffy']"
            ]
          },
          "metadata": {
            "tags": []
          },
          "execution_count": 32
        }
      ]
    },
    {
      "cell_type": "code",
      "metadata": {
        "id": "JO9WeWuVq3y-"
      },
      "source": [
        "data['Text'] = clean_text\n",
        "data['Summary'] = clean_summary"
      ],
      "execution_count": 33,
      "outputs": []
    },
    {
      "cell_type": "markdown",
      "metadata": {
        "id": "EIDEdQ3hrGhk"
      },
      "source": [
        "### 6) 전처리과정에서 생긴 공백 처리\n",
        "- Null 값으로 변환"
      ]
    },
    {
      "cell_type": "code",
      "metadata": {
        "colab": {
          "base_uri": "https://localhost:8080/"
        },
        "id": "qpD9Btz-rDx9",
        "outputId": "69685e5d-a036-46fa-9bdd-46f4e6028663"
      },
      "source": [
        "data.replace('' , np.nan, inplace = True)\n",
        "print(data.isnull().sum())"
      ],
      "execution_count": 34,
      "outputs": [
        {
          "output_type": "stream",
          "text": [
            "Text        0\n",
            "Summary    70\n",
            "dtype: int64\n"
          ],
          "name": "stdout"
        }
      ]
    },
    {
      "cell_type": "markdown",
      "metadata": {
        "id": "cDpPKV5srcOA"
      },
      "source": [
        "- Null 제거"
      ]
    },
    {
      "cell_type": "code",
      "metadata": {
        "colab": {
          "base_uri": "https://localhost:8080/"
        },
        "id": "g3dd_Bvora3m",
        "outputId": "332c86e9-48e4-421b-f4aa-370f2ca50e03"
      },
      "source": [
        "data.dropna(axis = 0, inplace = True)\n",
        "print('전체 샘플수: ' , len(data))"
      ],
      "execution_count": 35,
      "outputs": [
        {
          "output_type": "stream",
          "text": [
            "전체 샘플수:  88355\n"
          ],
          "name": "stdout"
        }
      ]
    },
    {
      "cell_type": "markdown",
      "metadata": {
        "id": "hNKAuahgrrQf"
      },
      "source": [
        "### 7) 길이분포 확인"
      ]
    },
    {
      "cell_type": "code",
      "metadata": {
        "colab": {
          "base_uri": "https://localhost:8080/",
          "height": 955
        },
        "id": "5h_YKQ8Xrj6-",
        "outputId": "fdb2d5ad-4aa6-4d44-ce18-280c0c678bd5"
      },
      "source": [
        "text_len = [ len(s.split()) for s in data['Text']]\n",
        "summary_len = [len(s.split()) for s in data['Summary']]\n",
        "\n",
        "print('텍스트의 최소 길이: {} ' .format(np.min(text_len)))\n",
        "print('텍스트의 최대 길이 : {}'.format(np.max(text_len)))\n",
        "print('텍스트의 평균 길이 : {}'.format(np.mean(text_len)))\n",
        "print('요약의 최소 길이 : {}'.format(np.min(summary_len)))\n",
        "print('요약의 최대 길이 : {}'.format(np.max(summary_len)))\n",
        "print('요약의 평균 길이 : {}'.format(np.mean(summary_len)))\n",
        "\n",
        "plt.subplot(1,2,1)\n",
        "plt.boxplot(summary_len)\n",
        "plt.title('Summary')\n",
        "plt.subplot(1,2,2)\n",
        "plt.boxplot(text_len)\n",
        "plt.title('Text')\n",
        "plt.tight_layout()\n",
        "plt.show()\n",
        "\n",
        "plt.title('Summary')\n",
        "plt.hist(summary_len, bins=40)\n",
        "plt.xlabel('length of samples')\n",
        "plt.ylabel('number of samples')\n",
        "plt.show()\n",
        "\n",
        "plt.title('Text')\n",
        "plt.hist(text_len, bins=40)\n",
        "plt.xlabel('length of samples')\n",
        "plt.ylabel('number of samples')\n",
        "plt.show()"
      ],
      "execution_count": 36,
      "outputs": [
        {
          "output_type": "stream",
          "text": [
            "텍스트의 최소 길이: 2 \n",
            "텍스트의 최대 길이 : 1235\n",
            "텍스트의 평균 길이 : 38.792428272310566\n",
            "요약의 최소 길이 : 1\n",
            "요약의 최대 길이 : 28\n",
            "요약의 평균 길이 : 4.010729443721352\n"
          ],
          "name": "stdout"
        },
        {
          "output_type": "display_data",
          "data": {
            "image/png": "[encoded data removed]",
            "text/plain": [
              "<Figure size 432x288 with 2 Axes>"
            ]
          },
          "metadata": {
            "tags": [],
            "needs_background": "light"
          }
        },
        {
          "output_type": "display_data",
          "data": {
            "image/png": "[encoded data removed]",
            "text/plain": [
              "<Figure size 432x288 with 1 Axes>"
            ]
          },
          "metadata": {
            "tags": [],
            "needs_background": "light"
          }
        },
        {
          "output_type": "display_data",
          "data": {
            "image/png": "[encoded data removed]",
            "text/plain": [
              "<Figure size 432x288 with 1 Axes>"
            ]
          },
          "metadata": {
            "tags": [],
            "needs_background": "light"
          }
        }
      ]
    },
    {
      "cell_type": "markdown",
      "metadata": {
        "id": "zdPqK9SMsne8"
      },
      "source": [
        "- 텍스트\n",
        "  - 대체로 100 이하의 길이\n",
        "  - 평균길이 38\n",
        "- 요약\n",
        "  - 대체로 15 이하의 길이\n",
        "  - 평균길이 4\n"
      ]
    },
    {
      "cell_type": "markdown",
      "metadata": {
        "id": "ykz0M8lEuQOp"
      },
      "source": [
        "### 8) 패딩"
      ]
    },
    {
      "cell_type": "code",
      "metadata": {
        "id": "84eSYs3asGIK"
      },
      "source": [
        "# 패딩길이를 각각 60과 8로 정함\n",
        "text_max_len = 60\n",
        "summary_max_len = 8"
      ],
      "execution_count": 37,
      "outputs": []
    },
    {
      "cell_type": "code",
      "metadata": {
        "id": "TAovMIl6tQ_2"
      },
      "source": [
        "def below_threshold_len(max_len, nested_list) :\n",
        "  cnt = 0\n",
        "  for s in nested_list:\n",
        "    if len(s.split()) <= max_len :\n",
        "      cnt += 1\n",
        "  \n",
        "  print('전체 샘플 중 길이가 %s 이하인 샘플의 비율: %.5f' %(max_len,\n",
        "                                          (cnt / len(nested_list))))"
      ],
      "execution_count": 38,
      "outputs": []
    },
    {
      "cell_type": "code",
      "metadata": {
        "colab": {
          "base_uri": "https://localhost:8080/"
        },
        "id": "MNrWqsasttGl",
        "outputId": "076864f8-3819-4ad3-e0ee-8c11a4163928"
      },
      "source": [
        "below_threshold_len(text_max_len, data['Text'])"
      ],
      "execution_count": 39,
      "outputs": [
        {
          "output_type": "stream",
          "text": [
            "전체 샘플 중 길이가 60 이하인 샘플의 비율: 0.83533\n"
          ],
          "name": "stdout"
        }
      ]
    },
    {
      "cell_type": "code",
      "metadata": {
        "colab": {
          "base_uri": "https://localhost:8080/"
        },
        "id": "7Iyh27DZt0vY",
        "outputId": "cbaf61b5-5a5e-4872-d8cd-91a90894e00e"
      },
      "source": [
        "below_threshold_len(summary_max_len, data['Summary'])"
      ],
      "execution_count": 40,
      "outputs": [
        {
          "output_type": "stream",
          "text": [
            "전체 샘플 중 길이가 8 이하인 샘플의 비율: 0.94246\n"
          ],
          "name": "stdout"
        }
      ]
    },
    {
      "cell_type": "markdown",
      "metadata": {
        "id": "fbCB0gCauMeU"
      },
      "source": [
        "- 정해진 패딩보다 큰 샘플들을 제거"
      ]
    },
    {
      "cell_type": "code",
      "metadata": {
        "colab": {
          "base_uri": "https://localhost:8080/"
        },
        "id": "DKasGx9At8n1",
        "outputId": "5429a12d-d237-42d4-b15d-0fcab708cf36"
      },
      "source": [
        "data = data[data['Text'].apply(lambda x : len(x.split()) <= text_max_len)]\n",
        "data = data[data['Summary'].apply(lambda x : len(x.split()) <= summary_max_len)]\n",
        "\n",
        "print('전체 샘플 수: ' , len(data))"
      ],
      "execution_count": 41,
      "outputs": [
        {
          "output_type": "stream",
          "text": [
            "전체 샘플 수:  70761\n"
          ],
          "name": "stdout"
        }
      ]
    },
    {
      "cell_type": "code",
      "metadata": {
        "colab": {
          "base_uri": "https://localhost:8080/",
          "height": 204
        },
        "id": "xna12nuruuIb",
        "outputId": "49674606-0ff8-4a1e-878c-c86b27803e6e"
      },
      "source": [
        "data.head()"
      ],
      "execution_count": 42,
      "outputs": [
        {
          "output_type": "execute_result",
          "data": {
            "text/html": [
              "<div>\n",
              "<style scoped>\n",
              "    .dataframe tbody tr th:only-of-type {\n",
              "        vertical-align: middle;\n",
              "    }\n",
              "\n",
              "    .dataframe tbody tr th {\n",
              "        vertical-align: top;\n",
              "    }\n",
              "\n",
              "    .dataframe thead th {\n",
              "        text-align: right;\n",
              "    }\n",
              "</style>\n",
              "<table border=\"1\" class=\"dataframe\">\n",
              "  <thead>\n",
              "    <tr style=\"text-align: right;\">\n",
              "      <th></th>\n",
              "      <th>Text</th>\n",
              "      <th>Summary</th>\n",
              "    </tr>\n",
              "  </thead>\n",
              "  <tbody>\n",
              "    <tr>\n",
              "      <th>0</th>\n",
              "      <td>bought several vitality canned dog food produc...</td>\n",
              "      <td>good quality dog food</td>\n",
              "    </tr>\n",
              "    <tr>\n",
              "      <th>1</th>\n",
              "      <td>product arrived labeled jumbo salted peanuts p...</td>\n",
              "      <td>not as advertised</td>\n",
              "    </tr>\n",
              "    <tr>\n",
              "      <th>2</th>\n",
              "      <td>confection around centuries light pillowy citr...</td>\n",
              "      <td>delight says it all</td>\n",
              "    </tr>\n",
              "    <tr>\n",
              "      <th>3</th>\n",
              "      <td>looking secret ingredient robitussin believe f...</td>\n",
              "      <td>cough medicine</td>\n",
              "    </tr>\n",
              "    <tr>\n",
              "      <th>4</th>\n",
              "      <td>great taffy great price wide assortment yummy ...</td>\n",
              "      <td>great taffy</td>\n",
              "    </tr>\n",
              "  </tbody>\n",
              "</table>\n",
              "</div>"
            ],
            "text/plain": [
              "                                                Text                Summary\n",
              "0  bought several vitality canned dog food produc...  good quality dog food\n",
              "1  product arrived labeled jumbo salted peanuts p...      not as advertised\n",
              "2  confection around centuries light pillowy citr...    delight says it all\n",
              "3  looking secret ingredient robitussin believe f...         cough medicine\n",
              "4  great taffy great price wide assortment yummy ...            great taffy"
            ]
          },
          "metadata": {
            "tags": []
          },
          "execution_count": 42
        }
      ]
    },
    {
      "cell_type": "markdown",
      "metadata": {
        "id": "4zO5Kkqeu4fL"
      },
      "source": [
        "### 9) seq2seq를 위해 디코더에 시작토큰, 종료토큰 추가"
      ]
    },
    {
      "cell_type": "code",
      "metadata": {
        "colab": {
          "base_uri": "https://localhost:8080/",
          "height": 204
        },
        "id": "Tm1VR-52uwR6",
        "outputId": "c1d86db3-2da7-4676-e875-c41c4c5fa613"
      },
      "source": [
        "data['Summary'] = data['Summary'].apply(lambda x : 'sostoken ' + x + ' eostoken')\n",
        "\n",
        "data.head()"
      ],
      "execution_count": 43,
      "outputs": [
        {
          "output_type": "execute_result",
          "data": {
            "text/html": [
              "<div>\n",
              "<style scoped>\n",
              "    .dataframe tbody tr th:only-of-type {\n",
              "        vertical-align: middle;\n",
              "    }\n",
              "\n",
              "    .dataframe tbody tr th {\n",
              "        vertical-align: top;\n",
              "    }\n",
              "\n",
              "    .dataframe thead th {\n",
              "        text-align: right;\n",
              "    }\n",
              "</style>\n",
              "<table border=\"1\" class=\"dataframe\">\n",
              "  <thead>\n",
              "    <tr style=\"text-align: right;\">\n",
              "      <th></th>\n",
              "      <th>Text</th>\n",
              "      <th>Summary</th>\n",
              "    </tr>\n",
              "  </thead>\n",
              "  <tbody>\n",
              "    <tr>\n",
              "      <th>0</th>\n",
              "      <td>bought several vitality canned dog food produc...</td>\n",
              "      <td>sostoken good quality dog food eostoken</td>\n",
              "    </tr>\n",
              "    <tr>\n",
              "      <th>1</th>\n",
              "      <td>product arrived labeled jumbo salted peanuts p...</td>\n",
              "      <td>sostoken not as advertised eostoken</td>\n",
              "    </tr>\n",
              "    <tr>\n",
              "      <th>2</th>\n",
              "      <td>confection around centuries light pillowy citr...</td>\n",
              "      <td>sostoken delight says it all eostoken</td>\n",
              "    </tr>\n",
              "    <tr>\n",
              "      <th>3</th>\n",
              "      <td>looking secret ingredient robitussin believe f...</td>\n",
              "      <td>sostoken cough medicine eostoken</td>\n",
              "    </tr>\n",
              "    <tr>\n",
              "      <th>4</th>\n",
              "      <td>great taffy great price wide assortment yummy ...</td>\n",
              "      <td>sostoken great taffy eostoken</td>\n",
              "    </tr>\n",
              "  </tbody>\n",
              "</table>\n",
              "</div>"
            ],
            "text/plain": [
              "                                                Text                                  Summary\n",
              "0  bought several vitality canned dog food produc...  sostoken good quality dog food eostoken\n",
              "1  product arrived labeled jumbo salted peanuts p...      sostoken not as advertised eostoken\n",
              "2  confection around centuries light pillowy citr...    sostoken delight says it all eostoken\n",
              "3  looking secret ingredient robitussin believe f...         sostoken cough medicine eostoken\n",
              "4  great taffy great price wide assortment yummy ...            sostoken great taffy eostoken"
            ]
          },
          "metadata": {
            "tags": []
          },
          "execution_count": 43
        }
      ]
    },
    {
      "cell_type": "code",
      "metadata": {
        "id": "GpRCTijcvNJi"
      },
      "source": [
        "text_data = list(data['Text'])\n",
        "summary_data = list(data['Summary'])"
      ],
      "execution_count": 44,
      "outputs": []
    },
    {
      "cell_type": "markdown",
      "metadata": {
        "id": "O31BJX9avZt3"
      },
      "source": [
        "### 10) 데이터 분리"
      ]
    },
    {
      "cell_type": "code",
      "metadata": {
        "colab": {
          "base_uri": "https://localhost:8080/"
        },
        "id": "0AXYJBK4vYoP",
        "outputId": "d398547f-74a6-45b8-ceeb-61e01f3371e9"
      },
      "source": [
        "X_train, X_test, y_train, y_test = train_test_split(text_data, summary_data,\n",
        "                                                    test_size = .2,\n",
        "                                                    random_state = 2046,\n",
        "                                                    shuffle = True)\n",
        "\n",
        "len(X_train), len(y_train), len(X_test), len(y_test)"
      ],
      "execution_count": 45,
      "outputs": [
        {
          "output_type": "execute_result",
          "data": {
            "text/plain": [
              "(56608, 56608, 14153, 14153)"
            ]
          },
          "metadata": {
            "tags": []
          },
          "execution_count": 45
        }
      ]
    },
    {
      "cell_type": "markdown",
      "metadata": {
        "id": "mh5qAukSv8aC"
      },
      "source": [
        "### 11) 정수인코딩"
      ]
    },
    {
      "cell_type": "markdown",
      "metadata": {
        "id": "a47_r8DK0Uoz"
      },
      "source": [
        "#### (1) X Data"
      ]
    },
    {
      "cell_type": "code",
      "metadata": {
        "id": "UjN_Nt1gvuPB"
      },
      "source": [
        "src_tokenizer = Tokenizer()\n",
        "src_tokenizer.fit_on_texts(X_train)"
      ],
      "execution_count": 46,
      "outputs": []
    },
    {
      "cell_type": "markdown",
      "metadata": {
        "id": "MZV4kkvHw2bn"
      },
      "source": [
        "- 등장빈도수가 낮은 단어들 배제"
      ]
    },
    {
      "cell_type": "code",
      "metadata": {
        "colab": {
          "base_uri": "https://localhost:8080/"
        },
        "id": "nSD0JoE3w1km",
        "outputId": "d6711132-392e-4899-aaf9-00035f33e4ae"
      },
      "source": [
        "threshold = 7\n",
        "total_cnt = len(src_tokenizer.word_index) # 단어의 수\n",
        "rare_cnt = 0    # 등장 빈도수가 threshold보다 작은 단어의 개수를 카운트\n",
        "total_freq = 0  # 훈련 데이터의 전체 단어 빈도수 총 합\n",
        "rare_freq = 0   # 등장 빈도수가 threshold보다 작은 단어의 등장 빈도수의 총 합\n",
        "\n",
        "# 단어와 빈도수의 쌍(pair)을 key와 value로 받는다.\n",
        "for key, value in src_tokenizer.word_counts.items():\n",
        "    total_freq = total_freq + value\n",
        "\n",
        "    # 단어의 등장 빈도수가 threshold보다 작으면\n",
        "    if(value < threshold):\n",
        "        rare_cnt += 1\n",
        "        rare_freq = rare_freq + value\n",
        "\n",
        "print('단어 집합(vocabulary)의 크기 :',total_cnt)\n",
        "print('등장 빈도가 %s번 이하인 희귀 단어의 수: %s'%(threshold, rare_cnt))\n",
        "print('단어 집합에서 희귀 단어를 제외시킬 경우의 단어 집합의 크기 %s'%(total_cnt - rare_cnt))\n",
        "print(\"단어 집합에서 희귀 단어의 비율:\", (rare_cnt / total_cnt)*100)\n",
        "print(\"전체 등장 빈도에서 희귀 단어 등장 빈도 비율:\", (rare_freq / total_freq)*100)"
      ],
      "execution_count": 47,
      "outputs": [
        {
          "output_type": "stream",
          "text": [
            "단어 집합(vocabulary)의 크기 : 34925\n",
            "등장 빈도가 7번 이하인 희귀 단어의 수: 25866\n",
            "단어 집합에서 희귀 단어를 제외시킬 경우의 단어 집합의 크기 9059\n",
            "단어 집합에서 희귀 단어의 비율: 74.06156048675734\n",
            "전체 등장 빈도에서 희귀 단어 등장 빈도 비율: 3.1506456395233626\n"
          ],
          "name": "stdout"
        }
      ]
    },
    {
      "cell_type": "markdown",
      "metadata": {
        "id": "cA45CM5vw0uH"
      },
      "source": [
        "- 희귀단어들은 단어 집합에서 46%를 차지하지만, 실제 등장빈도로 차지하는 비중은 3.23%로 매우 낮음"
      ]
    },
    {
      "cell_type": "code",
      "metadata": {
        "id": "-cD9yTFfwzDj"
      },
      "source": [
        "src_vocab = 9000\n",
        "\n",
        "src_tokenizer = Tokenizer(num_words = src_vocab)\n",
        "src_tokenizer.fit_on_texts(X_train)\n",
        "\n",
        "# 텍스트 시퀀스를 정수 시퀀스로 변환\n",
        "X_train = src_tokenizer.texts_to_sequences(X_train)\n",
        "X_test = src_tokenizer.texts_to_sequences(X_test)"
      ],
      "execution_count": 48,
      "outputs": []
    },
    {
      "cell_type": "code",
      "metadata": {
        "colab": {
          "base_uri": "https://localhost:8080/"
        },
        "id": "_M7gW94QzcoU",
        "outputId": "f81c4bb7-8190-4b7f-bdd2-e796b5694947"
      },
      "source": [
        "print(X_train[:5])"
      ],
      "execution_count": 49,
      "outputs": [
        {
          "output_type": "stream",
          "text": [
            "[[98, 24, 36, 202, 403, 309, 434, 302, 21, 482, 1132, 99, 2, 19], [197, 50, 113, 51, 1232, 8, 548, 744, 1096, 2293], [7, 1036, 1232, 2607, 77, 38, 22, 1036, 7458, 4050, 292, 376, 1376, 3, 652, 2380, 231, 227, 1768], [11, 244, 747, 4, 561, 41, 40, 158, 1394, 790, 125, 78, 43, 226, 26, 561, 1103, 2878, 3772, 388, 4757, 3662, 4435, 11, 42, 228, 19, 112, 162, 147, 622, 821, 262, 147, 10, 54, 16, 351, 262, 233, 56], [2, 5, 67, 1, 372, 21, 1, 123, 10, 325, 123, 10, 7, 73, 290, 1282, 109, 1069, 361, 6, 1118, 222, 19, 5, 325]]\n"
          ],
          "name": "stdout"
        }
      ]
    },
    {
      "cell_type": "markdown",
      "metadata": {
        "id": "XrrXgiA_0YJo"
      },
      "source": [
        "#### (2) y Data"
      ]
    },
    {
      "cell_type": "code",
      "metadata": {
        "id": "sCBp4aj9zfCl"
      },
      "source": [
        "tar_tokenizer = Tokenizer()\n",
        "tar_tokenizer.fit_on_texts(y_train)"
      ],
      "execution_count": 51,
      "outputs": []
    },
    {
      "cell_type": "code",
      "metadata": {
        "colab": {
          "base_uri": "https://localhost:8080/"
        },
        "id": "k7gS0Rhv0eK9",
        "outputId": "a37bf018-afd2-4677-9190-d28a0599073c"
      },
      "source": [
        "threshold = 5\n",
        "total_cnt = len(tar_tokenizer.word_index) # 단어의 수\n",
        "rare_cnt = 0    # 등장 빈도수가 threshold보다 작은 단어의 개수를 카운트\n",
        "total_freq = 0  # 훈련 데이터의 전체 단어 빈도수 총 합\n",
        "rare_freq = 0   # 등장 빈도수가 threshold보다 작은 단어의 등장 빈도수의 총 합\n",
        "\n",
        "# 단어와 빈도수의 쌍(pair)을 key와 value로 받는다.\n",
        "for key, value in tar_tokenizer.word_counts.items():\n",
        "    total_freq = total_freq + value\n",
        "\n",
        "    # 단어의 등장 빈도수가 threshold보다 작으면\n",
        "    if(value < threshold):\n",
        "        rare_cnt = rare_cnt + 1\n",
        "        rare_freq = rare_freq + value\n",
        "\n",
        "print('단어 집합(vocabulary)의 크기 :',total_cnt)\n",
        "print('등장 빈도가 %s번 이하인 희귀 단어의 수: %s'%(threshold, rare_cnt))\n",
        "print('단어 집합에서 희귀 단어를 제외시킬 경우의 단어 집합의 크기 %s'%(total_cnt - rare_cnt))\n",
        "print(\"단어 집합에서 희귀 단어의 비율:\", (rare_cnt / total_cnt)*100)\n",
        "print(\"전체 등장 빈도에서 희귀 단어 등장 빈도 비율:\", (rare_freq / total_freq)*100)"
      ],
      "execution_count": 55,
      "outputs": [
        {
          "output_type": "stream",
          "text": [
            "단어 집합(vocabulary)의 크기 : 11047\n",
            "등장 빈도가 5번 이하인 희귀 단어의 수: 8159\n",
            "단어 집합에서 희귀 단어를 제외시킬 경우의 단어 집합의 크기 2888\n",
            "단어 집합에서 희귀 단어의 비율: 73.85715578890196\n",
            "전체 등장 빈도에서 희귀 단어 등장 빈도 비율: 4.057406610752256\n"
          ],
          "name": "stdout"
        }
      ]
    },
    {
      "cell_type": "code",
      "metadata": {
        "id": "ME9EyD8f5ArX"
      },
      "source": [
        "tar_vocab = 2500\n",
        "\n",
        "tar_tokenizer = Tokenizer(num_words = tar_vocab)\n",
        "tar_tokenizer.fit_on_texts(y_train)\n",
        "\n",
        "# 텍스트 시퀀스를 정수 시퀀스로 변환\n",
        "y_train = tar_tokenizer.texts_to_sequences(y_train) \n",
        "y_test = tar_tokenizer.texts_to_sequences(y_test)"
      ],
      "execution_count": 56,
      "outputs": []
    },
    {
      "cell_type": "code",
      "metadata": {
        "colab": {
          "base_uri": "https://localhost:8080/"
        },
        "id": "RciIyUiAAa8e",
        "outputId": "11c83b5c-49fe-4a0f-bdc5-b4d010a814d8"
      },
      "source": [
        "y_train"
      ],
      "execution_count": 57,
      "outputs": [
        {
          "output_type": "execute_result",
          "data": {
            "text/plain": [
              "[[1, 6, 160, 85, 174, 2],\n",
              " [1, 3, 26, 2],\n",
              " [1, 42, 2],\n",
              " [1, 167, 20, 2],\n",
              " [1, 458, 593, 2],\n",
              " [1, 925, 168, 22, 118, 2],\n",
              " [1, 223, 9, 6, 22, 61, 2],\n",
              " [1, 27, 2],\n",
              " [1, 1389, 508, 837, 130, 2],\n",
              " [1, 3, 60, 2],\n",
              " [1, 3, 494, 108, 2],\n",
              " [1, 373, 2],\n",
              " [1, 926, 4, 13, 2],\n",
              " [1, 366, 410, 1477, 2],\n",
              " [1, 10, 15, 101, 2],\n",
              " [1, 1011, 1012, 338, 61, 386, 2],\n",
              " [1, 6, 476, 2],\n",
              " [1, 54, 2],\n",
              " [1, 21, 520, 26, 2],\n",
              " [1, 12, 19, 48, 264, 2263, 23, 1013, 1773, 2],\n",
              " [1, 3, 16, 2],\n",
              " [1, 469, 88, 984, 949, 2],\n",
              " [1, 73, 18, 5, 31, 2],\n",
              " [1, 403, 2],\n",
              " [1, 6, 43, 4, 26, 43, 1014, 7, 2],\n",
              " [1, 3, 38, 2],\n",
              " [1, 3, 1253, 18, 403, 1086, 320, 1774, 59, 2],\n",
              " [1, 1775, 360, 2],\n",
              " [1, 4, 20, 2],\n",
              " [1, 927, 2],\n",
              " [1, 1137, 3, 31, 2],\n",
              " [1, 42, 2],\n",
              " [1, 211, 34, 321, 95, 2],\n",
              " [1, 8, 341, 14, 2],\n",
              " [1, 1254, 818, 2],\n",
              " [1, 109, 97, 44, 1645, 2],\n",
              " [1, 9, 5, 270, 2],\n",
              " [1, 2],\n",
              " [1, 5, 8, 145, 138, 2],\n",
              " [1, 2264, 271, 2],\n",
              " [1, 11, 339, 1776, 37, 12, 2],\n",
              " [1, 107, 192, 4, 7, 2],\n",
              " [1, 3, 7, 159, 286, 2],\n",
              " [1, 10, 15, 2],\n",
              " [1, 3, 101, 21, 396, 2],\n",
              " [1, 32, 172, 1138, 9, 78, 161, 36, 2],\n",
              " [1, 3, 329, 2],\n",
              " [1, 297, 142, 34, 421, 2],\n",
              " [1, 161, 1319, 2],\n",
              " [1, 25, 26, 2],\n",
              " [1, 3, 16, 54, 1547, 34, 283, 2],\n",
              " [1, 155, 2],\n",
              " [1, 24, 60, 2],\n",
              " [1, 361, 65, 775, 2],\n",
              " [1, 3, 26, 76, 119, 2],\n",
              " [1, 3, 75, 33, 2],\n",
              " [1, 4, 38, 2],\n",
              " [1, 47, 92, 2],\n",
              " [1, 2],\n",
              " [1, 107, 9, 61, 2],\n",
              " [1, 257, 81, 11, 21, 32, 2],\n",
              " [1, 573, 51, 2],\n",
              " [1, 17, 9, 1139, 55, 2],\n",
              " [1, 701, 9, 448, 735, 2],\n",
              " [1, 5, 8, 2],\n",
              " [1, 49, 2],\n",
              " [1, 47, 9, 236, 427, 18, 6, 374, 2],\n",
              " [1, 54, 205, 108, 2],\n",
              " [1, 49, 2],\n",
              " [1, 49, 2],\n",
              " [1, 17, 9, 134, 2],\n",
              " [1, 3, 287, 68, 2],\n",
              " [1, 84, 55, 9, 156, 4, 2],\n",
              " [1, 90, 4, 151, 67, 93, 2],\n",
              " [1, 776, 36, 171, 2],\n",
              " [1, 67, 206, 1197, 24, 68, 2],\n",
              " [1, 3, 127, 7, 11, 702, 2],\n",
              " [1, 17, 2],\n",
              " [1, 39, 1548, 32, 2],\n",
              " [1, 10, 28, 2],\n",
              " [1, 17, 2],\n",
              " [1, 54, 69, 2],\n",
              " [1, 1140, 2],\n",
              " [1, 521, 644, 373, 311, 2],\n",
              " [1, 42, 2],\n",
              " [1, 58, 928, 2],\n",
              " [1, 36, 99, 104, 2062, 6, 237, 499, 2],\n",
              " [1, 375, 24, 33, 2],\n",
              " [1, 168, 22, 2265, 2],\n",
              " [1, 49, 2],\n",
              " [1, 89, 18, 65, 19, 5, 1646, 2],\n",
              " [1, 1647, 74, 2],\n",
              " [1, 40, 27, 2],\n",
              " [1, 1549, 218, 182, 2],\n",
              " [1, 250, 6, 4, 2],\n",
              " [1, 193, 2],\n",
              " [1, 29, 756, 33, 2],\n",
              " [1, 3, 1909, 76, 2],\n",
              " [1, 721, 890, 2],\n",
              " [1, 4, 67, 229, 12, 279, 70, 2063, 2],\n",
              " [1, 184, 703, 2],\n",
              " [1, 48, 30, 838, 2],\n",
              " [1, 574, 5, 454, 543, 252, 16, 2],\n",
              " [1, 10, 15, 14, 2],\n",
              " [1, 616, 284, 62, 7, 85, 950, 2],\n",
              " [1, 343, 2],\n",
              " [1, 29, 4, 7, 46, 5, 122, 9, 47, 2],\n",
              " [1, 109, 1255, 2],\n",
              " [1, 864, 839, 292, 2],\n",
              " [1, 3, 2],\n",
              " [1, 3, 67, 9, 31, 2],\n",
              " [1, 304, 330, 111, 30, 15, 2],\n",
              " [1, 383, 25, 2],\n",
              " [1, 264, 196, 2],\n",
              " [1, 985, 11, 459, 9, 80, 30, 15, 2],\n",
              " [1, 11, 24, 32, 60, 2],\n",
              " [1, 8, 13, 7, 31, 2],\n",
              " [1, 8, 13, 104, 2],\n",
              " [1, 50, 736, 348, 274, 248, 544, 2],\n",
              " [1, 4, 14, 44, 124, 2266, 2],\n",
              " [1, 4, 18, 186, 2],\n",
              " [1, 3, 71, 2],\n",
              " [1, 3, 66, 2],\n",
              " [1, 76, 207, 155, 2],\n",
              " [1, 25, 2],\n",
              " [1, 11, 11, 11, 2],\n",
              " [1, 127, 2],\n",
              " [1, 3, 2],\n",
              " [1, 17, 18, 22, 1015, 2],\n",
              " [1, 1390, 7, 78, 2],\n",
              " [1, 49, 49, 49, 2],\n",
              " [1, 49, 3, 341, 14, 2],\n",
              " [1, 57, 30, 500, 2],\n",
              " [1, 4, 2],\n",
              " [1, 3, 82, 2],\n",
              " [1, 131, 1320, 34, 522, 865, 2],\n",
              " [1, 6, 1141, 1040, 1198, 2],\n",
              " [1, 27, 30, 5, 205, 449, 135, 43, 617, 2],\n",
              " [1, 864, 839, 2],\n",
              " [1, 51, 129, 122, 230, 44, 15, 238, 2],\n",
              " [1, 1910, 70, 777, 31, 2],\n",
              " [1, 3, 16, 214, 177, 202, 2],\n",
              " [1, 10, 10, 10, 2],\n",
              " [1, 6, 21, 107, 231, 14, 2],\n",
              " [1, 3, 16, 2],\n",
              " [1, 3, 2],\n",
              " [1, 1911, 34, 2],\n",
              " [1, 3, 60, 2],\n",
              " [1, 523, 2064, 60, 2],\n",
              " [1, 4, 38, 2],\n",
              " [1, 6, 40, 3, 2],\n",
              " [1, 227, 7, 1648, 6, 441, 65, 607, 2],\n",
              " [1, 629, 2],\n",
              " [1, 3, 20, 151, 31, 2],\n",
              " [1, 85, 951, 1912, 15, 16, 2],\n",
              " [1, 50, 1321, 46, 2],\n",
              " [1, 293, 81, 2],\n",
              " [1, 29, 113, 9, 4, 31, 2],\n",
              " [1, 3, 67, 9, 31, 2],\n",
              " [1, 4, 87, 46, 17, 14, 2],\n",
              " [1, 88, 6, 2065, 2],\n",
              " [1, 42, 2],\n",
              " [1, 2],\n",
              " [1, 1649, 18, 4, 2],\n",
              " [1, 4, 67, 7, 112, 31, 2],\n",
              " [1, 3, 2],\n",
              " [1, 107, 18, 225, 13, 20, 2],\n",
              " [1, 424, 57, 112, 79, 6, 92, 169, 2],\n",
              " [1, 2267, 645, 1199, 2],\n",
              " [1, 42, 2],\n",
              " [1, 40, 4, 2],\n",
              " [1, 2],\n",
              " [1, 186, 9, 17, 2],\n",
              " [1, 1200, 2],\n",
              " [1, 8, 410, 175, 35, 2],\n",
              " [1, 288, 292, 2],\n",
              " [1, 477, 2],\n",
              " [1, 10, 12, 2],\n",
              " [1, 155, 2],\n",
              " [1, 404, 2],\n",
              " [1, 3, 331, 2],\n",
              " [1, 543, 17, 9, 523, 2],\n",
              " [1, 8, 349, 35, 2],\n",
              " [1, 84, 55, 495, 2],\n",
              " [1, 230, 16, 840, 2],\n",
              " [1, 24, 68, 2],\n",
              " [1, 383, 3, 2],\n",
              " [1, 3, 411, 106, 1650, 320, 1478, 2],\n",
              " [1, 8, 19, 5, 8, 2],\n",
              " [1, 183, 19, 50, 95, 2],\n",
              " [1, 757, 118, 2],\n",
              " [1, 126, 819, 108, 2],\n",
              " [1, 5, 314, 13, 2],\n",
              " [1, 1651, 171, 83, 223, 2],\n",
              " [1, 47, 9, 29, 2],\n",
              " [1, 36, 61, 2],\n",
              " [1, 2],\n",
              " [1, 10, 12, 2],\n",
              " [1, 3, 14, 44, 3, 26, 2],\n",
              " [1, 106, 30, 2066, 2],\n",
              " [1, 758, 1256, 75, 60, 2],\n",
              " [1, 29, 2],\n",
              " [1, 5, 8, 2],\n",
              " [1, 3, 127, 2],\n",
              " [1, 29, 9, 180, 2],\n",
              " [1, 3, 280, 116, 2],\n",
              " [1, 12, 19, 78, 34, 391, 51, 1041, 59, 2],\n",
              " [1, 42, 13, 2],\n",
              " [1, 929, 1479, 2],\n",
              " [1, 19, 5, 8, 2],\n",
              " [1, 173, 4, 127, 2],\n",
              " [1, 190, 232, 11, 32, 81, 2],\n",
              " [1, 6, 248, 2],\n",
              " [1, 29, 52, 60, 2],\n",
              " [1, 2268, 255, 116, 2],\n",
              " [1, 23, 930, 229, 34, 251, 2],\n",
              " [1, 1550, 120, 6, 470, 305, 2],\n",
              " [1, 52, 362, 1777, 2],\n",
              " [1, 523, 2],\n",
              " [1, 11, 41, 30, 59, 2],\n",
              " [1, 17, 9, 184, 2],\n",
              " [1, 106, 30, 2066, 2],\n",
              " [1, 58, 329, 2],\n",
              " [1, 57, 3, 2],\n",
              " [1, 40, 4, 51, 111, 146, 5, 281, 398, 2],\n",
              " [1, 21, 180, 9, 184, 2],\n",
              " [1, 29, 18, 6, 43, 236, 43, 238, 2],\n",
              " [1, 5, 220, 386, 2],\n",
              " [1, 289, 312, 22, 20, 12, 188, 12, 2],\n",
              " [1, 65, 53, 952, 2],\n",
              " [1, 2],\n",
              " [1, 8, 185, 35, 2],\n",
              " [1, 1778, 2067, 2],\n",
              " [1, 3, 2],\n",
              " [1, 123, 24, 217, 1391, 2],\n",
              " [1, 10, 28, 841, 2],\n",
              " [1, 176, 355, 2],\n",
              " [1, 143, 28, 20, 50, 63, 953, 524, 2],\n",
              " [1, 23, 630, 34, 5, 338, 2],\n",
              " [1, 4, 16, 110, 840, 931, 805, 16, 618, 2],\n",
              " [1, 3, 18, 76, 2],\n",
              " [1, 932, 141, 2],\n",
              " [1, 986, 2269, 1913, 233, 7, 509, 41, 2],\n",
              " [1, 42, 14, 2],\n",
              " [1, 10, 15, 16, 106, 73, 2],\n",
              " [1, 11, 188, 10, 12, 2],\n",
              " [1, 670, 1779, 2],\n",
              " [1, 49, 2],\n",
              " [1, 53, 2],\n",
              " [1, 56, 128, 2],\n",
              " [1, 29, 47, 39, 2],\n",
              " [1, 3, 31, 3, 306, 2],\n",
              " [1, 47, 29, 39, 2],\n",
              " [1, 3, 16, 2],\n",
              " [1, 3, 271, 2],\n",
              " [1, 3, 47, 39, 2],\n",
              " [1, 3, 2],\n",
              " [1, 1042, 933, 2],\n",
              " [1, 344, 453, 43, 112, 2],\n",
              " [1, 4, 44, 13, 2],\n",
              " [1, 21, 509, 1256, 2],\n",
              " [1, 450, 283, 2],\n",
              " [1, 89, 6, 344, 2],\n",
              " [1, 123, 2068, 954, 37, 15, 267, 2],\n",
              " [1, 685, 2],\n",
              " [1, 573, 51, 7, 395, 1043, 275, 2],\n",
              " [1, 1780, 2],\n",
              " [1, 62, 157, 50, 2],\n",
              " [1, 72, 108, 2],\n",
              " [1, 4, 39, 2],\n",
              " [1, 1652, 520, 2],\n",
              " [1, 17, 2],\n",
              " [1, 11, 41, 32, 60, 190, 232, 2],\n",
              " [1, 25, 2],\n",
              " [1, 2069, 405, 1551, 2],\n",
              " [1, 1914, 130, 471, 460, 2],\n",
              " [1, 298, 202, 2],\n",
              " [1, 558, 2],\n",
              " [1, 28, 2],\n",
              " [1, 21, 4, 81, 2],\n",
              " [1, 47, 866, 2],\n",
              " [1, 11, 2],\n",
              " [1, 3, 26, 2],\n",
              " [1, 186, 360, 2],\n",
              " [1, 27, 78, 161, 234, 2],\n",
              " [1, 42, 2],\n",
              " [1, 3, 138, 2],\n",
              " [1, 4, 7, 5, 31, 2],\n",
              " [1, 3, 144, 7, 86, 2],\n",
              " [1, 4, 16, 2],\n",
              " [1, 11, 32, 208, 2],\n",
              " [1, 21, 235, 2],\n",
              " [1, 245, 441, 98, 45, 6, 704, 2],\n",
              " [1, 250, 42, 14, 2],\n",
              " [1, 3, 93, 2],\n",
              " [1, 3, 26, 2],\n",
              " [1, 11, 32, 13, 40, 232, 2],\n",
              " [1, 6, 109, 2],\n",
              " [1, 36, 61, 2],\n",
              " [1, 347, 2],\n",
              " [1, 489, 9, 17, 53, 127, 2],\n",
              " [1, 136, 34, 132, 2],\n",
              " [1, 2070, 23, 20, 2],\n",
              " [1, 1915, 671, 2],\n",
              " [1, 608, 209, 2],\n",
              " [1, 42, 136, 2],\n",
              " [1, 223, 2],\n",
              " [1, 3, 7, 2071, 2],\n",
              " [1, 987, 2],\n",
              " [1, 25, 472, 2],\n",
              " [1, 4, 16, 18, 163, 2072, 2],\n",
              " [1, 211, 2],\n",
              " [1, 806, 97, 165, 26, 2],\n",
              " [1, 28, 377, 64, 4, 2],\n",
              " [1, 434, 2],\n",
              " [1, 241, 117, 2],\n",
              " [1, 66, 14, 2],\n",
              " [1, 387, 12, 1392, 2],\n",
              " [1, 19, 2270, 88, 533, 2],\n",
              " [1, 2],\n",
              " [1, 10, 290, 2],\n",
              " [1, 89, 2],\n",
              " [1, 629, 88, 2],\n",
              " [1, 455, 23, 141, 2],\n",
              " [1, 17, 9, 1653, 1044, 2],\n",
              " [1, 53, 345, 1087, 2],\n",
              " [1, 134, 83, 9, 21, 701, 2],\n",
              " [1, 155, 2],\n",
              " [1, 10, 12, 2],\n",
              " [1, 955, 2],\n",
              " [1, 6, 92, 2],\n",
              " [1, 8, 24, 33, 62, 229, 2],\n",
              " [1, 12, 118, 2],\n",
              " [1, 34, 442, 2],\n",
              " [1, 3, 2],\n",
              " [1, 3, 7, 575, 2],\n",
              " [1, 3, 16, 2],\n",
              " [1, 161, 68, 988, 2],\n",
              " [1, 520, 177, 2],\n",
              " [1, 3, 345, 39, 33, 2],\n",
              " [1, 36, 99, 192, 576, 477, 2],\n",
              " [1, 155, 2],\n",
              " [1, 5, 8, 141, 35, 2],\n",
              " [1, 79, 6, 71, 15, 16, 2],\n",
              " [1, 48, 89, 2],\n",
              " [1, 56, 118, 88, 631, 113, 101, 2],\n",
              " [1, 361, 65, 12, 22, 100, 2],\n",
              " [1, 3, 39, 1142, 2],\n",
              " [1, 220, 298, 137, 2],\n",
              " [1, 1552, 44, 110, 989, 2],\n",
              " [1, 51, 30, 577, 274, 205, 1143, 2],\n",
              " [1, 143, 722, 104, 3, 2],\n",
              " [1, 25, 280, 117, 2],\n",
              " [1, 2],\n",
              " [1, 142, 11, 24, 632, 2],\n",
              " [1, 26, 23, 2],\n",
              " [1, 313, 40, 225, 66, 2],\n",
              " [1, 17, 2],\n",
              " [1, 3, 2],\n",
              " [1, 392, 672, 2],\n",
              " [1, 704, 1480, 2],\n",
              " [1, 15, 1393, 19, 42, 46, 1553, 2],\n",
              " [1, 224, 2],\n",
              " [1, 1144, 2],\n",
              " [1, 40, 27, 2],\n",
              " [1, 258, 194, 2],\n",
              " [1, 46, 150, 9, 510, 398, 2],\n",
              " [1, 77, 23, 376, 76, 2],\n",
              " [1, 5, 807, 340, 2],\n",
              " [1, 990, 559, 305, 95, 2],\n",
              " [1, 90, 4, 113, 2],\n",
              " [1, 151, 461, 2],\n",
              " [1, 6, 333, 1916, 2],\n",
              " [1, 867, 1145, 2271, 2],\n",
              " [1, 2272, 1654, 92, 2],\n",
              " [1, 57, 3, 2],\n",
              " [1, 17, 2],\n",
              " [1, 8, 74, 384, 18, 253, 2],\n",
              " [1, 1481, 14, 2],\n",
              " [1, 1146, 1655, 4, 2],\n",
              " [1, 578, 37, 28, 2],\n",
              " [1, 307, 2],\n",
              " [1, 49, 49, 9, 891, 49, 2],\n",
              " [1, 50, 63, 105, 126, 274, 2],\n",
              " [1, 98, 312, 12, 206, 2],\n",
              " [1, 1088, 12, 371, 2],\n",
              " [1, 12, 868, 2],\n",
              " [1, 579, 2],\n",
              " [1, 8, 92, 778, 23, 2],\n",
              " [1, 3, 2],\n",
              " [1, 6, 2273, 306, 13, 2],\n",
              " [1, 3, 31, 9, 26, 2],\n",
              " [1, 56, 9, 107, 2],\n",
              " [1, 132, 100, 22, 85, 435, 2],\n",
              " [1, 3, 425, 147, 2],\n",
              " [1, 265, 7, 415, 50, 2],\n",
              " [1, 109, 2],\n",
              " [1, 58, 2],\n",
              " [1, 1554, 1781, 6, 1016, 2],\n",
              " [1, 205, 44, 271, 2],\n",
              " [1, 17, 892, 2],\n",
              " [1, 759, 2],\n",
              " [1, 545, 633, 566, 1147, 148, 7, 2],\n",
              " [1, 22, 62, 956, 15, 2],\n",
              " [1, 89, 2],\n",
              " [1, 586, 586, 586, 2],\n",
              " [1, 297, 15, 19, 141, 2],\n",
              " [1, 132, 6, 2],\n",
              " [1, 21, 8, 462, 686, 46, 5, 323, 2],\n",
              " [1, 6, 69, 18, 6, 3, 2],\n",
              " [1, 43, 412, 2],\n",
              " [1, 1394, 2],\n",
              " [1, 934, 205, 2],\n",
              " [1, 546, 2],\n",
              " [1, 3, 2],\n",
              " [1, 4, 113, 2],\n",
              " [1, 6, 15, 77, 2],\n",
              " [1, 5, 8, 294, 547, 1201, 51, 132, 71, 2],\n",
              " [1, 2],\n",
              " [1, 2],\n",
              " [1, 268, 2],\n",
              " [1, 350, 893, 2],\n",
              " [1, 646, 119, 226, 2],\n",
              " [1, 894, 808, 153, 2],\n",
              " [1, 4, 67, 9, 20, 18, 217, 86, 705, 2],\n",
              " [1, 473, 1395, 490, 1017, 454, 235, 2],\n",
              " [1, 50, 736, 5, 171, 398, 348, 2],\n",
              " [1, 48, 90, 4, 2],\n",
              " [1, 49, 1202, 2],\n",
              " [1, 455, 23, 385, 1782, 7, 397, 2],\n",
              " [1, 403, 403, 403, 2],\n",
              " [1, 143, 2],\n",
              " [1, 197, 52, 93, 2],\n",
              " [1, 58, 175, 935, 2],\n",
              " [1, 1396, 246, 7, 11, 24, 2],\n",
              " [1, 28, 45, 257, 2],\n",
              " [1, 193, 2],\n",
              " [1, 324, 292, 2],\n",
              " [1, 3, 158, 51, 30, 74, 13, 67, 2],\n",
              " [1, 17, 2],\n",
              " [1, 723, 2],\n",
              " [1, 5, 8, 93, 35, 2],\n",
              " [1, 534, 2274, 2],\n",
              " [1, 12, 19, 1018, 2],\n",
              " [1, 6, 7, 416, 1555, 2],\n",
              " [1, 842, 84, 55, 9, 4, 2],\n",
              " [1, 1397, 13, 1257, 34, 26, 2],\n",
              " [1, 6, 69, 2],\n",
              " [1, 6, 567, 8, 26, 2],\n",
              " [1, 36, 61, 2],\n",
              " [1, 1556, 2],\n",
              " [1, 8, 103, 92, 1045, 2],\n",
              " [1, 49, 2],\n",
              " [1, 128, 1557, 54, 2],\n",
              " [1, 25, 895, 92, 2],\n",
              " [1, 224, 2],\n",
              " [1, 1656, 298, 2],\n",
              " [1, 118, 2],\n",
              " [1, 276, 7, 82, 2275, 2],\n",
              " [1, 11, 525, 162, 30, 286, 187, 2],\n",
              " [1, 77, 23, 123, 32, 526, 2],\n",
              " [1, 1398, 609, 2],\n",
              " [1, 58, 16, 129, 1148, 22, 149, 105, 2],\n",
              " [1, 443, 331, 270, 2],\n",
              " [1, 3, 673, 20, 2],\n",
              " [1, 120, 6, 20, 4, 2],\n",
              " [1, 40, 29, 2],\n",
              " [1, 77, 23, 11, 501, 2],\n",
              " [1, 218, 182, 60, 7, 41, 2],\n",
              " [1, 73, 2],\n",
              " [1, 8, 7, 1657, 2],\n",
              " [1, 8, 62, 229, 2],\n",
              " [1, 21, 4, 16, 2],\n",
              " [1, 126, 18, 25, 2],\n",
              " [1, 15, 106, 2],\n",
              " [1, 220, 177, 2],\n",
              " [1, 90, 4, 2],\n",
              " [1, 3, 95, 22, 594, 5, 288, 2],\n",
              " [1, 869, 138, 1558, 1087, 2],\n",
              " [1, 155, 2],\n",
              " [1, 931, 162, 46, 760, 299, 2],\n",
              " [1, 4, 13, 6, 36, 107, 2],\n",
              " [1, 158, 150, 9, 595, 2070, 2],\n",
              " [1, 737, 1149, 2],\n",
              " [1, 54, 426, 98, 45, 6, 674, 2],\n",
              " [1, 5, 8, 2],\n",
              " [1, 7, 2073, 4, 87, 2],\n",
              " [1, 159, 1013, 1399, 1400, 2],\n",
              " [1, 1258, 1559, 2],\n",
              " [1, 3, 16, 9, 137, 2],\n",
              " [1, 10, 290, 2],\n",
              " [1, 98, 135, 12, 2],\n",
              " [1, 21, 21, 29, 2],\n",
              " [1, 256, 2],\n",
              " [1, 104, 2],\n",
              " [1, 6, 4, 93, 2],\n",
              " [1, 1046, 324, 5, 182, 2],\n",
              " [1, 11, 351, 37, 37, 2],\n",
              " [1, 608, 2],\n",
              " [1, 843, 133, 294, 634, 88, 15, 138, 2],\n",
              " [1, 10, 15, 14, 2],\n",
              " [1, 56, 26, 214, 300, 2],\n",
              " [1, 844, 124, 192, 2],\n",
              " [1, 675, 101, 7, 5, 2],\n",
              " [1, 635, 44, 2074, 2],\n",
              " [1, 235, 478, 2],\n",
              " [1, 314, 33, 2],\n",
              " [1, 61, 1259, 779, 2],\n",
              " [1, 56, 9, 406, 2],\n",
              " [1, 21, 272, 2],\n",
              " [1, 3, 13, 2],\n",
              " [1, 2],\n",
              " [1, 3, 60, 6, 36, 1649, 2],\n",
              " [1, 73, 2],\n",
              " [1, 3, 87, 2],\n",
              " [1, 1658, 2],\n",
              " [1, 125, 12, 19, 575, 2],\n",
              " [1, 3, 234, 2],\n",
              " [1, 3, 16, 2],\n",
              " [1, 579, 579, 579, 2],\n",
              " [1, 200, 40, 1089, 46, 28, 2],\n",
              " [1, 11, 32, 274, 2],\n",
              " [1, 24, 428, 233, 2],\n",
              " [1, 43, 154, 25, 14, 2],\n",
              " [1, 6, 422, 23, 247, 1090, 138, 2],\n",
              " [1, 11, 1260, 10, 15, 3, 60, 2],\n",
              " [1, 3, 166, 94, 14, 2],\n",
              " [1, 3, 31, 2],\n",
              " [1, 130, 132, 100, 1783, 2],\n",
              " [1, 122, 635, 69, 1091, 845, 2],\n",
              " [1, 69, 20, 21, 268, 2],\n",
              " [1, 3, 20, 2],\n",
              " [1, 219, 17, 2],\n",
              " [1, 27, 2],\n",
              " [1, 155, 2],\n",
              " [1, 11, 459, 896, 12, 30, 175, 2],\n",
              " [1, 184, 9, 17, 47, 93, 2],\n",
              " [1, 96, 2],\n",
              " [1, 20, 4, 3, 300, 2],\n",
              " [1, 5, 8, 535, 1150, 92, 35, 2],\n",
              " [1, 11, 41, 10, 193, 2],\n",
              " [1, 2075, 1401, 1482, 2],\n",
              " [1, 185, 46, 575, 1659, 1047, 53, 2],\n",
              " [1, 1560, 738, 2],\n",
              " [1, 2276, 44, 52, 9, 397, 2],\n",
              " [1, 4, 16, 2],\n",
              " [1, 47, 9, 2],\n",
              " [1, 21, 215, 9, 2],\n",
              " [1, 27, 2],\n",
              " [1, 10, 5, 16, 18, 177, 991, 2],\n",
              " [1, 77, 23, 11, 32, 14, 897, 2],\n",
              " [1, 11, 24, 308, 12, 2],\n",
              " [1, 1402, 49, 2277, 2],\n",
              " [1, 27, 2],\n",
              " [1, 54, 1261, 12, 19, 34, 5, 2],\n",
              " [1, 27, 2],\n",
              " [1, 60, 2],\n",
              " [1, 484, 20, 2],\n",
              " [1, 173, 134, 39, 2],\n",
              " [1, 120, 65, 12, 511, 2],\n",
              " [1, 98, 45, 399, 44, 5, 2],\n",
              " [1, 11, 24, 37, 28, 2],\n",
              " [1, 8, 24, 33, 2],\n",
              " [1, 6, 160, 5, 568, 2],\n",
              " [1, 58, 2],\n",
              " [1, 28, 45, 4, 18, 2],\n",
              " [1, 325, 116, 112, 57, 4, 2],\n",
              " [1, 12, 19, 4, 22, 100, 230, 2],\n",
              " [1, 11, 32, 491, 2],\n",
              " [1, 10, 12, 2],\n",
              " [1, 780, 870, 2],\n",
              " [1, 25, 636, 7, 1262, 197, 2],\n",
              " [1, 55, 163, 2],\n",
              " [1, 27, 218, 182, 68, 2],\n",
              " [1, 383, 4, 2],\n",
              " [1, 8, 113, 8, 31, 2],\n",
              " [1, 6, 190, 5, 398, 2],\n",
              " [1, 107, 548, 13, 2],\n",
              " [1, 17, 9, 1561, 2],\n",
              " [1, 289, 187, 2],\n",
              " [1, 4, 18, 6, 169, 2],\n",
              " [1, 83, 22, 992, 4, 87, 2],\n",
              " [1, 52, 145, 138, 2],\n",
              " [1, 224, 2],\n",
              " [1, 6, 112, 3, 2],\n",
              " [1, 48, 65, 492, 2],\n",
              " [1, 21, 1203, 898, 1779, 2],\n",
              " [1, 48, 89, 247, 13, 2],\n",
              " [1, 3, 1263, 2],\n",
              " [1, 48, 42, 2],\n",
              " [1, 56, 1204, 417, 26, 2],\n",
              " [1, 3, 84, 9, 502, 55, 60, 2],\n",
              " [1, 58, 127, 2],\n",
              " [1, 493, 273, 2],\n",
              " [1, 5, 954, 1088, 899, 118, 2],\n",
              " [1, 37, 4, 2278, 2],\n",
              " [1, 4, 280, 2],\n",
              " [1, 25, 14, 2],\n",
              " [1, 167, 9, 549, 2],\n",
              " [1, 809, 2],\n",
              " [1, 1322, 1483, 52, 508, 5, 1784, 13, 2],\n",
              " [1, 317, 2],\n",
              " [1, 4, 6, 3, 2],\n",
              " [1, 1562, 806, 97, 2],\n",
              " [1, 27, 269, 7, 806, 2],\n",
              " [1, 155, 2],\n",
              " [1, 11, 32, 258, 2],\n",
              " [1, 202, 780, 1205, 2],\n",
              " [1, 3, 127, 358, 2],\n",
              " [1, 3, 676, 267, 2],\n",
              " [1, 413, 1660, 49, 2],\n",
              " [1, 378, 19, 5, 248, 2],\n",
              " [1, 1323, 26, 2],\n",
              " [1, 485, 776, 429, 2],\n",
              " [1, 21, 4, 2],\n",
              " [1, 86, 55, 900, 170, 2],\n",
              " [1, 2279, 1661, 2],\n",
              " [1, 84, 55, 101, 2],\n",
              " [1, 25, 16, 7, 1662, 9, 205, 2],\n",
              " [1, 106, 7, 80, 2],\n",
              " [1, 58, 2],\n",
              " [1, 3, 7, 2],\n",
              " [1, 29, 18, 235, 2],\n",
              " [1, 21, 268, 2],\n",
              " [1, 29, 1264, 33, 2],\n",
              " [1, 28, 117, 45, 739, 70, 123, 295, 2],\n",
              " [1, 2280, 2],\n",
              " [1, 3, 26, 9, 300, 2],\n",
              " [1, 5, 121, 277, 23, 209, 111, 146, 2],\n",
              " [1, 57, 3, 2],\n",
              " [1, 10, 15, 2],\n",
              " [1, 17, 2],\n",
              " [1, 3, 20, 2],\n",
              " [1, 50, 63, 386, 81, 2],\n",
              " [1, 3, 87, 2],\n",
              " [1, 3, 16, 2],\n",
              " [1, 257, 269, 50, 63, 5, 871, 2],\n",
              " [1, 153, 2],\n",
              " [1, 54, 991, 3, 67, 2],\n",
              " [1, 1917, 2],\n",
              " [1, 83, 2],\n",
              " [1, 407, 7, 82, 2],\n",
              " [1, 4, 26, 2],\n",
              " [1, 91, 392, 187, 656, 202, 2],\n",
              " [1, 64, 64, 4, 2],\n",
              " [1, 5, 8, 101, 62, 35, 301, 2],\n",
              " [1, 677, 781, 2],\n",
              " [1, 10, 15, 2],\n",
              " [1, 42, 20, 79, 6, 149, 522, 334, 274, 2],\n",
              " [1, 95, 36, 126, 2],\n",
              " [1, 4, 38, 2],\n",
              " [1, 486, 2],\n",
              " [1, 73, 2],\n",
              " [1, 4, 16, 2],\n",
              " [1, 28, 45, 156, 1403, 2],\n",
              " [1, 54, 618, 503, 46, 5, 527, 2],\n",
              " [1, 10, 15, 82, 2],\n",
              " [1, 407, 7, 1092, 2],\n",
              " [1, 957, 231, 14, 2],\n",
              " [1, 2076, 22, 146, 105, 47, 2],\n",
              " [1, 168, 22, 165, 2077, 2078, 352, 2],\n",
              " [1, 657, 487, 5, 706, 2],\n",
              " [1, 64, 4, 2],\n",
              " [1, 1093, 27, 2],\n",
              " [1, 64, 4, 84, 55, 495, 2],\n",
              " [1, 846, 13, 74, 2],\n",
              " [1, 12, 114, 1018, 2],\n",
              " [1, 925, 126, 18, 17, 2],\n",
              " [1, 10, 59, 53, 7, 287, 2],\n",
              " [1, 1663, 79, 51, 436, 22, 444, 522, 105, 2],\n",
              " [1, 227, 18, 2272, 19, 50, 2],\n",
              " [1, 6, 56, 2],\n",
              " [1, 67, 20, 2],\n",
              " [1, 782, 4, 2],\n",
              " [1, 761, 2],\n",
              " [1, 2],\n",
              " [1, 275, 152, 39, 2],\n",
              " [1, 8, 495, 62, 157, 34, 305, 1094, 2],\n",
              " [1, 3, 140, 2],\n",
              " [1, 3, 52, 3, 127, 2],\n",
              " [1, 3, 2],\n",
              " [1, 3, 144, 22, 130, 2],\n",
              " [1, 150, 22, 2281, 2],\n",
              " [1, 54, 647, 955, 2],\n",
              " [1, 10, 223, 13, 2],\n",
              " [1, 17, 9, 56, 479, 2],\n",
              " [1, 345, 2282, 2],\n",
              " [1, 123, 32, 2],\n",
              " [1, 4, 20, 69, 87, 2],\n",
              " [1, 17, 2],\n",
              " [1, 2079, 11, 61, 1664, 34, 47, 95, 2],\n",
              " [1, 17, 2],\n",
              " [1, 42, 52, 2],\n",
              " [1, 1647, 130, 2],\n",
              " [1, 109, 44, 109, 820, 315, 2],\n",
              " [1, 47, 134, 275, 2],\n",
              " [1, 4, 38, 2],\n",
              " [1, 27, 2],\n",
              " [1, 8, 47, 427, 2],\n",
              " [1, 3, 958, 2],\n",
              " [1, 678, 724, 148, 14, 2],\n",
              " [1, 4, 74, 23, 933, 2],\n",
              " [1, 11, 41, 10, 28, 496, 2],\n",
              " [1, 5, 4, 5, 69, 9, 5, 2],\n",
              " [1, 11, 351, 37, 59, 2],\n",
              " [1, 3, 2],\n",
              " [1, 11, 24, 37, 15, 33, 2],\n",
              " [1, 42, 13, 2],\n",
              " [1, 569, 2080, 901, 175, 2],\n",
              " [1, 52, 13, 367, 761, 2],\n",
              " [1, 17, 417, 170, 2],\n",
              " [1, 11, 619, 37, 28, 587, 2],\n",
              " [1, 10, 59, 2],\n",
              " [1, 56, 148, 2],\n",
              " [1, 47, 1404, 2],\n",
              " [1, 15, 38, 19, 64, 4, 2],\n",
              " [1, 3, 33, 2],\n",
              " [1, 77, 23, 11, 32, 117, 2],\n",
              " [1, 121, 707, 172, 26, 112, 57, 227, 2],\n",
              " [1, 17, 2],\n",
              " [1, 3, 1206, 2],\n",
              " [1, 318, 1324, 550, 396, 148, 2],\n",
              " [1, 1095, 386, 81, 61, 959, 2],\n",
              " [1, 96, 2],\n",
              " [1, 50, 63, 1785, 2],\n",
              " [1, 610, 1918, 48, 2283, 2],\n",
              " [1, 11, 24, 511, 27, 2],\n",
              " [1, 2284, 110, 13, 1151, 2081, 2],\n",
              " [1, 3, 16, 2],\n",
              " [1, 3, 2],\n",
              " [1, 3, 24, 33, 2],\n",
              " [1, 4, 175, 2],\n",
              " [1, 27, 2],\n",
              " [1, 4, 16, 230, 2263, 2],\n",
              " [1, 3, 1265, 2],\n",
              " [1, 46, 82, 1484, 2],\n",
              " [1, 29, 2],\n",
              " [1, 40, 4, 48, 1919, 5, 1553, 2],\n",
              " [1, 588, 20, 158, 76, 36, 61, 2],\n",
              " [1, 333, 164, 2],\n",
              " [1, 3, 16, 2],\n",
              " [1, 8, 1266, 14, 35, 2],\n",
              " [1, 2082, 115, 551, 13, 2],\n",
              " [1, 5, 8, 84, 55, 463, 92, 2],\n",
              " [1, 122, 171, 395, 2],\n",
              " [1, 1786, 276, 7, 497, 55, 141, 2],\n",
              " [1, 17, 2],\n",
              " [1, 6, 4, 2],\n",
              " [1, 164, 164, 164, 2],\n",
              " [1, 620, 5, 8, 1485, 52, 302, 93, 35, 2],\n",
              " [1, 28, 45, 42, 2],\n",
              " [1, 3, 20, 3, 87, 2],\n",
              " [1, 41, 10, 12, 2],\n",
              " [1, 82, 2],\n",
              " [1, 230, 34, 871, 2],\n",
              " [1, 8, 20, 35, 2],\n",
              " [1, 10, 12, 2],\n",
              " [1, 211, 2],\n",
              " [1, 21, 29, 81, 2],\n",
              " [1, 5, 334, 259, 45, 99, 50, 2],\n",
              " [1, 3, 31, 9, 16, 2],\n",
              " [1, 40, 40, 2],\n",
              " [1, 560, 11, 24, 109, 9, 676, 2],\n",
              " [1, 53, 960, 18, 2],\n",
              " [1, 17, 2],\n",
              " [1, 77, 23, 5, 8, 181, 212, 1048, 437, 2],\n",
              " [1, 902, 30, 200, 34, 2],\n",
              " [1, 42, 326, 2],\n",
              " [1, 7, 11, 351, 961, 37, 59, 2],\n",
              " [1, 42, 16, 48, 464, 12, 377, 279, 2],\n",
              " [1, 480, 2],\n",
              " [1, 70, 470, 2083, 461, 352, 2],\n",
              " [1, 48, 65, 492, 5, 53, 1049, 23, 306, 2],\n",
              " [1, 5, 8, 2],\n",
              " [1, 17, 60, 2],\n",
              " [1, 434, 2],\n",
              " [1, 50, 63, 522, 528, 62, 35, 157, 2],\n",
              " [1, 4, 16, 18, 285, 903, 1405, 2],\n",
              " [1, 21, 61, 2],\n",
              " [1, 220, 177, 9, 298, 137, 2],\n",
              " [1, 6, 99, 26, 2],\n",
              " [1, 6, 5, 356, 20, 152, 52, 2],\n",
              " [1, 58, 2],\n",
              " [1, 2084, 22, 1096, 197, 1406, 2],\n",
              " [1, 4, 6, 3, 672, 61, 2],\n",
              " [1, 168, 22, 165, 10, 5, 26, 2],\n",
              " [1, 2085, 2],\n",
              " [1, 27, 2],\n",
              " [1, 181, 2],\n",
              " [1, 20, 19, 6, 40, 4, 2],\n",
              " [1, 1325, 2],\n",
              " [1, 54, 50, 63, 1787, 2],\n",
              " [1, 4, 2],\n",
              " [1, 8, 13, 35, 2],\n",
              " [1, 12, 114, 6, 65, 154, 2],\n",
              " [1, 25, 2],\n",
              " [1, 53, 7, 11, 288, 76, 77, 2],\n",
              " [1, 191, 2],\n",
              " [1, 239, 103, 15, 78, 288, 305, 2],\n",
              " [1, 2086, 2],\n",
              " [1, 236, 673, 94, 14, 2],\n",
              " [1, 637, 762, 2],\n",
              " [1, 227, 658, 352, 2],\n",
              " [1, 6, 335, 7, 296, 630, 2],\n",
              " [1, 227, 18, 492, 76, 105, 26, 2],\n",
              " [1, 5, 8, 2],\n",
              " [1, 56, 83, 4, 176, 2],\n",
              " [1, 3, 158, 51, 1097, 9, 436, 197, 2],\n",
              " [1, 3, 16, 137, 2],\n",
              " [1, 223, 107, 167, 2],\n",
              " [1, 151, 255, 115, 363, 39, 2],\n",
              " [1, 10, 5, 385, 2],\n",
              " [1, 8, 84, 55, 256, 136, 2],\n",
              " [1, 149, 240, 2],\n",
              " [1, 47, 33, 2],\n",
              " [1, 464, 157, 659, 5, 725, 805, 2],\n",
              " [1, 17, 2],\n",
              " [1, 69, 258, 2],\n",
              " [1, 2285, 7, 2087, 1092, 128, 46, 5, 122, 2],\n",
              " [1, 3, 82, 2],\n",
              " [1, 8, 2],\n",
              " [1, 6, 160, 12, 2],\n",
              " [1, 721, 13, 153, 2],\n",
              " [1, 11, 32, 13, 2],\n",
              " [1, 307, 45, 6, 118, 22, 503, 2],\n",
              " [1, 29, 2],\n",
              " [1, 589, 1788, 26, 2],\n",
              " [1, 120, 12, 50, 2],\n",
              " [1, 91, 410, 309, 2],\n",
              " [1, 2],\n",
              " [1, 8, 247, 138, 2],\n",
              " [1, 25, 137, 16, 2],\n",
              " [1, 84, 55, 2],\n",
              " [1, 1920, 872, 2088, 2],\n",
              " [1, 200, 6, 14, 1921, 2],\n",
              " [1, 310, 1407, 1326, 11, 2],\n",
              " [1, 11, 459, 19, 465, 22, 28, 2],\n",
              " [1, 426, 1563, 50, 2],\n",
              " [1, 4, 18, 15, 173, 12, 50, 2],\n",
              " [1, 41, 10, 12, 18, 2],\n",
              " [1, 83, 22, 245, 9, 57, 4, 2],\n",
              " [1, 493, 273, 31, 2],\n",
              " [1, 11, 1050, 30, 59, 2],\n",
              " [1, 3, 7, 388, 2286, 2],\n",
              " [1, 114, 6, 399, 70, 123, 295, 2],\n",
              " [1, 6, 40, 4, 2],\n",
              " [1, 86, 55, 993, 2],\n",
              " [1, 3, 7, 552, 36, 2],\n",
              " [1, 994, 2271, 2],\n",
              " [1, 3, 936, 82, 2],\n",
              " [1, 10, 2287, 2],\n",
              " [1, 1665, 552, 2],\n",
              " [1, 3, 7, 368, 2],\n",
              " [1, 445, 2],\n",
              " [1, 42, 93, 2],\n",
              " [1, 6, 69, 43, 276, 2],\n",
              " [1, 438, 22, 648, 504, 2],\n",
              " [1, 47, 2],\n",
              " [1, 41, 129, 1148, 2],\n",
              " [1, 674, 18, 6, 112, 3, 23, 26, 2],\n",
              " [1, 1922, 44, 5, 8, 23, 5, 8, 2],\n",
              " [1, 29, 2],\n",
              " [1, 12, 19, 89, 2],\n",
              " [1, 21, 56, 103, 2],\n",
              " [1, 25, 638, 2],\n",
              " [1, 8, 326, 35, 2],\n",
              " [1, 2],\n",
              " [1, 4, 20, 9, 4, 618, 503, 2],\n",
              " [1, 3, 2],\n",
              " [1, 227, 673, 103, 2],\n",
              " [1, 3, 81, 2],\n",
              " [1, 1152, 901, 2],\n",
              " [1, 40, 17, 244, 243, 18, 2],\n",
              " [1, 25, 2],\n",
              " [1, 120, 198, 7, 2],\n",
              " [1, 1396, 126, 71, 70, 2063, 297, 2],\n",
              " [1, 191, 418, 269, 1267, 1789, 2],\n",
              " [1, 53, 326, 3, 31, 2],\n",
              " [1, 3, 24, 33, 31, 2],\n",
              " [1, 29, 60, 2],\n",
              " [1, 3, 218, 182, 2],\n",
              " [1, 1923, 5, 656, 202, 2],\n",
              " [1, 10, 5, 115, 783, 427, 2],\n",
              " [1, 3, 7, 28, 2],\n",
              " [1, 2],\n",
              " [1, 619, 142, 590, 934, 2],\n",
              " [1, 4, 16, 2],\n",
              " [1, 5, 8, 726, 26, 2],\n",
              " [1, 200, 476, 2],\n",
              " [1, 784, 2],\n",
              " [1, 40, 4, 2],\n",
              " [1, 3, 27, 222, 51, 129, 122, 230, 2],\n",
              " [1, 279, 63, 2081, 2],\n",
              " [1, 810, 2],\n",
              " [1, 139, 6, 505, 118, 22, 5, 1564, 2],\n",
              " [1, 20, 3, 9, 340, 647, 2],\n",
              " [1, 98, 45, 5, 8, 2],\n",
              " [1, 3, 66, 2],\n",
              " [1, 785, 44, 185, 19, 4, 2],\n",
              " [1, 1790, 324, 1098, 2],\n",
              " [1, 65, 127, 2],\n",
              " [1, 8, 72, 1666, 44, 138, 2],\n",
              " [1, 4, 16, 2],\n",
              " [1, 336, 45, 2288, 2],\n",
              " [1, 96, 491, 2],\n",
              " [1, 195, 68, 2],\n",
              " [1, 3, 66, 2],\n",
              " [1, 4, 658, 2],\n",
              " [1, 27, 20, 2],\n",
              " [1, 3, 26, 56, 398, 2],\n",
              " [1, 8, 75, 33, 35, 2],\n",
              " [1, 219, 5, 8, 2],\n",
              " [1, 242, 2],\n",
              " [1, 3, 247, 13, 2],\n",
              " [1, 250, 17, 2],\n",
              " [1, 3, 13, 2],\n",
              " [1, 28, 64, 649, 2],\n",
              " [1, 8, 31, 7, 416, 130, 2],\n",
              " [1, 17, 2],\n",
              " [1, 27, 6, 36, 61, 2],\n",
              " [1, 36, 126, 7, 65, 51, 149, 2],\n",
              " [1, 454, 574, 2],\n",
              " [1, 760, 14, 2],\n",
              " [1, 6, 361, 65, 154, 2],\n",
              " [1, 995, 298, 137, 2],\n",
              " [1, 40, 40, 70, 8, 2],\n",
              " [1, 36, 164, 9, 1791, 7, 80, 2],\n",
              " [1, 193, 2],\n",
              " [1, 171, 251, 23, 81, 2],\n",
              " [1, 95, 36, 164, 7, 80, 2],\n",
              " [1, 8, 413, 35, 2],\n",
              " [1, 344, 16, 2],\n",
              " [1, 8, 846, 2],\n",
              " [1, 43, 847, 2],\n",
              " [1, 21, 4, 24, 60, 2],\n",
              " [1, 145, 138, 2],\n",
              " [1, 848, 9, 17, 2],\n",
              " [1, 512, 2],\n",
              " [1, 91, 18, 6, 29, 2],\n",
              " [1, 42, 16, 2],\n",
              " [1, 4, 20, 220, 177, 2],\n",
              " [1, 62, 487, 7, 660, 2],\n",
              " [1, 376, 19, 58, 44, 1565, 369, 2],\n",
              " [1, 10, 5, 1327, 79, 6, 71, 5, 251, 2],\n",
              " [1, 25, 16, 2],\n",
              " [1, 782, 2],\n",
              " [1, 1153, 114, 6, 65, 22, 71, 2],\n",
              " [1, 24, 135, 290, 2],\n",
              " [1, 389, 9, 2089, 166, 2],\n",
              " [1, 24, 37, 12, 2],\n",
              " [1, 100, 1207, 2],\n",
              " [1, 21, 4, 26, 2],\n",
              " [1, 30, 1924, 2],\n",
              " [1, 15, 38, 19, 3, 2],\n",
              " [1, 143, 2],\n",
              " [1, 4, 38, 2],\n",
              " [1, 5, 1667, 2],\n",
              " [1, 3, 18, 62, 22, 786, 1051, 5, 2289, 2],\n",
              " [1, 3, 66, 2],\n",
              " [1, 962, 1052, 9, 536, 75, 33, 2],\n",
              " [1, 6, 7, 72, 1477, 2],\n",
              " [1, 3, 2],\n",
              " [1, 28, 45, 21, 21, 29, 2],\n",
              " [1, 21, 4, 38, 83, 22, 1041, 2],\n",
              " [1, 1566, 175, 70, 332, 2],\n",
              " [1, 4, 38, 2],\n",
              " [1, 190, 232, 5, 8, 9, 278, 180, 2],\n",
              " [1, 8, 147, 7, 5, 174, 2],\n",
              " [1, 8, 281, 353, 141, 35, 2],\n",
              " [1, 123, 32, 222, 2],\n",
              " [1, 21, 476, 298, 2],\n",
              " [1, 12, 22, 13, 2],\n",
              " [1, 1154, 821, 9, 2],\n",
              " [1, 13, 52, 818, 2],\n",
              " [1, 11, 2090, 37, 12, 2],\n",
              " [1, 21, 21, 1668, 271, 2],\n",
              " [1, 10, 5, 181, 249, 26, 2],\n",
              " [1, 214, 31, 2],\n",
              " [1, 203, 2],\n",
              " [1, 3, 33, 2],\n",
              " [1, 189, 6, 513, 2],\n",
              " [1, 510, 379, 26, 2],\n",
              " [1, 191, 2],\n",
              " [1, 193, 7, 11, 24, 2],\n",
              " [1, 4, 16, 2],\n",
              " [1, 11, 32, 349, 147, 2],\n",
              " [1, 3, 87, 139, 6, 10, 5, 20, 2],\n",
              " [1, 608, 284, 62, 2],\n",
              " [1, 586, 2],\n",
              " [1, 580, 13, 2],\n",
              " [1, 77, 321, 1047, 43, 60, 2],\n",
              " [1, 8, 35, 2],\n",
              " [1, 3, 119, 2],\n",
              " [1, 787, 819, 16, 2],\n",
              " [1, 3, 201, 2],\n",
              " [1, 4, 306, 92, 2],\n",
              " [1, 143, 2],\n",
              " [1, 8, 788, 215, 26, 2],\n",
              " [1, 2091, 331, 270, 2],\n",
              " [1, 3, 16, 2],\n",
              " ...]"
            ]
          },
          "metadata": {
            "tags": []
          },
          "execution_count": 57
        }
      ]
    },
    {
      "cell_type": "markdown",
      "metadata": {
        "id": "i1zc0oE_1srz"
      },
      "source": [
        "- 빈 샘플 제거"
      ]
    },
    {
      "cell_type": "code",
      "metadata": {
        "id": "MX7J_MZR1qAt"
      },
      "source": [
        "drop_train = [index for index, sentence in enumerate(y_train) if len(sentence) == 2]\n",
        "drop_test = [index for index, sentence in enumerate(y_test) if len(sentence) == 2]"
      ],
      "execution_count": 58,
      "outputs": []
    },
    {
      "cell_type": "code",
      "metadata": {
        "colab": {
          "base_uri": "https://localhost:8080/"
        },
        "id": "gGkqzvu21JH6",
        "outputId": "1514d1b7-269a-49c6-c9b9-d2904c5867dd"
      },
      "source": [
        "print('훈련 데이터의 개수 :', len(X_train))\n",
        "print('훈련 레이블의 개수 :',len(y_train))\n",
        "print('테스트 데이터의 개수 :',len(X_test))\n",
        "print('테스트 레이블의 개수 :',len(y_test))"
      ],
      "execution_count": 59,
      "outputs": [
        {
          "output_type": "stream",
          "text": [
            "훈련 데이터의 개수 : 56608\n",
            "훈련 레이블의 개수 : 56608\n",
            "테스트 데이터의 개수 : 14153\n",
            "테스트 레이블의 개수 : 14153\n"
          ],
          "name": "stdout"
        }
      ]
    },
    {
      "cell_type": "code",
      "metadata": {
        "id": "ndmc0GmC10A-"
      },
      "source": [
        "# 삭제 후 개수\n",
        "\n",
        "X_train = np.delete(X_train, drop_train, axis=0)\n",
        "y_train = np.delete(y_train, drop_train, axis=0)\n",
        "X_test = np.delete(X_test, drop_test, axis=0)\n",
        "y_test = np.delete(y_test, drop_test, axis=0)"
      ],
      "execution_count": null,
      "outputs": []
    },
    {
      "cell_type": "code",
      "metadata": {
        "colab": {
          "base_uri": "https://localhost:8080/"
        },
        "id": "mQ6de62k1-ne",
        "outputId": "837409d8-bdb3-4e81-d05f-0ef64f1182bb"
      },
      "source": [
        "print('훈련 데이터의 개수 :', len(X_train))\n",
        "print('훈련 레이블의 개수 :',len(y_train))\n",
        "print('테스트 데이터의 개수 :',len(X_test))\n",
        "print('테스트 레이블의 개수 :',len(y_test))"
      ],
      "execution_count": 62,
      "outputs": [
        {
          "output_type": "stream",
          "text": [
            "훈련 데이터의 개수 : 55466\n",
            "훈련 레이블의 개수 : 55466\n",
            "테스트 데이터의 개수 : 13846\n",
            "테스트 레이블의 개수 : 13846\n"
          ],
          "name": "stdout"
        }
      ]
    },
    {
      "cell_type": "markdown",
      "metadata": {
        "id": "JMNveNuO2bV0"
      },
      "source": [
        "### 12) 패딩하기"
      ]
    },
    {
      "cell_type": "code",
      "metadata": {
        "id": "jvoD8BYG1aWd"
      },
      "source": [
        "X_train = pad_sequences(X_train, maxlen = text_max_len, padding='post')\n",
        "X_test = pad_sequences(X_test, maxlen = text_max_len, padding='post')\n",
        "y_train = pad_sequences(y_train, maxlen = summary_max_len, padding='post')\n",
        "y_test = pad_sequences(y_test, maxlen = summary_max_len, padding='post')"
      ],
      "execution_count": 63,
      "outputs": []
    },
    {
      "cell_type": "markdown",
      "metadata": {
        "id": "gUaYpQaG2p7z"
      },
      "source": [
        "## 3. Modeling\n",
        "- seq2seq + attention으로 요약모델 설계 및 훈련"
      ]
    },
    {
      "cell_type": "markdown",
      "metadata": {
        "id": "t7qCgTXX5Ko4"
      },
      "source": [
        "### 1) Encoder, Decoder 설계"
      ]
    },
    {
      "cell_type": "code",
      "metadata": {
        "id": "vY8Ah8Cr2gII"
      },
      "source": [
        "embedding_dim = 64\n",
        "hidden_size = 128\n",
        "\n",
        "# 인코더\n",
        "encoder_inputs = Input(shape = (text_max_len, ))\n",
        "\n",
        "# 인코더의 임베딩 층\n",
        "encoder_emb = Embedding(src_vocab, embedding_dim)(encoder_inputs)\n",
        "\n",
        "# 인코더의 LSTM1\n",
        "encoder_lstm1 = LSTM(hidden_size,\n",
        "                     return_sequences = True,\n",
        "                     return_state = True,\n",
        "                     dropout = 0.5,\n",
        "                     recurrent_dropout = 0.4)\n",
        "encoder_output1, state_h1, state_c1 = encoder_lstm1(encoder_emb)\n",
        "\n",
        "# 인코더의 LSTM2\n",
        "encoder_lstm2 = LSTM(hidden_size,\n",
        "                     return_sequences = True,\n",
        "                     return_state = True,\n",
        "                     dropout = 0.5,\n",
        "                     recurrent_dropout = 0.4)\n",
        "encoder_output2, state_h2, state_c2 = encoder_lstm2(encoder_output1)\n",
        "\n",
        "# 인코더의 LSTM3\n",
        "encoder_lstm3 = LSTM(hidden_size,\n",
        "                     return_state = True,\n",
        "                     return_sequences = True,\n",
        "                     dropout = 0.5,\n",
        "                     recurrent_dropout = 0.4)\n",
        "encoder_outputs, state_h, state_c = encoder_lstm3(encoder_output2)"
      ],
      "execution_count": 64,
      "outputs": []
    },
    {
      "cell_type": "code",
      "metadata": {
        "id": "XvY63tXn4NFM"
      },
      "source": [
        "# 디코더\n",
        "decoder_inputs = Input(shape = (None, ))\n",
        "\n",
        "# 디코더의 임베딩 층\n",
        "decoder_emb_layer = Embedding(tar_vocab, embedding_dim)\n",
        "decoder_emb = decoder_emb_layer(decoder_inputs)\n",
        "\n",
        "# 디코더의 LSTM\n",
        "decoder_lstm = LSTM(hidden_size,\n",
        "                    return_sequences = True,\n",
        "                    return_state = True,\n",
        "                    dropout = 0.5,\n",
        "                    recurrent_dropout = 0.2)\n",
        "decoder_outputs, _, _ = decoder_lstm(decoder_emb,\n",
        "                                    initial_state = [state_h, state_c])"
      ],
      "execution_count": 65,
      "outputs": []
    },
    {
      "cell_type": "code",
      "metadata": {
        "id": "u9vVhWhQ2Jhg"
      },
      "source": [
        "# 디코더의 출력층\n",
        "decoder_softmax_layer = Dense(tar_vocab, activation = 'softmax')\n",
        "decoder_softmax_outputs = decoder_softmax_layer(decoder_outputs)"
      ],
      "execution_count": 66,
      "outputs": []
    },
    {
      "cell_type": "markdown",
      "metadata": {
        "id": "ULCzGztp5P_q"
      },
      "source": [
        "### 2) Model Define"
      ]
    },
    {
      "cell_type": "code",
      "metadata": {
        "id": "PGfJtSaM43cb"
      },
      "source": [
        "model = Model([encoder_inputs, decoder_inputs],\n",
        "              decoder_softmax_outputs)"
      ],
      "execution_count": 67,
      "outputs": []
    },
    {
      "cell_type": "code",
      "metadata": {
        "colab": {
          "base_uri": "https://localhost:8080/"
        },
        "id": "hZB4XCb-5Vu6",
        "outputId": "7d472852-faac-44e1-853d-a9d0734ac138"
      },
      "source": [
        "model.summary()"
      ],
      "execution_count": 68,
      "outputs": [
        {
          "output_type": "stream",
          "text": [
            "Model: \"model\"\n",
            "__________________________________________________________________________________________________\n",
            "Layer (type)                    Output Shape         Param #     Connected to                     \n",
            "==================================================================================================\n",
            "input_1 (InputLayer)            [(None, 60)]         0                                            \n",
            "__________________________________________________________________________________________________\n",
            "embedding (Embedding)           (None, 60, 64)       576000      input_1[0][0]                    \n",
            "__________________________________________________________________________________________________\n",
            "lstm (LSTM)                     [(None, 60, 128), (N 98816       embedding[0][0]                  \n",
            "__________________________________________________________________________________________________\n",
            "input_2 (InputLayer)            [(None, None)]       0                                            \n",
            "__________________________________________________________________________________________________\n",
            "lstm_1 (LSTM)                   [(None, 60, 128), (N 131584      lstm[0][0]                       \n",
            "__________________________________________________________________________________________________\n",
            "embedding_1 (Embedding)         (None, None, 64)     160000      input_2[0][0]                    \n",
            "__________________________________________________________________________________________________\n",
            "lstm_2 (LSTM)                   [(None, 60, 128), (N 131584      lstm_1[0][0]                     \n",
            "__________________________________________________________________________________________________\n",
            "lstm_3 (LSTM)                   [(None, None, 128),  98816       embedding_1[0][0]                \n",
            "                                                                 lstm_2[0][1]                     \n",
            "                                                                 lstm_2[0][2]                     \n",
            "__________________________________________________________________________________________________\n",
            "dense (Dense)                   (None, None, 2500)   322500      lstm_3[0][0]                     \n",
            "==================================================================================================\n",
            "Total params: 1,519,300\n",
            "Trainable params: 1,519,300\n",
            "Non-trainable params: 0\n",
            "__________________________________________________________________________________________________\n"
          ],
          "name": "stdout"
        }
      ]
    },
    {
      "cell_type": "markdown",
      "metadata": {
        "id": "8cg708wo5uL2"
      },
      "source": [
        "### 3) Attention을 이용해 디코더 출력층 설계"
      ]
    },
    {
      "cell_type": "code",
      "metadata": {
        "id": "PQw4ARru5Wk7"
      },
      "source": [
        "attn_layer = AttentionLayer(name = 'attention_layer')\n",
        "attn_out, attn_states = attn_layer([encoder_outputs,\n",
        "                                    decoder_outputs])\n",
        "\n",
        "# 어텐션의 결과와 디코더의 hidden state들을 연결\n",
        "decoder_concat_input = Concatenate(axis = -1,\n",
        "                                   name = 'concat_layer')([decoder_outputs,\n",
        "                                                           attn_out])\n",
        "                                   \n",
        "# 디코더의 출력층\n",
        "decoder_softmax_layer = Dense(tar_vocab, activation = 'softmax')\n",
        "decoder_softmax_outputs = decoder_softmax_layer(decoder_concat_input)"
      ],
      "execution_count": 69,
      "outputs": []
    },
    {
      "cell_type": "code",
      "metadata": {
        "id": "IiKcRuBY6rfM"
      },
      "source": [
        "model = Model([encoder_inputs, decoder_inputs],\n",
        "              decoder_softmax_outputs)"
      ],
      "execution_count": 70,
      "outputs": []
    },
    {
      "cell_type": "code",
      "metadata": {
        "colab": {
          "base_uri": "https://localhost:8080/"
        },
        "id": "WMsMsSnY6x8Z",
        "outputId": "04cb615e-4812-4804-ba38-e97ed0a3ea5c"
      },
      "source": [
        "model.summary()"
      ],
      "execution_count": 71,
      "outputs": [
        {
          "output_type": "stream",
          "text": [
            "Model: \"model_1\"\n",
            "__________________________________________________________________________________________________\n",
            "Layer (type)                    Output Shape         Param #     Connected to                     \n",
            "==================================================================================================\n",
            "input_1 (InputLayer)            [(None, 60)]         0                                            \n",
            "__________________________________________________________________________________________________\n",
            "embedding (Embedding)           (None, 60, 64)       576000      input_1[0][0]                    \n",
            "__________________________________________________________________________________________________\n",
            "lstm (LSTM)                     [(None, 60, 128), (N 98816       embedding[0][0]                  \n",
            "__________________________________________________________________________________________________\n",
            "input_2 (InputLayer)            [(None, None)]       0                                            \n",
            "__________________________________________________________________________________________________\n",
            "lstm_1 (LSTM)                   [(None, 60, 128), (N 131584      lstm[0][0]                       \n",
            "__________________________________________________________________________________________________\n",
            "embedding_1 (Embedding)         (None, None, 64)     160000      input_2[0][0]                    \n",
            "__________________________________________________________________________________________________\n",
            "lstm_2 (LSTM)                   [(None, 60, 128), (N 131584      lstm_1[0][0]                     \n",
            "__________________________________________________________________________________________________\n",
            "lstm_3 (LSTM)                   [(None, None, 128),  98816       embedding_1[0][0]                \n",
            "                                                                 lstm_2[0][1]                     \n",
            "                                                                 lstm_2[0][2]                     \n",
            "__________________________________________________________________________________________________\n",
            "attention_layer (AttentionLayer ((None, None, 128),  32896       lstm_2[0][0]                     \n",
            "                                                                 lstm_3[0][0]                     \n",
            "__________________________________________________________________________________________________\n",
            "concat_layer (Concatenate)      (None, None, 256)    0           lstm_3[0][0]                     \n",
            "                                                                 attention_layer[0][0]            \n",
            "__________________________________________________________________________________________________\n",
            "dense_1 (Dense)                 (None, None, 2500)   642500      concat_layer[0][0]               \n",
            "==================================================================================================\n",
            "Total params: 1,872,196\n",
            "Trainable params: 1,872,196\n",
            "Non-trainable params: 0\n",
            "__________________________________________________________________________________________________\n"
          ],
          "name": "stdout"
        }
      ]
    },
    {
      "cell_type": "code",
      "metadata": {
        "id": "AiQAvdAA6yuF"
      },
      "source": [
        "model.compile(loss = 'sparse_categorical_crossentropy',\n",
        "              optimizer = 'rmsprop')"
      ],
      "execution_count": 72,
      "outputs": []
    },
    {
      "cell_type": "code",
      "metadata": {
        "id": "ZI-8KOVC68km"
      },
      "source": [
        "es = EarlyStopping(monitor = 'val_loss' ,\n",
        "                   mode = 'min' ,\n",
        "                   verbose = 1,\n",
        "                   patience = 2)"
      ],
      "execution_count": 73,
      "outputs": []
    },
    {
      "cell_type": "code",
      "metadata": {
        "colab": {
          "base_uri": "https://localhost:8080/"
        },
        "id": "82GJr7dQ7DVT",
        "outputId": "f8ebcb80-5dcc-4d37-cc73-85d6cd6a3c70"
      },
      "source": [
        "%%time\n",
        "\n",
        "history = model.fit([X_train, y_train[:,:-1]],\n",
        "                    y_train.reshape(y_train.shape[0], y_train.shape[1], 1)[:, 1:],\n",
        "                    epochs = 10,\n",
        "                    callbacks = [es],\n",
        "                    batch_size = 256,\n",
        "                    validation_data = ([X_test, y_test[:, :-1]],\n",
        "                                       y_test.reshape(y_test.shape[0],\n",
        "                                                      y_test.shape[1], 1)[:, 1:]))"
      ],
      "execution_count": 74,
      "outputs": [
        {
          "output_type": "stream",
          "text": [
            "Epoch 1/10\n",
            "217/217 [==============================] - 556s 2s/step - loss: 3.7955 - val_loss: 2.9103\n",
            "Epoch 2/10\n",
            "217/217 [==============================] - 541s 2s/step - loss: 2.9167 - val_loss: 2.7976\n",
            "Epoch 3/10\n",
            "217/217 [==============================] - 541s 2s/step - loss: 2.7952 - val_loss: 2.7005\n",
            "Epoch 4/10\n",
            "217/217 [==============================] - 541s 2s/step - loss: 2.7173 - val_loss: 2.6131\n",
            "Epoch 5/10\n",
            "217/217 [==============================] - 542s 2s/step - loss: 2.6340 - val_loss: 2.5416\n",
            "Epoch 6/10\n",
            "217/217 [==============================] - 542s 2s/step - loss: 2.5432 - val_loss: 2.4746\n",
            "Epoch 7/10\n",
            "217/217 [==============================] - 543s 3s/step - loss: 2.4877 - val_loss: 2.4312\n",
            "Epoch 8/10\n",
            "217/217 [==============================] - 542s 2s/step - loss: 2.4195 - val_loss: 2.3915\n",
            "Epoch 9/10\n",
            "217/217 [==============================] - 543s 3s/step - loss: 2.3742 - val_loss: 2.3609\n",
            "Epoch 10/10\n",
            "217/217 [==============================] - 541s 2s/step - loss: 2.3317 - val_loss: 2.3386\n",
            "CPU times: user 2h 42min 30s, sys: 11min 4s, total: 2h 53min 35s\n",
            "Wall time: 1h 30min 31s\n"
          ],
          "name": "stdout"
        }
      ]
    },
    {
      "cell_type": "markdown",
      "metadata": {
        "id": "LpEdyXAx9MKx"
      },
      "source": [
        "### 4) 학습내용 시각화"
      ]
    },
    {
      "cell_type": "code",
      "metadata": {
        "colab": {
          "base_uri": "https://localhost:8080/",
          "height": 265
        },
        "id": "Kfo-1dJD89Dp",
        "outputId": "d7e512ab-35c2-4e0f-fc2e-1269e0220e29"
      },
      "source": [
        "plt.plot(history.history['loss'], label='train')\n",
        "plt.plot(history.history['val_loss'], label='test')\n",
        "plt.legend()\n",
        "plt.show()"
      ],
      "execution_count": 75,
      "outputs": [
        {
          "output_type": "display_data",
          "data": {
            "image/png": "[encoded data removed]",
            "text/plain": [
              "<Figure size 432x288 with 1 Axes>"
            ]
          },
          "metadata": {
            "tags": [],
            "needs_background": "light"
          }
        }
      ]
    },
    {
      "cell_type": "markdown",
      "metadata": {
        "id": "7jtYpQ9C46dZ"
      },
      "source": [
        "## 4. 모델 테스트\n",
        "- 테스트를 위해 필요한 사전 3개 생성"
      ]
    },
    {
      "cell_type": "code",
      "metadata": {
        "id": "hX6gZhm742uk"
      },
      "source": [
        "src_index_to_word = src_tokenizer.index_word  # 원문 단어집합에서 정수 -> 단어 얻음\n",
        "tar_word_to_index = tar_tokenizer.word_index  # 요약 단어집학합에서 단어 -> 정수 얻음\n",
        "tar_index_to_word = tar_tokenizer.index_word  # 요약 단어집합에서 정수 -> 단어 얻음"
      ],
      "execution_count": 76,
      "outputs": []
    },
    {
      "cell_type": "markdown",
      "metadata": {
        "id": "i43GvBsd5Zix"
      },
      "source": [
        "### 1) 테스트 모델 설계\n",
        "- 인코더 설계"
      ]
    },
    {
      "cell_type": "code",
      "metadata": {
        "id": "qJTZpChi5d__"
      },
      "source": [
        "# 인코더 설계\n",
        "encoder_model = Model(inputs=encoder_inputs,\n",
        "                      outputs=[encoder_outputs, state_h, state_c])"
      ],
      "execution_count": 91,
      "outputs": []
    },
    {
      "cell_type": "markdown",
      "metadata": {
        "id": "o81KgPWb5pXJ"
      },
      "source": [
        "- 디코더 설계"
      ]
    },
    {
      "cell_type": "code",
      "metadata": {
        "id": "CcPDsPxe5kSD"
      },
      "source": [
        "# 이전 시점의 상태들을 저장하는 텐서\n",
        "decoder_state_input_h = Input(shape=(hidden_size,))\n",
        "decoder_state_input_c = Input(shape=(hidden_size,))\n",
        "\n",
        "decoder_emb2 = decoder_emb_layer(decoder_inputs)\n",
        "\n",
        "# 문장의 다음 단어를 예측하기 위해서 초기 상태(initial_state)를 이전 시점의 상태로 사용\n",
        "# 이는 뒤의 함수 decode_sequence()에 구현\n",
        "# 훈련 과정에서와 달리 LSTM의 리턴하는 은닉 상태와 셀 상태인 state_h와 state_c를 버리지 않음\n",
        "\n",
        "decoder_outputs2, state_h2, state_c2 = decoder_lstm(\n",
        "    decoder_emb2, initial_state=[decoder_state_input_h, decoder_state_input_c])"
      ],
      "execution_count": 94,
      "outputs": []
    },
    {
      "cell_type": "code",
      "metadata": {
        "id": "fxsY5GSJ6gCI"
      },
      "source": [
        "# 어텐션 함수\n",
        "decoder_hidden_state_input = Input(shape=(text_max_len, hidden_size))\n",
        "attn_out_inf, attn_states_inf = attn_layer([decoder_hidden_state_input,\n",
        "                                            decoder_outputs2])\n",
        "decoder_inf_concat = Concatenate(axis=-1, name='concat')([decoder_outputs2,\n",
        "                                                          attn_out_inf])\n",
        "\n",
        "# 디코더의 출력층\n",
        "decoder_outputs2 = decoder_softmax_layer(decoder_inf_concat) \n",
        "\n",
        "# 최종 디코더 모델\n",
        "decoder_model = Model(\n",
        "    [decoder_inputs] + [decoder_hidden_state_input,decoder_state_input_h, decoder_state_input_c],\n",
        "    [decoder_outputs2] + [state_h2, state_c2])"
      ],
      "execution_count": 95,
      "outputs": []
    },
    {
      "cell_type": "markdown",
      "metadata": {
        "id": "kTp99OOc7rEQ"
      },
      "source": [
        "- 테스트를 위해 사용되는 함수 decode_sequence를 설계"
      ]
    },
    {
      "cell_type": "code",
      "metadata": {
        "id": "OsJzjS_X7tzo"
      },
      "source": [
        "def decode_sequence(input_seq) :\n",
        "  # 입력으로부터 인코더의 상태를 얻음\n",
        "  e_out, e_h, e_c = encoder_model.predict(input_seq)\n",
        "\n",
        "  # <sos>에 해당하는 토큰 생성\n",
        "  target_seq = np.zeros((1, 1))\n",
        "  target_seq[0, 0] = tar_word_to_index['sostoken']\n",
        "\n",
        "  stop_condition = False\n",
        "  decoded_sentence = ''\n",
        "\n",
        "  while not stop_condition :\n",
        "    output_tokens, h, c = decoder_model.predict([target_seq] + [e_out, e_h, e_c])\n",
        "    sampled_token_index = np.argmax(output_tokens[0, -1, :])\n",
        "    sampled_token = tar_index_to_word[sampled_token_index]\n",
        "\n",
        "    if (sampled_token != 'eostoken') :\n",
        "      decoded_sentence += ' ' + sampled_token\n",
        "\n",
        "    # <eos>에 도달하거나 최대 길이를 넘으면 중단\n",
        "    if (sampled_token == 'eostoken' or\n",
        "        len(decoded_sentence.split()) >= (summary_max_len -1 )) :\n",
        "\n",
        "        stop_condition = True\n",
        "    \n",
        "    # 길이가 1인 타겟 시퀀스를 업데이트\n",
        "    target_seq = np.zeros((1, 1))\n",
        "    target_seq[0, 0] = sampled_token_index\n",
        "\n",
        "    # 상태 업데이트\n",
        "    e_h , e_c = h, c\n",
        "\n",
        "  return decoded_sentence"
      ],
      "execution_count": 99,
      "outputs": []
    },
    {
      "cell_type": "markdown",
      "metadata": {
        "id": "KlH-WWjbVFD3"
      },
      "source": [
        "- 정수 시퀀스를 텍스트 시퀀스로 만드는 함수 설계"
      ]
    },
    {
      "cell_type": "code",
      "metadata": {
        "id": "y0wWvD15VDET"
      },
      "source": [
        "# 원문의 정수 시퀀스를 텍스트 시퀀스로 변환\n",
        "def seq2text(input_seq) :\n",
        "  temp = ''\n",
        "  for i in input_seq:\n",
        "    if (i != 0):\n",
        "      temp = temp + src_index_to_word[i] + ' '\n",
        "  return temp\n",
        "\n",
        "# 요약문의 정수 시퀀스를 텍스트 시퀀스로 변환\n",
        "def seq2summary(input_seq) :\n",
        "  temp = ''\n",
        "  for i in input_seq:\n",
        "    if ((i != 0 and i != tar_word_to_index['sostoken'])\n",
        "    and i != tar_word_to_index['eostoken']) :\n",
        "      temp = temp + tar_index_to_word[i] + ' '\n",
        "\n",
        "  return temp"
      ],
      "execution_count": 97,
      "outputs": []
    },
    {
      "cell_type": "markdown",
      "metadata": {
        "id": "YyJkr7PDXMyj"
      },
      "source": [
        "- 500번부터 1000번까지 테스트"
      ]
    },
    {
      "cell_type": "code",
      "metadata": {
        "colab": {
          "base_uri": "https://localhost:8080/"
        },
        "id": "gXbfpRb-XK-D",
        "outputId": "45cfa9aa-4bba-4950-8a23-d60105098ca2"
      },
      "source": [
        "for i in range(100) :\n",
        "  print(\"원문: \" , seq2text(X_test[i]))\n",
        "  print(\"실제 요약문: \" , seq2summary(y_test[i]))\n",
        "  print(\"예측 요약문: \" , decode_sequence(X_test[i].reshape(1, text_max_len)))\n",
        "  print(\"\\n\")"
      ],
      "execution_count": 101,
      "outputs": [
        {
          "output_type": "stream",
          "text": [
            "원문:  great addition diet filling opinion better wider miracle noodles \n",
            "실제 요약문:  excellent \n",
            "예측 요약문:   great\n",
            "\n",
            "\n",
            "원문:  shipped fast great product dog teeth giving poodle greenies years vet said teeth white healthy year old dogs years old \n",
            "실제 요약문:  greenies \n",
            "예측 요약문:   great product\n",
            "\n",
            "\n",
            "원문:  little candies really exactly say good way wake prefer mocha mint flavor though others good well leave sour taste stomach like coffee keep anywhere desk car pocket purse would without \n",
            "실제 요약문:  great product \n",
            "예측 요약문:   great product\n",
            "\n",
            "\n",
            "원문:  eat homemade cooked food saw could feed raw grain free diet easily really thought good true true love smells wonderful costs less half spending making food thanks customers life \n",
            "실제 요약문:  my dogs loved it \n",
            "예측 요약문:   great product\n",
            "\n",
            "\n",
            "원문:  love hot spicy taste wasabi peas decided try luck ordering amazon well disappointed peas hot crunchy want snack shipping fast paying oz pack little things target decided better price somewhere well found looking soon finish lb bag back ordering \n",
            "실제 요약문:  excellent buy \n",
            "예측 요약문:   great taste\n",
            "\n",
            "\n",
            "원문:  giving senior dog pill pockets two years recently great however seem changed formula hates throat often get bit process give many pills day buy bulk closet full every flavor disappointing \n",
            "실제 요약문:  my dog hates these \n",
            "예측 요약문:   my dog loves it\n",
            "\n",
            "\n",
            "원문:  great value grown love snack delicious healthy well difficult find local stores glad go amazon \n",
            "실제 요약문:  the best snack ever \n",
            "예측 요약문:   great snack\n",
            "\n",
            "\n",
            "원문:  previously using timothy extra bold midnight magic good flavored coffee along came coffee introduced friend immediately liked bold dark roast flavor alternate two brews strongly recommend try green mountain coffee like strong dark extra bold roast \n",
            "실제 요약문:  extra bold strong and excellent taste \n",
            "예측 요약문:   great coffee\n",
            "\n",
            "\n",
            "원문:  granola wonderful price good value love crunchy full good things hard believe good \n",
            "실제 요약문:  we love \n",
            "예측 요약문:   great snack\n",
            "\n",
            "\n",
            "원문:  like taste texture steal cut oats instant oatmeal patience time cook real stuff give try texture much closer steel cut oats prep super easy bought single pack instant oatmeal since discovered coach oats recommend everyone \n",
            "실제 요약문:  favorite oatmeal \n",
            "예측 요약문:   great for the\n",
            "\n",
            "\n",
            "원문:  dissapointed called sour cherry gummies avid haribo gummy fan expecting least type sour taste instead overly sweet sugar coated even much cherry flavor sweet overwhelming sugar flavor want gummies sour tangy try fizzy cola bottles still sugar coating good sweet tangy tart flavor enjoy \n",
            "실제 요약문:  much sugar no sour at all \n",
            "예측 요약문:   not bad\n",
            "\n",
            "\n",
            "원문:  coffee great cheaper bed bath beyond coupon added \n",
            "실제 요약문:  cheaper at with \n",
            "예측 요약문:   great coffee\n",
            "\n",
            "\n",
            "원문:  enjoying product time buy grocery store believe cost box like black licorice love product \n",
            "실제 요약문:  my favorite natural licorice \n",
            "예측 요약문:   great product\n",
            "\n",
            "\n",
            "원문:  seemed like great toy dogs seconds end treats come rubber parts opposite end little holes makes smell treats much stronger wrong end toy dogs scratching licking end could actually smell treats actually backed away strong smell rubber treat dispensing toys easy dogs one seem made animal heavily sense smell \n",
            "실제 요약문:  treat smell is stronger at wrong end \n",
            "예측 요약문:   my dog loves them\n",
            "\n",
            "\n",
            "원문:  eating stuff ages recently local store stopped carrying idea really option mail order bulk price last thing need chocolate bars sitting around kitchen fat enough anyway bars taste exactly milk chocolate without animal cruelty creamy smooth wish company would make different flavors like peanut bars puffed rice bits chunky bars cranberries pecans \n",
            "실제 요약문:  rare treat \n",
            "예측 요약문:   great\n",
            "\n",
            "\n",
            "원문:  normally love product stars shipment bars hard like rock wonder stored prior shipment still tasted great soft like kind bars buy store \n",
            "실제 요약문:  hard \n",
            "예측 요약문:   not good\n",
            "\n",
            "\n",
            "원문:  great coffee great price great love new single cup coffee maker enjoy variety cup flavors including one \n",
            "실제 요약문:  cups \n",
            "예측 요약문:   great coffee\n",
            "\n",
            "\n",
            "원문:  got refund saying company carry item longer disappointment take listing \n",
            "실제 요약문:  ordered this and and \n",
            "예측 요약문:   not bad\n",
            "\n",
            "\n",
            "원문:  various mothers laws etc buy mother day decided order flowers amazon ease convenient way send flowers multiple recipients hoped flowers would look okay fact thrilled everyone received raved recipients stated flowers packed fresh beautiful lasted long time use pro flowers future flower purchases \n",
            "실제 요약문:  expectations \n",
            "예측 요약문:   not as advertised\n",
            "\n",
            "\n",
            "원문:  mexico border state found like mexican food know fix used lawry mixes saw enchilada mix shopping tried family amazed could cook prepare good enchiladas secret lawry enchilada mix work wonders \n",
            "실제 요약문:  best enchilada \n",
            "예측 요약문:   great product\n",
            "\n",
            "\n",
            "원문:  dogs love treats small perfect training want treats fill unlike reviewers said salmon flavor peanut butter seem strong odor keep bag sealed difficulty treats drying cannot go wrong ordering case stop making \n",
            "실제 요약문:  my dogs love these treats \n",
            "예측 요약문:   great product\n",
            "\n",
            "\n",
            "원문:  first ordered line thought unusual buy coffee pods internet order third time expensive purchase store boxes small love able get larger quantity cannot beat price fast delivery free shipping great \n",
            "실제 요약문:  price fast delivery am now repeat customer \n",
            "예측 요약문:   great coffee\n",
            "\n",
            "\n",
            "원문:  normally make meals pinch dinner couple favorite flavors hamburger helper years must say found boxed dinner quite good simply takes one pound ground beef cups water minutes dinner liquid cheese sauce normally boxed dinners rich creamy really liked reheated well cheesy skillets would great item pantry need make dinner fast simple tasty boot \n",
            "실제 요약문:  it is cheesy \n",
            "예측 요약문:   great for the go\n",
            "\n",
            "\n",
            "원문:  stuff yummy afraid try since love regular butter much read health benefits ghee ordering hooked delicious use butter popcorn saute veggies toast etc best part grass fed one grass fed find grass fed much better grain fed continue buy hoping start selling larger jar keep ordering twice month lol \n",
            "실제 요약문:  awesome \n",
            "예측 요약문:   great\n",
            "\n",
            "\n",
            "원문:  mini marshmallows needed get us tough cold winter never enough marshmallows store bought hot cocoa mix perfect economical way fix issue pleased quality definitely buying seller near future highly recommended treasure cute tiny marshmallows hot cocoa \n",
            "실제 요약문:  great deal \n",
            "예측 요약문:   great\n",
            "\n",
            "\n",
            "원문:  makes great centerpiece dining room coffee table well great conversation piece convince friends real live bonsai tree see expected considering real tree preserved tree look picture branches much wild still looks fantastic could always trim wanted make like moss nice touch pebbles look great fall overall pleased purchase \n",
            "실제 요약문:  beautiful tree \n",
            "예측 요약문:   good coffee\n",
            "\n",
            "\n",
            "원문:  ordered alternative canned pears taste taste exactly like canned pears like canned found like even better light syrup gives nice flavor like texture fruit retains lot crunchiness fresh pear canned pears soft throughout product something like hybrid fresh pears canned pears overall pleased purchase order stars relatively expensive price otherwise star product \n",
            "실제 요약문:  delicious sweet and like fresh pear \n",
            "예측 요약문:   not as good as\n",
            "\n",
            "\n",
            "원문:  product good addition fruit smoothies thins adding good taste electrolytes good hot weather \n",
            "실제 요약문:  good for use in smoothies \n",
            "예측 요약문:   great product\n",
            "\n",
            "\n",
            "원문:  cups came perfect condition taste great great price would recommend product \n",
            "실제 요약문:  lot cheaper than stores \n",
            "예측 요약문:   great coffee\n",
            "\n",
            "\n",
            "원문:  working wonders pump three times day built frozen refrigerated storage breast milk cannot imagine life without definitely must buy supply low \n",
            "실제 요약문:  love this product \n",
            "예측 요약문:   great product\n",
            "\n",
            "\n",
            "원문:  month old son picky eater first refused one flavor baby foods introduced months refused swallow rice lentil flavor variety pack actually spit back blew raspberries tried several times weeks got response time ordering pack even though loved meals \n",
            "실제 요약문:  variety but may not be for everyone \n",
            "예측 요약문:   great product\n",
            "\n",
            "\n",
            "원문:  usual biscuits good normally get couple biscuits totally crumble get time whole packet totally worthless expect get similar \n",
            "실제 요약문:  expect not to have crumbs \n",
            "예측 요약문:   great product\n",
            "\n",
            "\n",
            "원문:  would trying find onion soup mix lot chemicals preservatives bought try please would buy \n",
            "실제 요약문:  very good \n",
            "예측 요약문:   great product\n",
            "\n",
            "\n",
            "원문:  fell love first trip belgium since wait trip family members could send us sugar enough make favorite home often since rich often enough craving \n",
            "실제 요약문:  belgian sugar \n",
            "예측 요약문:   great product\n",
            "\n",
            "\n",
            "원문:  ordered sugar added version usually like sugar added low sugar products ice cream yogurt hot chocolate etc one terrible like reviewer tasted like ovaltine use like spoons powder get taste know cans probably donate \n",
            "실제 요약문:  horrible \n",
            "예측 요약문:   not good\n",
            "\n",
            "\n",
            "원문:  bar pretty good really taste homemade liked nuts top added little texture bite heated bad microwave seconds recommended tasted great good alternative dont like muffins little dry bar nice dont like sweets morning id steer clear \n",
            "실제 요약문:  pretty good \n",
            "예측 요약문:   great snack\n",
            "\n",
            "\n",
            "원문:  difficult describe herbal type pills quick results takes blind faith really ok got ordered quickly \n",
            "실제 요약문:  quick delivery \n",
            "예측 요약문:   great product\n",
            "\n",
            "\n",
            "원문:  chips great crispy crunchy lots flavor many times gluten free taste free time served guests one night several wanted know brand etc disappointed came well packed nothing crushed broken \n",
            "실제 요약문:  tasty tasty \n",
            "예측 요약문:   great snack\n",
            "\n",
            "\n",
            "원문:  make pancakes waffles every saturday morning kids simply comparison product baking powder come across even expensive brands trader joe whole foods pale comparison batter comes light fluffy every time kids love also known eat pancake two get pack store \n",
            "실제 요약문:  simply the best \n",
            "예측 요약문:   great product\n",
            "\n",
            "\n",
            "원문:  like cross cracker tortilla chip tastes pretty good sort little cardboard like texture would work really well dip cracker snacking prefer jalape chips brand pretty tasty \n",
            "실제 요약문:  pretty good more cracker like than chip \n",
            "예측 요약문:   great snack\n",
            "\n",
            "\n",
            "원문:  coffee lovely hint nuttiness really great got brand one mixed bag boxes coffees afraid might bitter made self tried surprised smoothness wonderfully rich taste gave husband sip well loved turned around bought two whole boxes goes nice large mug \n",
            "실제 요약문:  you are or not \n",
            "예측 요약문:   great coffee\n",
            "\n",
            "\n",
            "원문:  got sample today excited try fail brewing smelled great came dark first quickly changed light watery colour boring taste like dark coffee daily drink timothy midnight magic extra bold wife likes timothy morning blend prefers light roast even like coffee said tastes like warm milk \n",
            "실제 요약문:  weak boring coffee \n",
            "예측 요약문:   not good\n",
            "\n",
            "\n",
            "원문:  ordered evo cat food recommendation cats grand old ladies one developed diabetes last months insulin day starting cats innova evo diabetic cat able stop insulin altogether nothing short amazing far concerned never feed animals anything else \n",
            "실제 요약문:  amazing cat food \n",
            "예측 요약문:   my cat loves it\n",
            "\n",
            "\n",
            "원문:  love bread mixes nothing like making bread admit use bread maker clever enough use hands still enjoy experience tried different hodgson mixes excellent \n",
            "실제 요약문:  excellent bread mix \n",
            "예측 요약문:   great bread\n",
            "\n",
            "\n",
            "원문:  like another reviewer fell love beverage france overjoyed months return found available expensive grocery store near unfortunately kind orangina sold us beverage available europe ingredients totally different since product page says made us assume american recipe tasty thought would give heads anyone expecting european version miss orangina \n",
            "실제 요약문:  not the same \n",
            "예측 요약문:   not as good as\n",
            "\n",
            "\n",
            "원문:  really good like twenty ingredients none add anything close flavor imo buy something else also lb bag open store something else unless eat would unlikely mentioned taste \n",
            "실제 요약문:  unpleasant \n",
            "예측 요약문:   great product\n",
            "\n",
            "\n",
            "원문:  like pop tarts pack convenient way house \n",
            "실제 요약문:  pop tarts are awesome \n",
            "예측 요약문:   great product\n",
            "\n",
            "\n",
            "원문:  yummy crackers son loves price right subscribe save always available \n",
            "실제 요약문:  yummy \n",
            "예측 요약문:   great snack\n",
            "\n",
            "\n",
            "원문:  love pretzels appreciate long expiration date makes great kids snack paired nutella stars \n",
            "실제 요약문:  yummy \n",
            "예측 요약문:   great snack\n",
            "\n",
            "\n",
            "원문:  love mint tea always soothes upset tummy tastes refreshing best brand tried worth price though certainly wish lower \n",
            "실제 요약문:  my favorite brand \n",
            "예측 요약문:   great tea\n",
            "\n",
            "\n",
            "원문:  chocolate covered pomegranates hard find stores glad find amazon friend favorite made wonderful surprise \n",
            "실제 요약문:  yummy \n",
            "예측 요약문:   great popcorn\n",
            "\n",
            "\n",
            "원문:  trouble finding supermarket bit cheaper amazon com plus course convenient \n",
            "실제 요약문:  my wife \n",
            "예측 요약문:   great product\n",
            "\n",
            "\n",
            "원문:  flavorful satisfying crunch great gluten free casein free diet \n",
            "실제 요약문:  great for gluten free diets \n",
            "예측 요약문:   great snack\n",
            "\n",
            "\n",
            "원문:  know expect since first time getting vitamins searched high low vegan vitamins kids kids loves even autistic child loves eating hoped could make pills smaller add inside bottle instead continue get something better comes along god blessed \n",
            "실제 요약문:  vegan kids \n",
            "예측 요약문:   great product\n",
            "\n",
            "\n",
            "원문:  company great product top notch customer service made mistake order found fixed satisfaction well gift great would recommend plan give chocolates gift \n",
            "실제 요약문:  top customer service \n",
            "예측 요약문:   great product\n",
            "\n",
            "\n",
            "원문:  tasty healthy toddler gets morning asks bar devours great knowing getting healthy start breakfast loves taste normally asks bar fruit ready thank kashi love healthy soft breakfast bars kids hoping flavor options soft cereal bars soon \n",
            "실제 요약문:  great healthy breakfast bar that tastes great \n",
            "예측 요약문:   great snack\n",
            "\n",
            "\n",
            "원문:  looking alternative pasta rice whole wheat couscous great easy make healthy unlike couscous many supermarkets grains bit larger round anyhow plastic jars keep couscous nicely \n",
            "실제 요약문:  great alternative \n",
            "예측 요약문:   great snack\n",
            "\n",
            "\n",
            "원문:  love coffee always mixed decaf regular get caffeine buy perfect amount enjoy flavor coffee vacuum sucked packages make easy store use keeps coffee fresh use refill another container works well \n",
            "실제 요약문:  love it \n",
            "예측 요약문:   great coffee\n",
            "\n",
            "\n",
            "원문:  good cereal know else want say definately good stuff \n",
            "실제 요약문:  crunchy healthy \n",
            "예측 요약문:   great product\n",
            "\n",
            "\n",
            "원문:  drank could tell little difference regular strawberry kiwi flavored soda quite impressive considering drink made juice calories great alternative regular soda definitely purchasing future also tried orange tangerine carbonated juice enjoyed well \n",
            "실제 요약문:  like regular soda but made from juice \n",
            "예측 요약문:   great taste\n",
            "\n",
            "\n",
            "원문:  non aspartame filling drink good good took diet soda addiction \n",
            "실제 요약문:  very good \n",
            "예측 요약문:   great\n",
            "\n",
            "\n",
            "원문:  great soup full flavor spice like spicy stuff stay away one \n",
            "실제 요약문:  good stuff \n",
            "예측 요약문:   great product\n",
            "\n",
            "\n",
            "원문:  product fantastic anyone diet watching fat intake give try could believe delicious real peanuts mix water get creamy spreadable delicious peanut butter miss anything except calories \n",
            "실제 요약문:  the best \n",
            "예측 요약문:   great snack\n",
            "\n",
            "\n",
            "원문:  husband recently stopped smoking tea really helped clear junk chest pleasant taste aroma neither strong weak find drinking simply flavor tea great drink type chest cold good way get fluids soothe cough related illness yogi tea products best buying amazon way cheaper buying store subscribed couple flavors arrive without specifically order love feature thanks amazon \n",
            "실제 요약문:  tea the way tea should be \n",
            "예측 요약문:   great tea\n",
            "\n",
            "\n",
            "원문:  product available cold retail even less four pack case \n",
            "실제 요약문:  are nuts \n",
            "예측 요약문:   great product\n",
            "\n",
            "\n",
            "원문:  really great tasting hot sauce cannot imagine eating certain mexican foods without definitely agree reviewers price much higher retail downside amazon prime free shipping exactly free pay three times much would elsewhere \n",
            "실제 요약문:  great stuff \n",
            "예측 요약문:   great product\n",
            "\n",
            "\n",
            "원문:  love peach flavored iced tea right flavor wise case flavors example raspberry sooo sweet pretty unbearable tea good mix buying cheaper grocery price keeps going locally box pack ridiculous used able get stuff may big deal one pack drink much starts add recommend peach tea one flavors messed regards taste seems flavors one \n",
            "실제 요약문:  my favorite crystal light flavor \n",
            "예측 요약문:   great tea\n",
            "\n",
            "\n",
            "원문:  like like chocolate hazelnuts love chocolate bar ritter sport makes quality chocolate bars sweet milk chocolate bar like normal chocolate bars put together great chocolate bar highly recommended like love hazelnuts chocolate \n",
            "실제 요약문:  one great bar of \n",
            "예측 요약문:   best popcorn ever\n",
            "\n",
            "\n",
            "원문:  hard rock soft dip break diet pretzel great \n",
            "실제 요약문:  one word delicious \n",
            "예측 요약문:   great\n",
            "\n",
            "\n",
            "원문:  always looking fiber bang buck cereal wins hands light crunchy texture get soggy milk artificial sweeteners nice natural sweet flavor satisfying healthy give gas intestinal body thank eating cereal \n",
            "실제 요약문:  so tasty and so healthy \n",
            "예측 요약문:   great snack\n",
            "\n",
            "\n",
            "원문:  bought tassimo coffee machine daughter college absolutely love machine peppermint mocha disappeared quickly last winter appears flavor seasonal daughter wanted soon found available delivery quick daughter said tassimo selection even better starbucks far less expensive well worth \n",
            "실제 요약문:  delicious peppermint mocha for tassimo \n",
            "예측 요약문:   great product\n",
            "\n",
            "\n",
            "원문:  excellent salsa nice chunky good flavor spice spice overwhelming \n",
            "실제 요약문:  yum \n",
            "예측 요약문:   great product\n",
            "\n",
            "\n",
            "원문:  got gift girlfriend mother mentioned getting heart burn coffee even though loves coffee thought might make reasonable fix situation trying though seemed little less worried heart burn little concerned taste heartburn also drink much either due taste thought tasted little stale bland maybe bad batch seems process limit acid also limits flavor bad hoped going big winner \n",
            "실제 요약문:  low acid low taste \n",
            "예측 요약문:   great coffee\n",
            "\n",
            "\n",
            "원문:  sold lbs dollars steal couldnt leave stock less days came exactly described melted bears yummy wish came resealable bag purchased dollars next day dollars glad picked steal \n",
            "실제 요약문:  yummm \n",
            "예측 요약문:   great product\n",
            "\n",
            "\n",
            "원문:  product shopping amazon saves trying find stores sure whether price best service convenient \n",
            "실제 요약문:  convenient \n",
            "예측 요약문:   great product\n",
            "\n",
            "\n",
            "원문:  say getting coffee amazon bags came sealed well perfect condition beans fresh made great tasting coffee grind looking inexpensive way buying clock brand cheaper instead waiting go buy one get one free local supermarket ok guess price really cheaper expensive another option say clock makes around coffee burnt grinds really easily use french press auto drip maker turns great \n",
            "실제 요약문:  item came as described \n",
            "예측 요약문:   great coffee\n",
            "\n",
            "\n",
            "원문:  enjoy syrup hate constant increases getting fed corporate country \n",
            "실제 요약문:  price increase in months \n",
            "예측 요약문:   great\n",
            "\n",
            "\n",
            "원문:  received green coffee cups sample test quite pleased strong coffee weak coffee either great blend flavor smooth taste bitter like coffees tend good price brand well overall would say keeper morning ritual \n",
            "실제 요약문:  great all around taste \n",
            "예측 요약문:   great coffee\n",
            "\n",
            "\n",
            "원문:  asked review purchase already said fast shipping good product bother reviews problem let know stop using future leave alone \n",
            "실제 요약문:  pro treat \n",
            "예측 요약문:   great product\n",
            "\n",
            "\n",
            "원문:  came across treats months ago target looking things make dogs first vet experience pleasant one healthiest things store believe dog really liked go site everything looked kosher eventually scared away whole made china issue eating treats right willing give dogswell another try look recalls within bulk us still eating beef \n",
            "실제 요약문:  pretty good treats \n",
            "예측 요약문:   great for training\n",
            "\n",
            "\n",
            "원문:  applied product several plants including small tree rose bush within two days plants applied product dead grass around plants plants got also dead could used weed killer would spray plants like \n",
            "실제 요약문:  my plants \n",
            "예측 요약문:   not as advertised\n",
            "\n",
            "\n",
            "원문:  mistake thought bags rather price per bag much higher pay local grocery product \n",
            "실제 요약문:  little expensive \n",
            "예측 요약문:   not bad\n",
            "\n",
            "\n",
            "원문:  happy found product amazon saved ton money share homemade chinese hot mustard family friends great product great price \n",
            "실제 요약문:  wow bargain for sure \n",
            "예측 요약문:   great product\n",
            "\n",
            "\n",
            "원문:  kids go pace buying grocery store would break bank amazon makes affordable use auto deliver get even cheaper \n",
            "실제 요약문:  same as grocery store but cheaper \n",
            "예측 요약문:   great product\n",
            "\n",
            "\n",
            "원문:  calorie pack snack products tried absolute favorites funny thing even like oreos crazy chocolate however thin crisps exactly thin crisp also right sweet cravings hunger \n",
            "실제 요약문:  oreo thin crisps work for me \n",
            "예측 요약문:   great snack\n",
            "\n",
            "\n",
            "원문:  great flavor snack need boost energy help satisfy cravings meals \n",
            "실제 요약문:  delicious snack \n",
            "예측 요약문:   great snack\n",
            "\n",
            "\n",
            "원문:  tastes great balanced right dark would recommend would buy \n",
            "실제 요약문:  just right \n",
            "예측 요약문:   great product\n",
            "\n",
            "\n",
            "원문:  flavor good one though bit stronger pomegranate lemonade preferred first time try likely seem strong tart flavor good careful spill though stain even stain hands make sure drink sip oz water bottle pour powder make less likely make mess amazon also good price found standard price far cheaper grocery store subscribe save price even cheaper \n",
            "실제 요약문:  very good taste though can \n",
            "예측 요약문:   great product\n",
            "\n",
            "\n",
            "원문:  makes great sugar free iced mocha coffee ice skim milk truvia chemical taste diluted \n",
            "실제 요약문:  makes great sugar free iced mocha \n",
            "예측 요약문:   great product\n",
            "\n",
            "\n",
            "원문:  like chocolate like peanut butter taste ultimately granola bar quality granola granola bar feels like chocolate merely cover fact granola much natural fiber without taste granola pretty sub par granola ok snacks like granola bars better \n",
            "실제 요약문:  too much fiber flavor \n",
            "예측 요약문:   delicious\n",
            "\n",
            "\n",
            "원문:  pg tips perfect black tea great cases right amount brewing intensity love drink much large size great value \n",
            "실제 요약문:  perfect \n",
            "예측 요약문:   great tea\n",
            "\n",
            "\n",
            "원문:  good taste similar tasty texture little little mealy taste better texture appetizing would gotten better review \n",
            "실제 요약문:  meh \n",
            "예측 요약문:   great taste\n",
            "\n",
            "\n",
            "원문:  love make red velvet cupcakes get deep red color need use ounce food coloring entire little bottle gets expensive quickly turned amazon much better price buying tiny bottles thanks \n",
            "실제 요약문:  great \n",
            "예측 요약문:   great product\n",
            "\n",
            "\n",
            "원문:  best bisquick pancakes ever made think better original bisquick pancakes husband even loved would recommend buying product \n",
            "실제 요약문:  amazing \n",
            "예측 요약문:   great product\n",
            "\n",
            "\n",
            "원문:  used make rolls breadsticks pizza think makes better pizza crust pizza crust mix continue buy \n",
            "실제 요약문:  great all purpose baking mix \n",
            "예측 요약문:   great\n",
            "\n",
            "\n",
            "원문:  erythritol leaves aftertaste muffins pies tried sugar nothing beats erythritol everyone tastes items baked sweetener wants know used \n",
            "실제 요약문:  great sugar substitute \n",
            "예측 요약문:   not good\n",
            "\n",
            "\n",
            "원문:  tea stuff green stuff shipping nearly price tea ended paying pound yerba mate order got smart googled yerba mate found lots sites offer lot tea lot less money like lb instead lb paid also sites offer genuine brands think try next \n",
            "실제 요약문:  wow expensive \n",
            "예측 요약문:   great tea\n",
            "\n",
            "\n",
            "원문:  pleased find product fantastic purchase anyone uses pumpkin pie spice large quantities reasonably priced creek spices list future orders products via amazon definitely order needed \n",
            "실제 요약문:  pumpkin pie spice packed in large jars \n",
            "예측 요약문:   great product\n",
            "\n",
            "\n",
            "원문:  liked coffee mush nice nutty pecan flavor cheap definately purchase oh thanks amazon shipments always time undamaged \n",
            "실제 요약문:  great southern taste \n",
            "예측 요약문:   great coffee\n",
            "\n",
            "\n",
            "원문:  every year put together treat bags trick get plus every year bubble one gum put cheap price great taste kids adults love \n",
            "실제 요약문:  bubble \n",
            "예측 요약문:   great product\n",
            "\n",
            "\n"
          ],
          "name": "stdout"
        }
      ]
    },
    {
      "cell_type": "markdown",
      "metadata": {
        "id": "UJQTuaLzYh6X"
      },
      "source": [
        "# 5. Model Save"
      ]
    },
    {
      "cell_type": "code",
      "metadata": {
        "colab": {
          "base_uri": "https://localhost:8080/"
        },
        "id": "rtHG8euRXex9",
        "outputId": "ede44d72-061a-456f-8bfe-e343370dd378"
      },
      "source": [
        "from google.colab import drive\n",
        "\n",
        "drive.mount('/content/drive')"
      ],
      "execution_count": 102,
      "outputs": [
        {
          "output_type": "stream",
          "text": [
            "Drive already mounted at /content/drive; to attempt to forcibly remount, call drive.mount(\"/content/drive\", force_remount=True).\n"
          ],
          "name": "stdout"
        }
      ]
    },
    {
      "cell_type": "code",
      "metadata": {
        "colab": {
          "base_uri": "https://localhost:8080/"
        },
        "id": "Qdt3i97fYmSM",
        "outputId": "9c46c18d-6419-44ea-e82b-6796b7923fdc"
      },
      "source": [
        "model.save('/content/drive/MyDrive/Colab Notebooks/Natural_Language_Processing/models/004_attention')"
      ],
      "execution_count": 109,
      "outputs": [
        {
          "output_type": "stream",
          "text": [
            "INFO:tensorflow:Assets written to: /content/drive/MyDrive/Colab Notebooks/Natural_Language_Processing/models/004_attention/assets\n"
          ],
          "name": "stdout"
        }
      ]
    },
    {
      "cell_type": "code",
      "metadata": {
        "colab": {
          "base_uri": "https://localhost:8080/"
        },
        "id": "7xwK2kZoY1VO",
        "outputId": "9892cc49-a3b2-4105-e967-574b825b5082"
      },
      "source": [
        "!ls -l /content/drive/My\\ Drive/Colab\\ Notebooks/Natural_Language_Processing/models/"
      ],
      "execution_count": 105,
      "outputs": [
        {
          "output_type": "stream",
          "text": [
            "total 175272\n",
            "-rw------- 1 root root  27219676 Mar 27 11:57 001_word2vec_eng\n",
            "-rw------- 1 root root  19337305 Mar 31 02:34 002_word2vec_kor_movie\n",
            "-rw------- 1 root root 117857932 Mar 31 06:08 003_word2vec_kor_wiki\n",
            "-rw------- 1 root root  15062224 Apr  2 07:01 004_attention.h5\n"
          ],
          "name": "stdout"
        }
      ]
    },
    {
      "cell_type": "code",
      "metadata": {
        "id": "oAMX7fsOY4dO"
      },
      "source": [
        "model_google = load_model('/content/drive/MyDrive/Colab Notebooks/Natural_Language_Processing/models/004_attention')"
      ],
      "execution_count": 110,
      "outputs": []
    },
    {
      "cell_type": "code",
      "metadata": {
        "colab": {
          "base_uri": "https://localhost:8080/"
        },
        "id": "jopDLtVwZeku",
        "outputId": "759b9d7e-7e25-456e-a210-08fdc2e4d62d"
      },
      "source": [
        "model_google.summary()"
      ],
      "execution_count": 111,
      "outputs": [
        {
          "output_type": "stream",
          "text": [
            "Model: \"model_1\"\n",
            "__________________________________________________________________________________________________\n",
            "Layer (type)                    Output Shape         Param #     Connected to                     \n",
            "==================================================================================================\n",
            "input_1 (InputLayer)            [(None, 60)]         0                                            \n",
            "__________________________________________________________________________________________________\n",
            "embedding (Embedding)           (None, 60, 64)       576000      input_1[0][0]                    \n",
            "__________________________________________________________________________________________________\n",
            "lstm (LSTM)                     [(None, 60, 128), (N 98816       embedding[0][0]                  \n",
            "__________________________________________________________________________________________________\n",
            "input_2 (InputLayer)            [(None, None)]       0                                            \n",
            "__________________________________________________________________________________________________\n",
            "lstm_1 (LSTM)                   [(None, 60, 128), (N 131584      lstm[0][0]                       \n",
            "__________________________________________________________________________________________________\n",
            "embedding_1 (Embedding)         (None, None, 64)     160000      input_2[0][0]                    \n",
            "__________________________________________________________________________________________________\n",
            "lstm_2 (LSTM)                   [(None, 60, 128), (N 131584      lstm_1[0][0]                     \n",
            "__________________________________________________________________________________________________\n",
            "lstm_3 (LSTM)                   [(None, None, 128),  98816       embedding_1[0][0]                \n",
            "                                                                 lstm_2[0][1]                     \n",
            "                                                                 lstm_2[0][2]                     \n",
            "__________________________________________________________________________________________________\n",
            "attention_layer (AttentionLayer ((None, None, 128),  32896       lstm_2[0][0]                     \n",
            "                                                                 lstm_3[0][0]                     \n",
            "__________________________________________________________________________________________________\n",
            "concat_layer (Concatenate)      (None, None, 256)    0           lstm_3[0][0]                     \n",
            "                                                                 attention_layer[0][0]            \n",
            "__________________________________________________________________________________________________\n",
            "dense_1 (Dense)                 (None, None, 2500)   642500      concat_layer[0][0]               \n",
            "==================================================================================================\n",
            "Total params: 1,872,196\n",
            "Trainable params: 1,872,196\n",
            "Non-trainable params: 0\n",
            "__________________________________________________________________________________________________\n"
          ],
          "name": "stdout"
        }
      ]
    }
  ]
}