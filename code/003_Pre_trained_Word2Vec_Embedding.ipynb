{
  "nbformat": 4,
  "nbformat_minor": 0,
  "metadata": {
    "colab": {
      "name": "003_Pre-trained_Word2Vec_Embedding.ipynb",
      "provenance": [],
      "collapsed_sections": []
    },
    "kernelspec": {
      "name": "python3",
      "display_name": "Python 3"
    },
    "language_info": {
      "name": "python"
    },
    "accelerator": "GPU"
  },
  "cells": [
    {
      "cell_type": "code",
      "metadata": {
        "id": "f3okUbff_E87"
      },
      "source": [
        "import warnings\n",
        "warnings.filterwarnings('ignore')"
      ],
      "execution_count": 1,
      "outputs": []
    },
    {
      "cell_type": "code",
      "metadata": {
        "id": "1F-iDvi3AbY8"
      },
      "source": [
        "from google.colab import drive, files"
      ],
      "execution_count": 8,
      "outputs": []
    },
    {
      "cell_type": "code",
      "metadata": {
        "colab": {
          "base_uri": "https://localhost:8080/"
        },
        "id": "Nz4hr9KB_Tj9",
        "outputId": "f062e483-56ff-4024-d71e-2cda2110b9bd"
      },
      "source": [
        "!nvidia-smi"
      ],
      "execution_count": 2,
      "outputs": [
        {
          "output_type": "stream",
          "text": [
            "Sat Mar 27 14:01:44 2021       \n",
            "+-----------------------------------------------------------------------------+\n",
            "| NVIDIA-SMI 460.56       Driver Version: 460.32.03    CUDA Version: 11.2     |\n",
            "|-------------------------------+----------------------+----------------------+\n",
            "| GPU  Name        Persistence-M| Bus-Id        Disp.A | Volatile Uncorr. ECC |\n",
            "| Fan  Temp  Perf  Pwr:Usage/Cap|         Memory-Usage | GPU-Util  Compute M. |\n",
            "|                               |                      |               MIG M. |\n",
            "|===============================+======================+======================|\n",
            "|   0  Tesla T4            Off  | 00000000:00:04.0 Off |                    0 |\n",
            "| N/A   61C    P8    11W /  70W |      0MiB / 15109MiB |      0%      Default |\n",
            "|                               |                      |                  N/A |\n",
            "+-------------------------------+----------------------+----------------------+\n",
            "                                                                               \n",
            "+-----------------------------------------------------------------------------+\n",
            "| Processes:                                                                  |\n",
            "|  GPU   GI   CI        PID   Type   Process name                  GPU Memory |\n",
            "|        ID   ID                                                   Usage      |\n",
            "|=============================================================================|\n",
            "|  No running processes found                                                 |\n",
            "+-----------------------------------------------------------------------------+\n"
          ],
          "name": "stdout"
        }
      ]
    },
    {
      "cell_type": "code",
      "metadata": {
        "id": "zznp90be_Zrh"
      },
      "source": [
        "import gensim"
      ],
      "execution_count": 3,
      "outputs": []
    },
    {
      "cell_type": "markdown",
      "metadata": {
        "id": "0THE3DZL_e13"
      },
      "source": [
        "### 1) 영어\n",
        "\n",
        "모델 다운로드 경로 : https://drive.google.com/file/d/0B7XkCwpI5KDYNlNUTTlSS21pQmM/edit"
      ]
    },
    {
      "cell_type": "code",
      "metadata": {
        "colab": {
          "base_uri": "https://localhost:8080/"
        },
        "id": "n9HJgIh-_d2G",
        "outputId": "002666a4-2bfc-4aa6-eae7-53bca4f2c949"
      },
      "source": [
        "drive.mount('/content/drive/')"
      ],
      "execution_count": 7,
      "outputs": [
        {
          "output_type": "stream",
          "text": [
            "Drive already mounted at /content/drive/; to attempt to forcibly remount, call drive.mount(\"/content/drive/\", force_remount=True).\n"
          ],
          "name": "stdout"
        }
      ]
    },
    {
      "cell_type": "code",
      "metadata": {
        "colab": {
          "base_uri": "https://localhost:8080/"
        },
        "id": "oJaoYZQf_1NP",
        "outputId": "71f223e7-cf16-43a4-e879-28fb8fec5cd3"
      },
      "source": [
        "!ls '/content/drive/My Drive/Colab Notebooks/Natural_Language_Processing/data/'"
      ],
      "execution_count": 11,
      "outputs": [
        {
          "output_type": "stream",
          "text": [
            "GoogleNews-vectors-negative300.bin.gz  ted_en-20160408.zip\n",
            "kowiki-latest-pages-articles.xml.bz2   wiki_data.txt\n"
          ],
          "name": "stdout"
        }
      ]
    },
    {
      "cell_type": "code",
      "metadata": {
        "id": "Ont4gUTyD9gm"
      },
      "source": [
        "!gzip -dk '/content/drive/My Drive/Colab Notebooks/Natural_Language_Processing/data/GoogleNews-vectors-negative300.bin.gz'"
      ],
      "execution_count": 24,
      "outputs": []
    },
    {
      "cell_type": "code",
      "metadata": {
        "id": "DBpHDmCsAYZp"
      },
      "source": [
        ""
      ],
      "execution_count": null,
      "outputs": []
    },
    {
      "cell_type": "code",
      "metadata": {
        "colab": {
          "base_uri": "https://localhost:8080/"
        },
        "id": "T1OLxqMvAEXN",
        "outputId": "d3c980c9-f7fa-4e6c-b24c-36995d895cb4"
      },
      "source": [
        "# 구글의 사전훈련된 Word2Vec 모델 로드\n",
        "model = gensim.models.KeyedVectors.load_word2vec_format(\n",
        "    '/content/drive/My Drive/Colab Notebooks/Natural_Language_Processing/\\\n",
        "    data/GoogleNews-vectors-negative300.bin', \n",
        "    binary = True)\n",
        "\n",
        "model.vectors.shape"
      ],
      "execution_count": 25,
      "outputs": [
        {
          "output_type": "execute_result",
          "data": {
            "text/plain": [
              "(3000000, 300)"
            ]
          },
          "metadata": {
            "tags": []
          },
          "execution_count": 25
        }
      ]
    },
    {
      "cell_type": "code",
      "metadata": {
        "colab": {
          "base_uri": "https://localhost:8080/"
        },
        "id": "qpz2MZeXA-Oq",
        "outputId": "4fbb10c0-8805-450f-cfa6-0afdf78137ef"
      },
      "source": [
        "model.similarity('this' , 'is') , model.similarity('post' , 'book')"
      ],
      "execution_count": 26,
      "outputs": [
        {
          "output_type": "execute_result",
          "data": {
            "text/plain": [
              "(0.40797037, 0.057204384)"
            ]
          },
          "metadata": {
            "tags": []
          },
          "execution_count": 26
        }
      ]
    },
    {
      "cell_type": "code",
      "metadata": {
        "colab": {
          "base_uri": "https://localhost:8080/"
        },
        "id": "Wj7CDFOkBG-c",
        "outputId": "b201d978-10e8-4184-d7b0-b21c283bce02"
      },
      "source": [
        "# 단어 book의 벡터 출력\n",
        "model['book']"
      ],
      "execution_count": 27,
      "outputs": [
        {
          "output_type": "execute_result",
          "data": {
            "text/plain": [
              "array([ 0.11279297, -0.02612305, -0.04492188,  0.06982422,  0.140625  ,\n",
              "        0.03039551, -0.04370117,  0.24511719,  0.08740234, -0.05053711,\n",
              "        0.23144531, -0.07470703,  0.21875   ,  0.03466797, -0.14550781,\n",
              "        0.05761719,  0.00671387, -0.00701904,  0.13183594, -0.25390625,\n",
              "        0.14355469, -0.140625  , -0.03564453, -0.21289062, -0.24804688,\n",
              "        0.04980469, -0.09082031,  0.14453125,  0.05712891, -0.10400391,\n",
              "       -0.19628906, -0.20507812, -0.27539062,  0.03063965,  0.20117188,\n",
              "        0.17382812,  0.09130859, -0.10107422,  0.22851562, -0.04077148,\n",
              "        0.02709961, -0.00106049,  0.02709961,  0.34179688, -0.13183594,\n",
              "       -0.078125  ,  0.02197266, -0.18847656, -0.17480469, -0.05566406,\n",
              "       -0.20898438,  0.04858398, -0.07617188, -0.15625   , -0.05419922,\n",
              "        0.01672363, -0.02722168, -0.11132812, -0.03588867, -0.18359375,\n",
              "        0.28710938,  0.01757812,  0.02185059, -0.05664062, -0.01251221,\n",
              "        0.01708984, -0.21777344, -0.06787109,  0.04711914, -0.00668335,\n",
              "        0.08544922, -0.02209473,  0.31835938,  0.01794434, -0.02246094,\n",
              "       -0.03051758, -0.09570312,  0.24414062,  0.20507812,  0.05419922,\n",
              "        0.29101562,  0.03637695,  0.04956055, -0.06689453,  0.09277344,\n",
              "       -0.10595703, -0.04370117,  0.19726562, -0.03015137,  0.05615234,\n",
              "        0.08544922, -0.09863281, -0.02392578, -0.08691406, -0.22460938,\n",
              "       -0.16894531,  0.09521484, -0.0612793 , -0.03015137, -0.265625  ,\n",
              "       -0.13378906,  0.00139618,  0.01794434,  0.10107422,  0.13964844,\n",
              "        0.06445312, -0.09765625, -0.11376953, -0.24511719, -0.15722656,\n",
              "        0.00457764,  0.12988281, -0.03540039, -0.08105469,  0.18652344,\n",
              "        0.03125   , -0.09326172, -0.04760742,  0.23730469,  0.11083984,\n",
              "        0.08691406,  0.01916504,  0.21386719, -0.0065918 , -0.08984375,\n",
              "       -0.02502441, -0.09863281, -0.05639648, -0.26757812,  0.19335938,\n",
              "       -0.08886719, -0.25976562,  0.05957031, -0.10742188,  0.09863281,\n",
              "        0.1484375 ,  0.04101562,  0.00340271, -0.06591797, -0.02941895,\n",
              "        0.20019531, -0.00521851,  0.02355957, -0.13671875, -0.12597656,\n",
              "       -0.10791016,  0.0067749 ,  0.15917969,  0.0145874 , -0.15136719,\n",
              "        0.07519531, -0.02905273,  0.01843262,  0.20800781,  0.25195312,\n",
              "       -0.11523438, -0.23535156,  0.04101562, -0.11035156,  0.02905273,\n",
              "        0.22460938, -0.04272461,  0.09667969,  0.11865234,  0.08007812,\n",
              "        0.07958984,  0.3125    , -0.14941406, -0.234375  ,  0.06079102,\n",
              "        0.06982422, -0.14355469, -0.05834961, -0.36914062, -0.10595703,\n",
              "        0.00738525,  0.24023438, -0.10400391, -0.02124023,  0.05712891,\n",
              "       -0.11621094, -0.16894531, -0.06396484, -0.12060547,  0.08105469,\n",
              "       -0.13769531, -0.08447266,  0.12792969, -0.15429688,  0.17871094,\n",
              "        0.2421875 , -0.06884766,  0.03320312,  0.04394531, -0.04589844,\n",
              "        0.03686523, -0.07421875, -0.01635742, -0.24121094, -0.08203125,\n",
              "       -0.01733398,  0.0291748 ,  0.10742188,  0.11279297,  0.12890625,\n",
              "        0.01416016, -0.28710938,  0.16503906, -0.25585938,  0.2109375 ,\n",
              "       -0.19238281,  0.22363281,  0.04541016,  0.00872803,  0.11376953,\n",
              "        0.375     ,  0.09765625,  0.06201172,  0.12109375, -0.24316406,\n",
              "        0.203125  ,  0.12158203,  0.08642578,  0.01782227,  0.17382812,\n",
              "        0.01855469,  0.03613281, -0.02124023, -0.02905273, -0.04541016,\n",
              "        0.1796875 ,  0.06494141, -0.13378906, -0.09228516,  0.02172852,\n",
              "        0.02099609,  0.07226562,  0.3046875 , -0.27539062, -0.30078125,\n",
              "        0.08691406, -0.22949219,  0.0546875 , -0.34179688, -0.00680542,\n",
              "       -0.0291748 , -0.03222656,  0.16210938,  0.01141357,  0.23339844,\n",
              "       -0.0859375 , -0.06494141,  0.15039062,  0.17675781,  0.08251953,\n",
              "       -0.26757812, -0.11669922,  0.01330566,  0.01818848,  0.10009766,\n",
              "       -0.09570312,  0.109375  , -0.16992188, -0.23046875, -0.22070312,\n",
              "        0.0625    ,  0.03662109, -0.125     ,  0.05151367, -0.18847656,\n",
              "        0.22949219,  0.26367188, -0.09814453,  0.06176758,  0.11669922,\n",
              "        0.23046875,  0.32617188,  0.02038574, -0.03735352, -0.12255859,\n",
              "        0.296875  , -0.25      , -0.08544922, -0.03149414,  0.38085938,\n",
              "        0.02929688, -0.265625  ,  0.42382812, -0.1484375 ,  0.14355469,\n",
              "       -0.03125   ,  0.00717163, -0.16601562, -0.15820312,  0.03637695,\n",
              "       -0.16796875, -0.01483154,  0.09667969, -0.05761719, -0.00515747],\n",
              "      dtype=float32)"
            ]
          },
          "metadata": {
            "tags": []
          },
          "execution_count": 27
        }
      ]
    },
    {
      "cell_type": "markdown",
      "metadata": {
        "id": "JIy_64rMBMzA"
      },
      "source": [
        "### 2) 한국어\n",
        "- 모델 다운로드 경로 : https://drive.google.com/file/d/0B0ZXk88koS2KbDhXdWg1Q2RydlU/view"
      ]
    },
    {
      "cell_type": "code",
      "metadata": {
        "colab": {
          "base_uri": "https://localhost:8080/"
        },
        "id": "NpHYfnWDGAbE",
        "outputId": "448964c9-5f05-4053-a72e-7d2db501038e"
      },
      "source": [
        "!unzip '/content/drive/My Drive/Colab Notebooks/Natural_Language_Processing/data/ko.zip'"
      ],
      "execution_count": 33,
      "outputs": [
        {
          "output_type": "stream",
          "text": [
            "Archive:  /content/drive/My Drive/Colab Notebooks/Natural_Language_Processing/data/ko.zip\n",
            "  inflating: ko.bin                  \n",
            "  inflating: ko.tsv                  \n"
          ],
          "name": "stdout"
        }
      ]
    },
    {
      "cell_type": "code",
      "metadata": {
        "id": "giOYYdYwFCzC"
      },
      "source": [
        "model = gensim.models.Word2Vec.load('ko.bin')"
      ],
      "execution_count": 34,
      "outputs": []
    },
    {
      "cell_type": "code",
      "metadata": {
        "colab": {
          "base_uri": "https://localhost:8080/"
        },
        "id": "AO3XAY_RFafH",
        "outputId": "70e00c67-cf75-42cb-e96b-fbc67f2931d8"
      },
      "source": [
        "result = model.wv.most_similar('페인트')\n",
        "\n",
        "result"
      ],
      "execution_count": 35,
      "outputs": [
        {
          "output_type": "execute_result",
          "data": {
            "text/plain": [
              "[('나이프', 0.7260711789131165),\n",
              " ('플라스틱', 0.718015193939209),\n",
              " ('잉크', 0.7164594531059265),\n",
              " ('안료', 0.710809051990509),\n",
              " ('라텍스', 0.7030280232429504),\n",
              " ('비닐', 0.6998547315597534),\n",
              " ('코팅', 0.6989330649375916),\n",
              " ('점토', 0.691910982131958),\n",
              " ('비누', 0.6917439699172974),\n",
              " ('액세서리', 0.6889396905899048)]"
            ]
          },
          "metadata": {
            "tags": []
          },
          "execution_count": 35
        }
      ]
    },
    {
      "cell_type": "code",
      "metadata": {
        "id": "CBaVU6sTGIwl"
      },
      "source": [
        ""
      ],
      "execution_count": null,
      "outputs": []
    }
  ]
}