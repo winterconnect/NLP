{
  "nbformat": 4,
  "nbformat_minor": 0,
  "metadata": {
    "colab": {
      "name": "002_Word2Vec_kor.ipynb",
      "provenance": []
    },
    "kernelspec": {
      "display_name": "Python 3",
      "name": "python3"
    },
    "language_info": {
      "name": "python"
    }
  },
  "cells": [
    {
      "cell_type": "code",
      "metadata": {
        "id": "EFVob3CcBg4c"
      },
      "source": [
        "import warnings\n",
        "warnings.filterwarnings('ignore')"
      ],
      "execution_count": null,
      "outputs": []
    },
    {
      "cell_type": "code",
      "metadata": {
        "colab": {
          "base_uri": "https://localhost:8080/"
        },
        "id": "Q3WCSIaXCLiB",
        "outputId": "94e2e7cb-7412-4120-e6b7-52b82defc318"
      },
      "source": [
        "!pip install konlpy"
      ],
      "execution_count": null,
      "outputs": [
        {
          "output_type": "stream",
          "text": [
            "Collecting konlpy\n",
            "\u001b[?25l  Downloading https://files.pythonhosted.org/packages/85/0e/f385566fec837c0b83f216b2da65db9997b35dd675e107752005b7d392b1/konlpy-0.5.2-py2.py3-none-any.whl (19.4MB)\n",
            "\u001b[K     |████████████████████████████████| 19.4MB 1.4MB/s \n",
            "\u001b[?25hCollecting colorama\n",
            "  Downloading https://files.pythonhosted.org/packages/44/98/5b86278fbbf250d239ae0ecb724f8572af1c91f4a11edf4d36a206189440/colorama-0.4.4-py2.py3-none-any.whl\n",
            "Requirement already satisfied: tweepy>=3.7.0 in /usr/local/lib/python3.7/dist-packages (from konlpy) (3.10.0)\n",
            "Collecting JPype1>=0.7.0\n",
            "\u001b[?25l  Downloading https://files.pythonhosted.org/packages/cd/a5/9781e2ef4ca92d09912c4794642c1653aea7607f473e156cf4d423a881a1/JPype1-1.2.1-cp37-cp37m-manylinux2010_x86_64.whl (457kB)\n",
            "\u001b[K     |████████████████████████████████| 460kB 43.4MB/s \n",
            "\u001b[?25hCollecting beautifulsoup4==4.6.0\n",
            "\u001b[?25l  Downloading https://files.pythonhosted.org/packages/9e/d4/10f46e5cfac773e22707237bfcd51bbffeaf0a576b0a847ec7ab15bd7ace/beautifulsoup4-4.6.0-py3-none-any.whl (86kB)\n",
            "\u001b[K     |████████████████████████████████| 92kB 7.5MB/s \n",
            "\u001b[?25hRequirement already satisfied: numpy>=1.6 in /usr/local/lib/python3.7/dist-packages (from konlpy) (1.19.5)\n",
            "Requirement already satisfied: lxml>=4.1.0 in /usr/local/lib/python3.7/dist-packages (from konlpy) (4.2.6)\n",
            "Requirement already satisfied: requests-oauthlib>=0.7.0 in /usr/local/lib/python3.7/dist-packages (from tweepy>=3.7.0->konlpy) (1.3.0)\n",
            "Requirement already satisfied: requests[socks]>=2.11.1 in /usr/local/lib/python3.7/dist-packages (from tweepy>=3.7.0->konlpy) (2.23.0)\n",
            "Requirement already satisfied: six>=1.10.0 in /usr/local/lib/python3.7/dist-packages (from tweepy>=3.7.0->konlpy) (1.15.0)\n",
            "Requirement already satisfied: typing-extensions; python_version < \"3.8\" in /usr/local/lib/python3.7/dist-packages (from JPype1>=0.7.0->konlpy) (3.7.4.3)\n",
            "Requirement already satisfied: oauthlib>=3.0.0 in /usr/local/lib/python3.7/dist-packages (from requests-oauthlib>=0.7.0->tweepy>=3.7.0->konlpy) (3.1.0)\n",
            "Requirement already satisfied: certifi>=2017.4.17 in /usr/local/lib/python3.7/dist-packages (from requests[socks]>=2.11.1->tweepy>=3.7.0->konlpy) (2020.12.5)\n",
            "Requirement already satisfied: chardet<4,>=3.0.2 in /usr/local/lib/python3.7/dist-packages (from requests[socks]>=2.11.1->tweepy>=3.7.0->konlpy) (3.0.4)\n",
            "Requirement already satisfied: idna<3,>=2.5 in /usr/local/lib/python3.7/dist-packages (from requests[socks]>=2.11.1->tweepy>=3.7.0->konlpy) (2.10)\n",
            "Requirement already satisfied: urllib3!=1.25.0,!=1.25.1,<1.26,>=1.21.1 in /usr/local/lib/python3.7/dist-packages (from requests[socks]>=2.11.1->tweepy>=3.7.0->konlpy) (1.24.3)\n",
            "Requirement already satisfied: PySocks!=1.5.7,>=1.5.6; extra == \"socks\" in /usr/local/lib/python3.7/dist-packages (from requests[socks]>=2.11.1->tweepy>=3.7.0->konlpy) (1.7.1)\n",
            "Installing collected packages: colorama, JPype1, beautifulsoup4, konlpy\n",
            "  Found existing installation: beautifulsoup4 4.6.3\n",
            "    Uninstalling beautifulsoup4-4.6.3:\n",
            "      Successfully uninstalled beautifulsoup4-4.6.3\n",
            "Successfully installed JPype1-1.2.1 beautifulsoup4-4.6.0 colorama-0.4.4 konlpy-0.5.2\n"
          ],
          "name": "stdout"
        }
      ]
    },
    {
      "cell_type": "code",
      "metadata": {
        "id": "pVLEXRgCB62c"
      },
      "source": [
        "import urllib.request\n",
        "from konlpy.tag import Okt\n",
        "from gensim.models import Word2Vec, KeyedVectors"
      ],
      "execution_count": null,
      "outputs": []
    },
    {
      "cell_type": "code",
      "metadata": {
        "id": "9e4_k3sCCHUn"
      },
      "source": [
        "import pandas as pd\n",
        "import matplotlib.pyplot as plt"
      ],
      "execution_count": null,
      "outputs": []
    },
    {
      "cell_type": "code",
      "metadata": {
        "colab": {
          "base_uri": "https://localhost:8080/"
        },
        "id": "7HXLaLgQYHlv",
        "outputId": "cb472a7b-6732-4111-bf49-09d2332507ed"
      },
      "source": [
        "!pip install wikiextractor"
      ],
      "execution_count": null,
      "outputs": [
        {
          "output_type": "stream",
          "text": [
            "Collecting wikiextractor\n",
            "\u001b[?25l  Downloading https://files.pythonhosted.org/packages/0c/bd/6b8ffc89fa4abefd801f7b0f83bc17382664484bd32eb6529b243d7a8f12/wikiextractor-3.0.4-py3-none-any.whl (46kB)\n",
            "\r\u001b[K     |███████                         | 10kB 17.0MB/s eta 0:00:01\r\u001b[K     |██████████████▏                 | 20kB 23.8MB/s eta 0:00:01\r\u001b[K     |█████████████████████▏          | 30kB 23.3MB/s eta 0:00:01\r\u001b[K     |████████████████████████████▎   | 40kB 26.8MB/s eta 0:00:01\r\u001b[K     |████████████████████████████████| 51kB 6.8MB/s \n",
            "\u001b[?25hInstalling collected packages: wikiextractor\n",
            "Successfully installed wikiextractor-3.0.4\n"
          ],
          "name": "stdout"
        }
      ]
    },
    {
      "cell_type": "markdown",
      "metadata": {
        "id": "-P7shsi8KHFE"
      },
      "source": [
        "# 영화 리뷰"
      ]
    },
    {
      "cell_type": "markdown",
      "metadata": {
        "id": "MxPcX2C9C2HJ"
      },
      "source": [
        "## 1. Load Data - "
      ]
    },
    {
      "cell_type": "code",
      "metadata": {
        "colab": {
          "base_uri": "https://localhost:8080/"
        },
        "id": "mdrhjYigCScN",
        "outputId": "9e609e75-4837-4490-f017-4a5d1ea81016"
      },
      "source": [
        "url = 'https://raw.githubusercontent.com/e9t/nsmc/master/ratings.txt'\n",
        "\n",
        "urllib.request.urlretrieve(url, filename = 'ratings.txt')"
      ],
      "execution_count": null,
      "outputs": [
        {
          "output_type": "execute_result",
          "data": {
            "text/plain": [
              "('ratings.txt', <http.client.HTTPMessage at 0x7f8112f30d50>)"
            ]
          },
          "metadata": {
            "tags": []
          },
          "execution_count": 7
        }
      ]
    },
    {
      "cell_type": "code",
      "metadata": {
        "colab": {
          "base_uri": "https://localhost:8080/",
          "height": 204
        },
        "id": "XY9VUWRtCooT",
        "outputId": "c0cf3083-96cd-4b55-cb10-606a45a5007b"
      },
      "source": [
        "train_data = pd.read_table('ratings.txt')\n",
        "\n",
        "train_data.head()"
      ],
      "execution_count": null,
      "outputs": [
        {
          "output_type": "execute_result",
          "data": {
            "text/html": [
              "<div>\n",
              "<style scoped>\n",
              "    .dataframe tbody tr th:only-of-type {\n",
              "        vertical-align: middle;\n",
              "    }\n",
              "\n",
              "    .dataframe tbody tr th {\n",
              "        vertical-align: top;\n",
              "    }\n",
              "\n",
              "    .dataframe thead th {\n",
              "        text-align: right;\n",
              "    }\n",
              "</style>\n",
              "<table border=\"1\" class=\"dataframe\">\n",
              "  <thead>\n",
              "    <tr style=\"text-align: right;\">\n",
              "      <th></th>\n",
              "      <th>id</th>\n",
              "      <th>document</th>\n",
              "      <th>label</th>\n",
              "    </tr>\n",
              "  </thead>\n",
              "  <tbody>\n",
              "    <tr>\n",
              "      <th>0</th>\n",
              "      <td>8112052</td>\n",
              "      <td>어릴때보고 지금다시봐도 재밌어요ㅋㅋ</td>\n",
              "      <td>1</td>\n",
              "    </tr>\n",
              "    <tr>\n",
              "      <th>1</th>\n",
              "      <td>8132799</td>\n",
              "      <td>디자인을 배우는 학생으로, 외국디자이너와 그들이 일군 전통을 통해 발전해가는 문화산...</td>\n",
              "      <td>1</td>\n",
              "    </tr>\n",
              "    <tr>\n",
              "      <th>2</th>\n",
              "      <td>4655635</td>\n",
              "      <td>폴리스스토리 시리즈는 1부터 뉴까지 버릴께 하나도 없음.. 최고.</td>\n",
              "      <td>1</td>\n",
              "    </tr>\n",
              "    <tr>\n",
              "      <th>3</th>\n",
              "      <td>9251303</td>\n",
              "      <td>와.. 연기가 진짜 개쩔구나.. 지루할거라고 생각했는데 몰입해서 봤다.. 그래 이런...</td>\n",
              "      <td>1</td>\n",
              "    </tr>\n",
              "    <tr>\n",
              "      <th>4</th>\n",
              "      <td>10067386</td>\n",
              "      <td>안개 자욱한 밤하늘에 떠 있는 초승달 같은 영화.</td>\n",
              "      <td>1</td>\n",
              "    </tr>\n",
              "  </tbody>\n",
              "</table>\n",
              "</div>"
            ],
            "text/plain": [
              "         id                                           document  label\n",
              "0   8112052                                어릴때보고 지금다시봐도 재밌어요ㅋㅋ      1\n",
              "1   8132799  디자인을 배우는 학생으로, 외국디자이너와 그들이 일군 전통을 통해 발전해가는 문화산...      1\n",
              "2   4655635               폴리스스토리 시리즈는 1부터 뉴까지 버릴께 하나도 없음.. 최고.      1\n",
              "3   9251303  와.. 연기가 진짜 개쩔구나.. 지루할거라고 생각했는데 몰입해서 봤다.. 그래 이런...      1\n",
              "4  10067386                        안개 자욱한 밤하늘에 떠 있는 초승달 같은 영화.      1"
            ]
          },
          "metadata": {
            "tags": []
          },
          "execution_count": 8
        }
      ]
    },
    {
      "cell_type": "markdown",
      "metadata": {
        "id": "y9tfRDdDDOa1"
      },
      "source": [
        "## 2. Data Preprocessing"
      ]
    },
    {
      "cell_type": "code",
      "metadata": {
        "colab": {
          "base_uri": "https://localhost:8080/"
        },
        "id": "RvAeqZDGCvq8",
        "outputId": "e960c774-a26b-4b94-b873-ec1203f15e56"
      },
      "source": [
        "# 리뷰 개수 출력\n",
        "print(len(train_data))"
      ],
      "execution_count": null,
      "outputs": [
        {
          "output_type": "stream",
          "text": [
            "200000\n"
          ],
          "name": "stdout"
        }
      ]
    },
    {
      "cell_type": "code",
      "metadata": {
        "colab": {
          "base_uri": "https://localhost:8080/"
        },
        "id": "9zU2z6P0DGa7",
        "outputId": "bd113fc5-3613-4383-d581-93266f20beee"
      },
      "source": [
        "# NULL값 존재 유무\n",
        "print(train_data.isnull().values.any())"
      ],
      "execution_count": null,
      "outputs": [
        {
          "output_type": "stream",
          "text": [
            "True\n"
          ],
          "name": "stdout"
        }
      ]
    },
    {
      "cell_type": "markdown",
      "metadata": {
        "id": "J4x_whLmDVdB"
      },
      "source": [
        "### 1) NULL값 존재하는 행 제거"
      ]
    },
    {
      "cell_type": "code",
      "metadata": {
        "id": "Wpn-ibptDKxS"
      },
      "source": [
        "train_data = train_data.dropna(how = 'any')"
      ],
      "execution_count": null,
      "outputs": []
    },
    {
      "cell_type": "code",
      "metadata": {
        "colab": {
          "base_uri": "https://localhost:8080/"
        },
        "id": "xmLuO1oJDb6d",
        "outputId": "302c6655-305c-406d-a561-293f9ea8bd9e"
      },
      "source": [
        "print(train_data.isnull().values.any())"
      ],
      "execution_count": null,
      "outputs": [
        {
          "output_type": "stream",
          "text": [
            "False\n"
          ],
          "name": "stdout"
        }
      ]
    },
    {
      "cell_type": "code",
      "metadata": {
        "colab": {
          "base_uri": "https://localhost:8080/"
        },
        "id": "CP2diWnIDeu2",
        "outputId": "f70ccbf1-76d7-4d5c-8860-afd41bc1ffe8"
      },
      "source": [
        "print(len(train_data))"
      ],
      "execution_count": null,
      "outputs": [
        {
          "output_type": "stream",
          "text": [
            "199992\n"
          ],
          "name": "stdout"
        }
      ]
    },
    {
      "cell_type": "markdown",
      "metadata": {
        "id": "xK-n0JLUDmV2"
      },
      "source": [
        "### 2) 정규표현식을 통한 한글 외 문자 제거"
      ]
    },
    {
      "cell_type": "code",
      "metadata": {
        "id": "R9undFyfDf8C"
      },
      "source": [
        "train_data['document'] = train_data['document'].str.replace('[^ㄱ-하-ㅣ가-힣]' , '')"
      ],
      "execution_count": null,
      "outputs": []
    },
    {
      "cell_type": "code",
      "metadata": {
        "colab": {
          "base_uri": "https://localhost:8080/",
          "height": 204
        },
        "id": "_ti55pF2D0yW",
        "outputId": "16c4f235-f6a2-4476-cddf-9a8eb41a8f3e"
      },
      "source": [
        "train_data.head()"
      ],
      "execution_count": null,
      "outputs": [
        {
          "output_type": "execute_result",
          "data": {
            "text/html": [
              "<div>\n",
              "<style scoped>\n",
              "    .dataframe tbody tr th:only-of-type {\n",
              "        vertical-align: middle;\n",
              "    }\n",
              "\n",
              "    .dataframe tbody tr th {\n",
              "        vertical-align: top;\n",
              "    }\n",
              "\n",
              "    .dataframe thead th {\n",
              "        text-align: right;\n",
              "    }\n",
              "</style>\n",
              "<table border=\"1\" class=\"dataframe\">\n",
              "  <thead>\n",
              "    <tr style=\"text-align: right;\">\n",
              "      <th></th>\n",
              "      <th>id</th>\n",
              "      <th>document</th>\n",
              "      <th>label</th>\n",
              "    </tr>\n",
              "  </thead>\n",
              "  <tbody>\n",
              "    <tr>\n",
              "      <th>0</th>\n",
              "      <td>8112052</td>\n",
              "      <td>어릴때보고지금다시봐도재밌어요ㅋㅋ</td>\n",
              "      <td>1</td>\n",
              "    </tr>\n",
              "    <tr>\n",
              "      <th>1</th>\n",
              "      <td>8132799</td>\n",
              "      <td>디자인을배우는학생으로외국디자이너와그들이일군전통을통해발전해가는문화산업이부러웠는데사실우...</td>\n",
              "      <td>1</td>\n",
              "    </tr>\n",
              "    <tr>\n",
              "      <th>2</th>\n",
              "      <td>4655635</td>\n",
              "      <td>폴리스스토리시리즈는부터뉴까지버릴께하나도없음최고</td>\n",
              "      <td>1</td>\n",
              "    </tr>\n",
              "    <tr>\n",
              "      <th>3</th>\n",
              "      <td>9251303</td>\n",
              "      <td>와연기가진짜개쩔구나지루할거라고생각했는데몰입해서봤다그래이런게진짜영화지</td>\n",
              "      <td>1</td>\n",
              "    </tr>\n",
              "    <tr>\n",
              "      <th>4</th>\n",
              "      <td>10067386</td>\n",
              "      <td>안개자욱한밤하늘에떠있는초승달같은영화</td>\n",
              "      <td>1</td>\n",
              "    </tr>\n",
              "  </tbody>\n",
              "</table>\n",
              "</div>"
            ],
            "text/plain": [
              "         id                                           document  label\n",
              "0   8112052                                  어릴때보고지금다시봐도재밌어요ㅋㅋ      1\n",
              "1   8132799  디자인을배우는학생으로외국디자이너와그들이일군전통을통해발전해가는문화산업이부러웠는데사실우...      1\n",
              "2   4655635                          폴리스스토리시리즈는부터뉴까지버릴께하나도없음최고      1\n",
              "3   9251303              와연기가진짜개쩔구나지루할거라고생각했는데몰입해서봤다그래이런게진짜영화지      1\n",
              "4  10067386                                안개자욱한밤하늘에떠있는초승달같은영화      1"
            ]
          },
          "metadata": {
            "tags": []
          },
          "execution_count": 16
        }
      ]
    },
    {
      "cell_type": "markdown",
      "metadata": {
        "id": "iczUCkPgGVsh"
      },
      "source": [
        "### 3) 불용어 정의"
      ]
    },
    {
      "cell_type": "code",
      "metadata": {
        "id": "yNvgGqjvD63D"
      },
      "source": [
        "stopwords = ['의', '가', '이', '은', '들', '는',\n",
        "             '좀', '잘', '걍', '과', '도',\n",
        "             '를', '으로', '자', '에', '와', '한', '하다']"
      ],
      "execution_count": null,
      "outputs": []
    },
    {
      "cell_type": "markdown",
      "metadata": {
        "id": "tv_HnPEtGZao"
      },
      "source": [
        "### 4) 형태소 분석기 OKT를 사용한 토큰화 작업"
      ]
    },
    {
      "cell_type": "code",
      "metadata": {
        "colab": {
          "base_uri": "https://localhost:8080/"
        },
        "id": "O8cHyuGFGYti",
        "outputId": "66dfef21-db7a-41f7-c968-488157e331d0"
      },
      "source": [
        "%%time\n",
        "\n",
        "okt = Okt()\n",
        "tokenized_data = []\n",
        "\n",
        "for sentence in train_data['document'] :\n",
        "  temp_X = okt.morphs(sentence, stem = True) # 토큰화(형태소 별로 나눠짐)\n",
        "  temp_X = [word for word in temp_X if not word in stopwords] # 불용어 제거\n",
        "  tokenized_data.append(temp_X)"
      ],
      "execution_count": null,
      "outputs": [
        {
          "output_type": "stream",
          "text": [
            "CPU times: user 1h 10min 48s, sys: 7.44 s, total: 1h 10min 56s\n",
            "Wall time: 1h 5min 16s\n"
          ],
          "name": "stdout"
        }
      ]
    },
    {
      "cell_type": "code",
      "metadata": {
        "colab": {
          "base_uri": "https://localhost:8080/",
          "height": 313
        },
        "id": "k7EsVY8JHOfv",
        "outputId": "f8ab1f0a-b9b1-43eb-ab88-9f5ce138e89c"
      },
      "source": [
        "# 리뷰 길이 분포 확인\n",
        "print('리뷰의 최대 길이: ' , max(len(l) for l in tokenized_data))\n",
        "print('리뷰의 평균 길이: ' , sum(map(len, tokenized_data))/len(tokenized_data))\n",
        "\n",
        "plt.hist([len(f) for f in tokenized_data] , bins = 50)\n",
        "plt.xlabel('length of samples')\n",
        "plt.ylabel('number of samples')\n",
        "plt.show()"
      ],
      "execution_count": null,
      "outputs": [
        {
          "output_type": "stream",
          "text": [
            "리뷰의 최대 길이:  68\n",
            "리뷰의 평균 길이:  10.685057402296092\n"
          ],
          "name": "stdout"
        },
        {
          "output_type": "display_data",
          "data": {
            "image/png": "[encoded data removed]",
            "text/plain": [
              "<Figure size 432x288 with 1 Axes>"
            ]
          },
          "metadata": {
            "tags": []
          }
        }
      ]
    },
    {
      "cell_type": "code",
      "metadata": {
        "id": "mWQNkJCKI6fm"
      },
      "source": [
        "model = Word2Vec(sentences = tokenized_data,\n",
        "                 size = 100,\n",
        "                 window = 5,\n",
        "                 min_count = 5,\n",
        "                 workers = 4,\n",
        "                 sg = 0)"
      ],
      "execution_count": null,
      "outputs": []
    },
    {
      "cell_type": "code",
      "metadata": {
        "id": "snb0vULtJJHz"
      },
      "source": [
        "# 완성된 임베딩 매트릭스의 크기 확인\n",
        "model.wv.vectors.shape"
      ],
      "execution_count": null,
      "outputs": []
    },
    {
      "cell_type": "code",
      "metadata": {
        "colab": {
          "base_uri": "https://localhost:8080/"
        },
        "id": "uHg1zslVJOrm",
        "outputId": "7f5f1675-cf5f-466f-c034-993e4a1a7c52"
      },
      "source": [
        "print(model.wv.most_similar('최민식'))"
      ],
      "execution_count": null,
      "outputs": [
        {
          "output_type": "stream",
          "text": [
            "[('한석규', 0.8634374737739563), ('윤제문', 0.8569276928901672), ('오광록', 0.849298357963562), ('김명민', 0.8489696979522705), ('채민서', 0.8477553725242615), ('김수현', 0.8438879251480103), ('중견', 0.8376559019088745), ('엄태웅', 0.826805055141449), ('서영희', 0.8253761529922485), ('이정재', 0.8246971368789673)]\n"
          ],
          "name": "stdout"
        }
      ]
    },
    {
      "cell_type": "code",
      "metadata": {
        "colab": {
          "base_uri": "https://localhost:8080/"
        },
        "id": "nc0FSosBJkiP",
        "outputId": "de527276-9585-4151-82de-a9ab594a73ac"
      },
      "source": [
        "print(model.wv.most_similar('히어로'))"
      ],
      "execution_count": null,
      "outputs": [
        {
          "output_type": "stream",
          "text": [
            "[('느와르', 0.8801765441894531), ('블록버스터', 0.8761626482009888), ('무비', 0.8681313395500183), ('무협', 0.8595873713493347), ('슬래셔', 0.8575347661972046), ('홍콩', 0.839981198310852), ('호러', 0.8249687552452087), ('헐리우드', 0.8221017122268677), ('멜로', 0.8152731657028198), ('물', 0.8145992755889893)]\n"
          ],
          "name": "stdout"
        }
      ]
    },
    {
      "cell_type": "code",
      "metadata": {
        "id": "MM_Auuz6ifqA"
      },
      "source": [
        "model.wv.save_word2vec_format('kor_movie_w2v') # 모델 저장\n",
        "loaded_model = KeyedVectors.load_word2vec_format('kor_movie_w2v') # 모델 로드"
      ],
      "execution_count": null,
      "outputs": []
    },
    {
      "cell_type": "markdown",
      "metadata": {
        "id": "d4R5P3oaHNXw"
      },
      "source": [
        "# 위키피디아\n",
        "- 한국어 덤프파일 다운로드"
      ]
    },
    {
      "cell_type": "code",
      "metadata": {
        "colab": {
          "base_uri": "https://localhost:8080/"
        },
        "id": "40HPJj_OYgUh",
        "outputId": "d22d8d7b-eb39-433a-b0c2-72aac5ddd7dc"
      },
      "source": [
        "from google.colab import drive\n",
        "\n",
        "drive.mount('/content/drive')"
      ],
      "execution_count": null,
      "outputs": [
        {
          "output_type": "stream",
          "text": [
            "Mounted at /content/drive\n"
          ],
          "name": "stdout"
        }
      ]
    },
    {
      "cell_type": "code",
      "metadata": {
        "colab": {
          "base_uri": "https://localhost:8080/"
        },
        "id": "jU0OCI-UYl8g",
        "outputId": "6ffec6ae-3b56-4ad7-e6bd-61e9c27bb4b0"
      },
      "source": [
        "!ls -l '/content/drive/My Drive/Colab Notebooks/Natural_Language_Processing/data'"
      ],
      "execution_count": null,
      "outputs": [
        {
          "output_type": "stream",
          "text": [
            "total 6192639\n",
            "-rw------- 1 root root 3644258522 Mar 27 14:06 GoogleNews-vectors-negative300.bin\n",
            "-rw------- 1 root root 1647046227 Mar 27 14:06 GoogleNews-vectors-negative300.bin.gz\n",
            "-rw------- 1 root root  745420346 Mar 27 10:34 kowiki-latest-pages-articles.xml.bz2\n",
            "-rw------- 1 root root   80596565 Mar 27 14:10 ko.zip\n",
            "-rw------- 1 root root   16035163 Mar 27 02:02 ted_en-20160408.zip\n",
            "-rw------- 1 root root  207903212 Nov 18 12:30 wiki_data.txt\n"
          ],
          "name": "stdout"
        }
      ]
    },
    {
      "cell_type": "code",
      "metadata": {
        "colab": {
          "base_uri": "https://localhost:8080/"
        },
        "id": "zz2hMqP7G2Io",
        "outputId": "a40c70b4-12d6-493c-a917-af9e7b57bd95"
      },
      "source": [
        "!python -m wikiextractor.WikiExtractor /content/drive/My\\ Drive/Colab\\ Notebooks/Natural_Language_Processing/data/kowiki-latest-pages-articles.xml.bz2"
      ],
      "execution_count": null,
      "outputs": [
        {
          "output_type": "stream",
          "text": [
            "INFO: Preprocessing '/content/drive/My Drive/Colab Notebooks/Natural_Language_Processing/data/kowiki-latest-pages-articles.xml.bz2' to collect template definitions: this may take some time.\n",
            "INFO: Preprocessed 100000 pages\n",
            "INFO: Preprocessed 200000 pages\n",
            "INFO: Preprocessed 300000 pages\n",
            "INFO: Preprocessed 400000 pages\n",
            "INFO: Preprocessed 500000 pages\n",
            "INFO: Preprocessed 600000 pages\n",
            "INFO: Preprocessed 700000 pages\n",
            "INFO: Preprocessed 800000 pages\n",
            "INFO: Preprocessed 900000 pages\n",
            "INFO: Preprocessed 1000000 pages\n",
            "INFO: Preprocessed 1100000 pages\n",
            "INFO: Preprocessed 1200000 pages\n",
            "INFO: Preprocessed 1300000 pages\n",
            "INFO: Preprocessed 1400000 pages\n",
            "INFO: Preprocessed 1500000 pages\n",
            "INFO: Loaded 53998 templates in 210.9s\n",
            "INFO: Starting page extraction from /content/drive/My Drive/Colab Notebooks/Natural_Language_Processing/data/kowiki-latest-pages-articles.xml.bz2.\n",
            "INFO: Using 1 extract processes.\n",
            "INFO: Extracted 100000 articles (978.4 art/s)\n",
            "INFO: Extracted 200000 articles (1360.8 art/s)\n",
            "INFO: Extracted 300000 articles (1520.7 art/s)\n",
            "INFO: Extracted 400000 articles (1605.0 art/s)\n",
            "INFO: Extracted 500000 articles (1665.4 art/s)\n",
            "INFO: Extracted 600000 articles (1656.8 art/s)\n",
            "INFO: Extracted 700000 articles (1733.6 art/s)\n",
            "INFO: Extracted 800000 articles (1827.2 art/s)\n",
            "INFO: Extracted 900000 articles (3058.2 art/s)\n",
            "INFO: Extracted 1000000 articles (2508.0 art/s)\n",
            "INFO: Extracted 1100000 articles (1825.1 art/s)\n",
            "INFO: Finished 1-process extraction of 1194182 articles in 711.7s (1677.9 art/s)\n"
          ],
          "name": "stdout"
        }
      ]
    },
    {
      "cell_type": "markdown",
      "metadata": {
        "id": "0TiZ5BLEqppM"
      },
      "source": [
        "### 1) 훈련데이터 전처리하기"
      ]
    },
    {
      "cell_type": "code",
      "metadata": {
        "id": "LVoVWy7zkd2Y"
      },
      "source": [
        "f = open('/content/drive/My Drive/Colab Notebooks/Natural_Language_Processing/data/wiki_data.txt',\n",
        "         encoding = 'utf8')"
      ],
      "execution_count": null,
      "outputs": []
    },
    {
      "cell_type": "markdown",
      "metadata": {
        "id": "s-uouRHfqsg0"
      },
      "source": [
        "- 5개 줄만 출력"
      ]
    },
    {
      "cell_type": "code",
      "metadata": {
        "colab": {
          "base_uri": "https://localhost:8080/"
        },
        "id": "OOUHoOt_qlZY",
        "outputId": "a91f8e9a-604d-4395-bde6-0f5d1230e5a9"
      },
      "source": [
        "i = 0\n",
        "\n",
        "while True :\n",
        "  line = f.readline()\n",
        "  if line != '\\n' :\n",
        "    i += 1\n",
        "    print('%d번째 줄: ' %i + line)\n",
        "  if i == 5 :\n",
        "    break\n",
        "f.close()"
      ],
      "execution_count": null,
      "outputs": [
        {
          "output_type": "stream",
          "text": [
            "1번째 줄: <doc id=\"5\" url=\"https://ko.wikipedia.org/wiki?curid=5\" title=\"지미 카터\">\n",
            "\n",
            "2번째 줄: 지미 카터\n",
            "\n",
            "3번째 줄: 제임스 얼 \"지미\" 카터 주니어(, 1924년 10월 1일 ~ )는 민주당 출신 미국 39번째 대통령 (1977년 ~ 1981년)이다.\n",
            "\n",
            "4번째 줄: 지미 카터는 조지아주 섬터 카운티 플레인스 마을에서 태어났다. 조지아 공과대학교를 졸업하였다. 그 후 해군에 들어가 전함·원자력·잠수함의 승무원으로 일하였다. 1953년 미국 해군 대위로 예편하였고 이후 땅콩·면화 등을 가꿔 많은 돈을 벌었다. 그의 별명이 \"땅콩 농부\" (Peanut Farmer)로 알려졌다.\n",
            "\n",
            "5번째 줄: 1962년 조지아 주 상원 의원 선거에서 낙선하나 그 선거가 부정선거 였음을 입증하게 되어 당선되고, 1966년 조지아 주 지사 선거에 낙선하지만 1970년 조지아 주 지사를 역임했다. 대통령이 되기 전 조지아주 상원의원을 두번 연임했으며, 1971년부터 1975년까지 조지아 지사로 근무했다. 조지아 주지사로 지내면서, 미국에 사는 흑인 등용법을 내세웠다.\n",
            "\n"
          ],
          "name": "stdout"
        }
      ]
    },
    {
      "cell_type": "markdown",
      "metadata": {
        "id": "Ty_f3eJP4tHk"
      },
      "source": [
        "### 2) Word2Vec을 위한 학습데이터 생성"
      ]
    },
    {
      "cell_type": "code",
      "metadata": {
        "colab": {
          "background_save": true,
          "base_uri": "https://localhost:8080/"
        },
        "id": "iz4Er8lB4rB9",
        "outputId": "fcca1054-2903-4856-cc5d-34e9b2392d00"
      },
      "source": [
        "%%time\n",
        "\n",
        "okt = Okt()\n",
        "\n",
        "fread = open('/content/drive/My Drive/Colab Notebooks/Natural_Language_Processing/data/wiki_data.txt',\n",
        "             encoding = 'utf8')\n",
        "\n",
        "n = 0\n",
        "result = []\n",
        "\n",
        "while True :\n",
        "  line = fread.readline()   # 한줄씩 읽음\n",
        "  if not line : break       # 모두 읽으면 while문 종료\n",
        "  n += 1\n",
        "\n",
        "  if n % 5000 == 0 :        # 5000의 배수로 실행될 때마다 몇번째 while문 실행인지 출력\n",
        "    print('%d번째 While문' %n)\n",
        "\n",
        "  tokenlist = okt.pos(line, stem = True, norm = True) # 단어 토큰화\n",
        "\n",
        "  temp = []\n",
        "\n",
        "  for word in tokenlist :\n",
        "    if word[1] in ['Noun'] :  # 명사일 때만 해당 단어를 저장함\n",
        "      temp.append((word[0]))\n",
        "\n",
        "  if temp : # 읽은 데이터에 명사가 존재할 경우에만\n",
        "    result.append(temp)\n",
        "\n",
        "fread.close()"
      ],
      "execution_count": null,
      "outputs": [
        {
          "output_type": "stream",
          "text": [
            "5000번째 While문\n",
            "10000번째 While문\n",
            "15000번째 While문\n",
            "20000번째 While문\n",
            "25000번째 While문\n",
            "30000번째 While문\n",
            "35000번째 While문\n",
            "40000번째 While문\n",
            "45000번째 While문\n",
            "50000번째 While문\n",
            "55000번째 While문\n",
            "60000번째 While문\n",
            "65000번째 While문\n",
            "70000번째 While문\n",
            "75000번째 While문\n",
            "80000번째 While문\n",
            "85000번째 While문\n",
            "90000번째 While문\n",
            "95000번째 While문\n",
            "100000번째 While문\n",
            "105000번째 While문\n",
            "110000번째 While문\n",
            "115000번째 While문\n",
            "120000번째 While문\n",
            "125000번째 While문\n",
            "130000번째 While문\n",
            "135000번째 While문\n",
            "140000번째 While문\n",
            "145000번째 While문\n",
            "150000번째 While문\n",
            "155000번째 While문\n",
            "160000번째 While문\n",
            "165000번째 While문\n",
            "170000번째 While문\n",
            "175000번째 While문\n",
            "180000번째 While문\n",
            "185000번째 While문\n",
            "190000번째 While문\n",
            "195000번째 While문\n",
            "200000번째 While문\n",
            "205000번째 While문\n",
            "210000번째 While문\n",
            "215000번째 While문\n",
            "220000번째 While문\n",
            "225000번째 While문\n",
            "230000번째 While문\n",
            "235000번째 While문\n",
            "240000번째 While문\n",
            "245000번째 While문\n",
            "250000번째 While문\n",
            "255000번째 While문\n",
            "260000번째 While문\n",
            "265000번째 While문\n",
            "270000번째 While문\n",
            "275000번째 While문\n",
            "280000번째 While문\n",
            "285000번째 While문\n",
            "290000번째 While문\n",
            "295000번째 While문\n",
            "300000번째 While문\n",
            "305000번째 While문\n",
            "310000번째 While문\n",
            "315000번째 While문\n",
            "320000번째 While문\n",
            "325000번째 While문\n",
            "330000번째 While문\n",
            "335000번째 While문\n",
            "340000번째 While문\n",
            "345000번째 While문\n",
            "350000번째 While문\n",
            "355000번째 While문\n",
            "360000번째 While문\n",
            "365000번째 While문\n",
            "370000번째 While문\n",
            "375000번째 While문\n",
            "380000번째 While문\n",
            "385000번째 While문\n",
            "390000번째 While문\n",
            "395000번째 While문\n",
            "400000번째 While문\n",
            "405000번째 While문\n",
            "410000번째 While문\n",
            "415000번째 While문\n",
            "420000번째 While문\n",
            "425000번째 While문\n",
            "430000번째 While문\n",
            "435000번째 While문\n",
            "440000번째 While문\n",
            "445000번째 While문\n",
            "450000번째 While문\n",
            "455000번째 While문\n",
            "460000번째 While문\n",
            "465000번째 While문\n",
            "470000번째 While문\n",
            "475000번째 While문\n",
            "480000번째 While문\n",
            "485000번째 While문\n",
            "490000번째 While문\n",
            "495000번째 While문\n",
            "500000번째 While문\n",
            "505000번째 While문\n",
            "510000번째 While문\n",
            "515000번째 While문\n",
            "520000번째 While문\n",
            "525000번째 While문\n",
            "530000번째 While문\n",
            "535000번째 While문\n",
            "540000번째 While문\n",
            "545000번째 While문\n",
            "550000번째 While문\n",
            "555000번째 While문\n",
            "560000번째 While문\n",
            "565000번째 While문\n",
            "570000번째 While문\n",
            "575000번째 While문\n",
            "580000번째 While문\n",
            "585000번째 While문\n",
            "590000번째 While문\n",
            "595000번째 While문\n",
            "600000번째 While문\n",
            "605000번째 While문\n",
            "610000번째 While문\n",
            "615000번째 While문\n",
            "620000번째 While문\n",
            "625000번째 While문\n",
            "630000번째 While문\n",
            "635000번째 While문\n",
            "640000번째 While문\n",
            "645000번째 While문\n",
            "650000번째 While문\n",
            "655000번째 While문\n",
            "660000번째 While문\n",
            "665000번째 While문\n",
            "670000번째 While문\n",
            "675000번째 While문\n",
            "680000번째 While문\n",
            "685000번째 While문\n",
            "690000번째 While문\n",
            "695000번째 While문\n",
            "700000번째 While문\n",
            "705000번째 While문\n",
            "710000번째 While문\n",
            "715000번째 While문\n",
            "720000번째 While문\n",
            "725000번째 While문\n",
            "730000번째 While문\n",
            "735000번째 While문\n",
            "740000번째 While문\n",
            "745000번째 While문\n",
            "750000번째 While문\n",
            "755000번째 While문\n",
            "760000번째 While문\n",
            "765000번째 While문\n",
            "770000번째 While문\n",
            "775000번째 While문\n",
            "780000번째 While문\n",
            "785000번째 While문\n",
            "790000번째 While문\n",
            "795000번째 While문\n",
            "800000번째 While문\n",
            "805000번째 While문\n",
            "810000번째 While문\n",
            "815000번째 While문\n",
            "820000번째 While문\n",
            "825000번째 While문\n",
            "830000번째 While문\n",
            "835000번째 While문\n",
            "840000번째 While문\n",
            "845000번째 While문\n",
            "850000번째 While문\n",
            "855000번째 While문\n",
            "860000번째 While문\n",
            "865000번째 While문\n",
            "870000번째 While문\n",
            "875000번째 While문\n",
            "880000번째 While문\n",
            "885000번째 While문\n",
            "890000번째 While문\n",
            "895000번째 While문\n",
            "900000번째 While문\n",
            "905000번째 While문\n",
            "910000번째 While문\n",
            "915000번째 While문\n",
            "920000번째 While문\n",
            "925000번째 While문\n",
            "930000번째 While문\n",
            "935000번째 While문\n",
            "940000번째 While문\n",
            "945000번째 While문\n",
            "950000번째 While문\n",
            "955000번째 While문\n",
            "960000번째 While문\n",
            "965000번째 While문\n",
            "970000번째 While문\n",
            "975000번째 While문\n",
            "980000번째 While문\n",
            "985000번째 While문\n",
            "990000번째 While문\n",
            "995000번째 While문\n",
            "1000000번째 While문\n",
            "1005000번째 While문\n",
            "1010000번째 While문\n",
            "1015000번째 While문\n",
            "1020000번째 While문\n",
            "1025000번째 While문\n",
            "1030000번째 While문\n",
            "1035000번째 While문\n",
            "1040000번째 While문\n",
            "1045000번째 While문\n",
            "1050000번째 While문\n",
            "1055000번째 While문\n",
            "1060000번째 While문\n",
            "1065000번째 While문\n",
            "1070000번째 While문\n",
            "1075000번째 While문\n",
            "1080000번째 While문\n",
            "1085000번째 While문\n",
            "1090000번째 While문\n",
            "1095000번째 While문\n",
            "1100000번째 While문\n",
            "1105000번째 While문\n",
            "1110000번째 While문\n",
            "1115000번째 While문\n",
            "1120000번째 While문\n",
            "1125000번째 While문\n",
            "1130000번째 While문\n",
            "1135000번째 While문\n",
            "1140000번째 While문\n",
            "1145000번째 While문\n",
            "1150000번째 While문\n",
            "1155000번째 While문\n",
            "1160000번째 While문\n",
            "1165000번째 While문\n",
            "1170000번째 While문\n",
            "1175000번째 While문\n",
            "1180000번째 While문\n",
            "1185000번째 While문\n",
            "1190000번째 While문\n",
            "1195000번째 While문\n",
            "1200000번째 While문\n",
            "1205000번째 While문\n",
            "1210000번째 While문\n",
            "1215000번째 While문\n",
            "1220000번째 While문\n",
            "1225000번째 While문\n",
            "1230000번째 While문\n",
            "1235000번째 While문\n",
            "1240000번째 While문\n",
            "1245000번째 While문\n",
            "1250000번째 While문\n",
            "1255000번째 While문\n",
            "1260000번째 While문\n",
            "1265000번째 While문\n",
            "1270000번째 While문\n",
            "1275000번째 While문\n",
            "1280000번째 While문\n",
            "1285000번째 While문\n",
            "1290000번째 While문\n",
            "1295000번째 While문\n",
            "1300000번째 While문\n",
            "1305000번째 While문\n",
            "1310000번째 While문\n",
            "1315000번째 While문\n",
            "1320000번째 While문\n",
            "1325000번째 While문\n",
            "1330000번째 While문\n",
            "1335000번째 While문\n",
            "1340000번째 While문\n",
            "1345000번째 While문\n",
            "1350000번째 While문\n",
            "1355000번째 While문\n",
            "1360000번째 While문\n",
            "1365000번째 While문\n",
            "1370000번째 While문\n",
            "1375000번째 While문\n",
            "1380000번째 While문\n",
            "1385000번째 While문\n",
            "1390000번째 While문\n",
            "1395000번째 While문\n",
            "1400000번째 While문\n",
            "1405000번째 While문\n",
            "1410000번째 While문\n",
            "1415000번째 While문\n",
            "1420000번째 While문\n",
            "1425000번째 While문\n",
            "1430000번째 While문\n",
            "1435000번째 While문\n",
            "1440000번째 While문\n",
            "1445000번째 While문\n",
            "CPU times: user 5h 19min 24s, sys: 1min 37s, total: 5h 21min 1s\n",
            "Wall time: 5h 12min 56s\n"
          ],
          "name": "stdout"
        }
      ]
    },
    {
      "cell_type": "code",
      "metadata": {
        "colab": {
          "base_uri": "https://localhost:8080/",
          "height": 164
        },
        "id": "IbwaGbqS52xg",
        "outputId": "ce0f8435-eeb0-4579-960a-933ba0bee6d3"
      },
      "source": [
        "print('총 샘플의 개수: {}' .format(len(result)))"
      ],
      "execution_count": 2,
      "outputs": [
        {
          "output_type": "error",
          "ename": "NameError",
          "evalue": "ignored",
          "traceback": [
            "\u001b[0;31m---------------------------------------------------------------------------\u001b[0m",
            "\u001b[0;31mNameError\u001b[0m                                 Traceback (most recent call last)",
            "\u001b[0;32m<ipython-input-2-a249a7ca3e97>\u001b[0m in \u001b[0;36m<module>\u001b[0;34m()\u001b[0m\n\u001b[0;32m----> 1\u001b[0;31m \u001b[0mprint\u001b[0m\u001b[0;34m(\u001b[0m\u001b[0;34m'총 샘플의 개수: {}'\u001b[0m \u001b[0;34m.\u001b[0m\u001b[0mformat\u001b[0m\u001b[0;34m(\u001b[0m\u001b[0mlen\u001b[0m\u001b[0;34m(\u001b[0m\u001b[0mresult\u001b[0m\u001b[0;34m)\u001b[0m\u001b[0;34m)\u001b[0m\u001b[0;34m)\u001b[0m\u001b[0;34m\u001b[0m\u001b[0;34m\u001b[0m\u001b[0m\n\u001b[0m",
            "\u001b[0;31mNameError\u001b[0m: name 'result' is not defined"
          ]
        }
      ]
    },
    {
      "cell_type": "code",
      "metadata": {
        "colab": {
          "background_save": true
        },
        "id": "thlbQeZe6sNL"
      },
      "source": [
        "model = Word2Vec(result,\n",
        "                 size = 100,\n",
        "                 window = 5,\n",
        "                 min_count = 5,\n",
        "                 workers = 4,\n",
        "                 sg = 0)"
      ],
      "execution_count": null,
      "outputs": []
    },
    {
      "cell_type": "code",
      "metadata": {
        "colab": {
          "background_save": true
        },
        "id": "dO1cmkzo7Ckg"
      },
      "source": [
        "model.wv.save_word2vec_format('003_word2vec_kor_wiki') # 모델 저장\n"
      ],
      "execution_count": null,
      "outputs": []
    },
    {
      "cell_type": "code",
      "metadata": {
        "colab": {
          "background_save": true
        },
        "id": "UuJOl97W8jXf",
        "outputId": "f64a654a-208e-45f7-d8c7-7b3acc5847f5"
      },
      "source": [
        "from google.colab import files\n",
        "files.download('003_word2vec_kor_wiki')"
      ],
      "execution_count": null,
      "outputs": [
        {
          "output_type": "display_data",
          "data": {
            "application/javascript": [
              "\n",
              "    async function download(id, filename, size) {\n",
              "      if (!google.colab.kernel.accessAllowed) {\n",
              "        return;\n",
              "      }\n",
              "      const div = document.createElement('div');\n",
              "      const label = document.createElement('label');\n",
              "      label.textContent = `Downloading \"${filename}\": `;\n",
              "      div.appendChild(label);\n",
              "      const progress = document.createElement('progress');\n",
              "      progress.max = size;\n",
              "      div.appendChild(progress);\n",
              "      document.body.appendChild(div);\n",
              "\n",
              "      const buffers = [];\n",
              "      let downloaded = 0;\n",
              "\n",
              "      const channel = await google.colab.kernel.comms.open(id);\n",
              "      // Send a message to notify the kernel that we're ready.\n",
              "      channel.send({})\n",
              "\n",
              "      for await (const message of channel.messages) {\n",
              "        // Send a message to notify the kernel that we're ready.\n",
              "        channel.send({})\n",
              "        if (message.buffers) {\n",
              "          for (const buffer of message.buffers) {\n",
              "            buffers.push(buffer);\n",
              "            downloaded += buffer.byteLength;\n",
              "            progress.value = downloaded;\n",
              "          }\n",
              "        }\n",
              "      }\n",
              "      const blob = new Blob(buffers, {type: 'application/binary'});\n",
              "      const a = document.createElement('a');\n",
              "      a.href = window.URL.createObjectURL(blob);\n",
              "      a.download = filename;\n",
              "      div.appendChild(a);\n",
              "      a.click();\n",
              "      div.remove();\n",
              "    }\n",
              "  "
            ],
            "text/plain": [
              "<IPython.core.display.Javascript object>"
            ]
          },
          "metadata": {
            "tags": []
          }
        },
        {
          "output_type": "display_data",
          "data": {
            "application/javascript": [
              "download(\"download_7de46a31-fc00-4cb9-9354-aa1fca7bc113\", \"003_word2vec_kor_wiki\", 97222138)"
            ],
            "text/plain": [
              "<IPython.core.display.Javascript object>"
            ]
          },
          "metadata": {
            "tags": []
          }
        }
      ]
    },
    {
      "cell_type": "code",
      "metadata": {
        "id": "5GTJv37J8uCa"
      },
      "source": [
        "# 모델 로드\n",
        "loaded_model = KeyedVectors.load_word2vec_format('003_word2vec_kor_wiki')"
      ],
      "execution_count": null,
      "outputs": []
    },
    {
      "cell_type": "code",
      "metadata": {
        "id": "LnFQJA2D8_jt"
      },
      "source": [
        ""
      ],
      "execution_count": null,
      "outputs": []
    }
  ]
}