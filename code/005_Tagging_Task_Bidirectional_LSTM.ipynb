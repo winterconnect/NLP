{
  "nbformat": 4,
  "nbformat_minor": 0,
  "metadata": {
    "colab": {
      "name": "005_Tagging_Task_Bidirectional_LSTM.ipynb",
      "provenance": [],
      "collapsed_sections": []
    },
    "kernelspec": {
      "name": "python3",
      "display_name": "Python 3"
    },
    "language_info": {
      "name": "python"
    },
    "accelerator": "GPU"
  },
  "cells": [
    {
      "cell_type": "code",
      "metadata": {
        "id": "5K4wZvg8-tCi"
      },
      "source": [
        "import warnings\n",
        "warnings.filterwarnings('ignore')"
      ],
      "execution_count": 1,
      "outputs": []
    },
    {
      "cell_type": "code",
      "metadata": {
        "id": "r6ICPv4E-08w"
      },
      "source": [
        "import nltk\n",
        "from nltk import word_tokenize, pos_tag, ne_chunk"
      ],
      "execution_count": 88,
      "outputs": []
    },
    {
      "cell_type": "code",
      "metadata": {
        "id": "9SUVcQrZDicO"
      },
      "source": [
        "import re\n",
        "%matplotlib inline\n",
        "import matplotlib.pyplot as plt\n",
        "import numpy as np\n",
        "import pandas as pd\n",
        "import urllib"
      ],
      "execution_count": 19,
      "outputs": []
    },
    {
      "cell_type": "code",
      "metadata": {
        "id": "QVbv20X5D695"
      },
      "source": [
        "from keras.preprocessing.text import Tokenizer\n",
        "from keras.preprocessing.sequence import pad_sequences\n",
        "from keras.utils import to_categorical\n",
        "from keras.models import Sequential\n",
        "from keras.layers import Dense, Embedding, LSTM, Bidirectional, TimeDistributed\n",
        "from keras.optimizers import Adam"
      ],
      "execution_count": 77,
      "outputs": []
    },
    {
      "cell_type": "code",
      "metadata": {
        "id": "ntpOXN0VEERQ"
      },
      "source": [
        "from sklearn.model_selection import train_test_split"
      ],
      "execution_count": 5,
      "outputs": []
    },
    {
      "cell_type": "code",
      "metadata": {
        "id": "RMpLOKW8H6dk"
      },
      "source": [
        "from google.colab import files, drive"
      ],
      "execution_count": 28,
      "outputs": []
    },
    {
      "cell_type": "code",
      "metadata": {
        "colab": {
          "base_uri": "https://localhost:8080/"
        },
        "id": "vYG57bCmIsQX",
        "outputId": "ced11def-5df8-40ea-c2a0-45ab703d3b09"
      },
      "source": [
        "drive.mount('/content/drive/')"
      ],
      "execution_count": 29,
      "outputs": [
        {
          "output_type": "stream",
          "text": [
            "Mounted at /content/drive/\n"
          ],
          "name": "stdout"
        }
      ]
    },
    {
      "cell_type": "code",
      "metadata": {
        "colab": {
          "base_uri": "https://localhost:8080/"
        },
        "id": "ke3dQFT_JGed",
        "outputId": "c315ce98-5a62-4a39-ba7f-349c37256a3f"
      },
      "source": [
        "!ls -l /content/drive/My\\ Drive/Colab\\ Notebooks/Natural_Language_Processing/data"
      ],
      "execution_count": 31,
      "outputs": [
        {
          "output_type": "stream",
          "text": [
            "total 6195845\n",
            "-rw------- 1 root root 3644258522 Mar 27 14:06 GoogleNews-vectors-negative300.bin\n",
            "-rw------- 1 root root 1647046227 Mar 27 14:06 GoogleNews-vectors-negative300.bin.gz\n",
            "-rw------- 1 root root  745420346 Mar 27 10:34 kowiki-latest-pages-articles.xml.bz2\n",
            "-rw------- 1 root root   80596565 Mar 27 14:10 ko.zip\n",
            "-rw------- 1 root root   16035163 Mar 27 02:02 ted_en-20160408.zip\n",
            "-rw------- 1 root root    3283420 Mar 28 09:20 train_tagging.txt\n",
            "-rw------- 1 root root  207903212 Nov 18 12:30 wiki_data.txt\n"
          ],
          "name": "stdout"
        }
      ]
    },
    {
      "cell_type": "code",
      "metadata": {
        "id": "SjEuD-01JX2A"
      },
      "source": [
        "f = open('/content/drive/My Drive/Colab Notebooks/Natural_Language_Processing/data/train_tagging.txt', 'r')"
      ],
      "execution_count": 32,
      "outputs": []
    },
    {
      "cell_type": "markdown",
      "metadata": {
        "id": "zHpwXJdNKYQj"
      },
      "source": [
        "## 1. Data Preprocessing"
      ]
    },
    {
      "cell_type": "code",
      "metadata": {
        "colab": {
          "base_uri": "https://localhost:8080/"
        },
        "id": "RaBlVLINEnHG",
        "outputId": "4db45648-f1e2-41dd-bd8e-eae3750ca42d"
      },
      "source": [
        "%%time\n",
        "tagged_sentences = []\n",
        "sentence = []\n",
        "\n",
        "for line in f :\n",
        "  if len(line) == 0 or line.startswith('-DOCSTART') or line[0] == '\\n' :\n",
        "    if len(sentence) > 0 :\n",
        "      tagged_sentences.append(sentence)\n",
        "      sentence = []\n",
        "    continue\n",
        "  splits = line.split(' ')                      # 공백을 기준으로 속성을 구분\n",
        "  splits[-1] = re.sub(r'\\n' , '' , splits[-1])  # 줄바꿈 표시 \\n을 제거\n",
        "  word = splits[0].lower()                      # 단어들을 소문자로 바꿔서 저장\n",
        "  sentence.append([word, splits[-1]])           # 단어와 개체명 태깅만 기록"
      ],
      "execution_count": 33,
      "outputs": [
        {
          "output_type": "stream",
          "text": [
            "CPU times: user 724 ms, sys: 55.9 ms, total: 780 ms\n",
            "Wall time: 1.39 s\n"
          ],
          "name": "stdout"
        }
      ]
    },
    {
      "cell_type": "code",
      "metadata": {
        "colab": {
          "base_uri": "https://localhost:8080/"
        },
        "id": "mZ6LpH6hGVje",
        "outputId": "0405a77c-2cef-4a02-e5fc-3ea4da13d553"
      },
      "source": [
        "# 전체 샘플 개수\n",
        "len(tagged_sentences)"
      ],
      "execution_count": 34,
      "outputs": [
        {
          "output_type": "execute_result",
          "data": {
            "text/plain": [
              "14041"
            ]
          },
          "metadata": {
            "tags": []
          },
          "execution_count": 34
        }
      ]
    },
    {
      "cell_type": "code",
      "metadata": {
        "colab": {
          "base_uri": "https://localhost:8080/"
        },
        "id": "QUF4msAIKKaH",
        "outputId": "da854cc1-903d-4063-ed46-afd5dd3fe910"
      },
      "source": [
        "# 첫번째 샘플\n",
        "tagged_sentences[0]"
      ],
      "execution_count": 35,
      "outputs": [
        {
          "output_type": "execute_result",
          "data": {
            "text/plain": [
              "[['eu', 'B-ORG'],\n",
              " ['rejects', 'O'],\n",
              " ['german', 'B-MISC'],\n",
              " ['call', 'O'],\n",
              " ['to', 'O'],\n",
              " ['boycott', 'O'],\n",
              " ['british', 'B-MISC'],\n",
              " ['lamb', 'O'],\n",
              " ['.', 'O']]"
            ]
          },
          "metadata": {
            "tags": []
          },
          "execution_count": 35
        }
      ]
    },
    {
      "cell_type": "markdown",
      "metadata": {
        "id": "wX6k8D8WKfB_"
      },
      "source": [
        "### 1) 단어와 태킹 분리 후 저장(zip함수 사용)"
      ]
    },
    {
      "cell_type": "code",
      "metadata": {
        "colab": {
          "base_uri": "https://localhost:8080/"
        },
        "id": "DpGYtwc-KNJ_",
        "outputId": "07d16e43-0c86-4340-a955-97679f99d636"
      },
      "source": [
        "%%time\n",
        "sentences , ner_tags = [] , []\n",
        "\n",
        "for tagged_sentence in tagged_sentences :     # 14,041개의 문장 샘플을 하나씩 불러옴\n",
        "  sentence , tag_info = zip(*tagged_sentence) # 각 샘플에서 단어들은 sentence에, 개체명 태깅정보는 tag_info에 저장\n",
        "  sentences.append(list(sentence))            # 각 샘플에서 단어 정보만 저장\n",
        "  ner_tags.append(list(tag_info))             # 각 샘플에서 개체명 태깅정보만 저장"
      ],
      "execution_count": 37,
      "outputs": [
        {
          "output_type": "stream",
          "text": [
            "CPU times: user 46.5 ms, sys: 3.75 ms, total: 50.2 ms\n",
            "Wall time: 51.7 ms\n"
          ],
          "name": "stdout"
        }
      ]
    },
    {
      "cell_type": "code",
      "metadata": {
        "colab": {
          "base_uri": "https://localhost:8080/"
        },
        "id": "b8yo7pnuLAiT",
        "outputId": "882f0abe-ab0c-47c0-e9bd-8ad6cb05361e"
      },
      "source": [
        "sentences[0] , ner_tags[0]"
      ],
      "execution_count": 38,
      "outputs": [
        {
          "output_type": "execute_result",
          "data": {
            "text/plain": [
              "(['eu', 'rejects', 'german', 'call', 'to', 'boycott', 'british', 'lamb', '.'],\n",
              " ['B-ORG', 'O', 'B-MISC', 'O', 'O', 'O', 'B-MISC', 'O', 'O'])"
            ]
          },
          "metadata": {
            "tags": []
          },
          "execution_count": 38
        }
      ]
    },
    {
      "cell_type": "markdown",
      "metadata": {
        "id": "__5BQmYVLT3h"
      },
      "source": [
        "### 2) 전체 데이터의 길이 분포 확인"
      ]
    },
    {
      "cell_type": "code",
      "metadata": {
        "colab": {
          "base_uri": "https://localhost:8080/",
          "height": 313
        },
        "id": "gKlUY4J5LLFH",
        "outputId": "b2c0968c-47d0-424c-d4cd-851fa41fa49b"
      },
      "source": [
        "print('샘플의 최대 길이: %d' % max(len(l) for l in sentences))\n",
        "print('샘플의 평균 길이: %f' % (sum(map(len, sentences))/len(sentences)))\n",
        "\n",
        "plt.hist([len(s) for s in sentences] , bins = 50)\n",
        "plt.xlabel('length of samples')\n",
        "plt.ylabel('number of samples')\n",
        "plt.show()"
      ],
      "execution_count": 39,
      "outputs": [
        {
          "output_type": "stream",
          "text": [
            "샘플의 최대 길이: 113\n",
            "샘플의 평균 길이: 14.501887\n"
          ],
          "name": "stdout"
        },
        {
          "output_type": "display_data",
          "data": {
            "image/png": "[encoded data removed]",
            "text/plain": [
              "<Figure size 432x288 with 1 Axes>"
            ]
          },
          "metadata": {
            "tags": [],
            "needs_background": "light"
          }
        }
      ]
    },
    {
      "cell_type": "markdown",
      "metadata": {
        "id": "YNyPv4-XLwOb"
      },
      "source": [
        "- 대체로 0~40 사이\n",
        "- 특히 0~20 길이를 가진 샘플이 상당한 비율을 차지\n"
      ]
    },
    {
      "cell_type": "markdown",
      "metadata": {
        "id": "iiTSfjo8OCyR"
      },
      "source": [
        "### 3) 토큰화, 정수 인코딩\n",
        "- 케라스 토크나이저"
      ]
    },
    {
      "cell_type": "code",
      "metadata": {
        "id": "afZX8R6XLvTe"
      },
      "source": [
        "# 높은 빈도를 가진 상위 4000개 단어만 사용\n",
        "max_words = 4000\n",
        "\n",
        "src_tokenizer = Tokenizer(num_words = max_words, oov_token = 'OOV') # 문장데이터\n",
        "tar_tokenizer = Tokenizer() # 개체명 태길정보\n",
        "\n",
        "src_tokenizer.fit_on_texts(sentences)\n",
        "tar_tokenizer.fit_on_texts(ner_tags)"
      ],
      "execution_count": 40,
      "outputs": []
    },
    {
      "cell_type": "code",
      "metadata": {
        "colab": {
          "base_uri": "https://localhost:8080/"
        },
        "id": "hSgVQrJtOzc7",
        "outputId": "89f46556-841f-4420-c9d2-43e9b22c3415"
      },
      "source": [
        "tar_tokenizer.word_index"
      ],
      "execution_count": 42,
      "outputs": [
        {
          "output_type": "execute_result",
          "data": {
            "text/plain": [
              "{'b-loc': 2,\n",
              " 'b-misc': 7,\n",
              " 'b-org': 4,\n",
              " 'b-per': 3,\n",
              " 'i-loc': 8,\n",
              " 'i-misc': 9,\n",
              " 'i-org': 6,\n",
              " 'i-per': 5,\n",
              " 'o': 1}"
            ]
          },
          "metadata": {
            "tags": []
          },
          "execution_count": 42
        }
      ]
    },
    {
      "cell_type": "code",
      "metadata": {
        "colab": {
          "base_uri": "https://localhost:8080/"
        },
        "id": "PAmBGWmVOrb0",
        "outputId": "6660a609-0b1a-4705-bfac-b6ec2822a225"
      },
      "source": [
        "vocab_size = max_words\n",
        "tag_size = len(tar_tokenizer.word_index) + 1\n",
        "\n",
        "print('단어 집합의 크기: {}' .format(vocab_size))\n",
        "print('개체명 태깅 정보 집합의 크기: {}' .format(tag_size))"
      ],
      "execution_count": 44,
      "outputs": [
        {
          "output_type": "stream",
          "text": [
            "단어 집합의 크기: 4000\n",
            "개체명 태깅 정보 집합의 크기: 10\n"
          ],
          "name": "stdout"
        }
      ]
    },
    {
      "cell_type": "markdown",
      "metadata": {
        "id": "RUKsfzoFPFY8"
      },
      "source": [
        "- 정수 인코딩"
      ]
    },
    {
      "cell_type": "code",
      "metadata": {
        "id": "LvdIYL8cPAGD"
      },
      "source": [
        "X = src_tokenizer.texts_to_sequences(sentences)\n",
        "y = tar_tokenizer.texts_to_sequences(ner_tags)"
      ],
      "execution_count": 63,
      "outputs": []
    },
    {
      "cell_type": "code",
      "metadata": {
        "colab": {
          "base_uri": "https://localhost:8080/"
        },
        "id": "PQ5IBvaNPQyX",
        "outputId": "fd474362-a232-4265-ce43-fd19d023b067"
      },
      "source": [
        "X[0] , y[0]"
      ],
      "execution_count": 64,
      "outputs": [
        {
          "output_type": "execute_result",
          "data": {
            "text/plain": [
              "([989, 1, 205, 629, 7, 3939, 216, 1, 3], [4, 1, 7, 1, 1, 1, 7, 1, 1])"
            ]
          },
          "metadata": {
            "tags": []
          },
          "execution_count": 64
        }
      ]
    },
    {
      "cell_type": "markdown",
      "metadata": {
        "id": "CwPUej8dPo4_"
      },
      "source": [
        "### 4) OOV로 대체된 단어 확인"
      ]
    },
    {
      "cell_type": "code",
      "metadata": {
        "id": "eHYblUNMPSQG"
      },
      "source": [
        "index_to_word = src_tokenizer.index_word\n",
        "index_to_ner = tar_tokenizer.index_word"
      ],
      "execution_count": 47,
      "outputs": []
    },
    {
      "cell_type": "code",
      "metadata": {
        "colab": {
          "base_uri": "https://localhost:8080/"
        },
        "id": "dI8ggwahP1F8",
        "outputId": "4269eec4-114d-45d2-d03a-aba9dd7a88e9"
      },
      "source": [
        "decoded = []\n",
        "\n",
        "for index in X[0] :\n",
        "  decoded.append(index_to_word[index]) # 첫번째 샘플의 인덱스에 해당하는 단어로 변환\n",
        "\n",
        "print('기존문장: {}' .format(sentences[0]))\n",
        "print('빈도수가 낮은 단어가 OOV 처리된 문장: {}' .format(decoded))"
      ],
      "execution_count": 54,
      "outputs": [
        {
          "output_type": "stream",
          "text": [
            "기존문장: ['eu', 'rejects', 'german', 'call', 'to', 'boycott', 'british', 'lamb', '.']\n",
            "빈도수가 낮은 단어가 OOV 처리된 문장: ['eu', 'OOV', 'german', 'call', 'to', 'boycott', 'british', 'OOV', '.']\n"
          ],
          "name": "stdout"
        }
      ]
    },
    {
      "cell_type": "code",
      "metadata": {
        "id": "WRtUblorP3go"
      },
      "source": [
        "max_len = 70\n",
        "\n",
        "X = pad_sequences(X, padding = 'post' , maxlen = max_len)\n",
        "y = pad_sequences(y, padding = 'post' , maxlen = max_len)"
      ],
      "execution_count": 67,
      "outputs": []
    },
    {
      "cell_type": "code",
      "metadata": {
        "id": "IdKcw6aFSZvl"
      },
      "source": [
        "y = to_categorical(y, num_classes = tag_size)"
      ],
      "execution_count": 70,
      "outputs": []
    },
    {
      "cell_type": "code",
      "metadata": {
        "id": "ufPJHxFiRUY2"
      },
      "source": [
        "X_train, X_test, y_train, y_test = train_test_split(X, y,\n",
        "                                                    test_size = .2,\n",
        "                                                    random_state = 2046)"
      ],
      "execution_count": 71,
      "outputs": []
    },
    {
      "cell_type": "code",
      "metadata": {
        "colab": {
          "base_uri": "https://localhost:8080/"
        },
        "id": "CvzKMixoRa2I",
        "outputId": "a497245b-6034-48fd-a5f9-8cca4a068bce"
      },
      "source": [
        "X_train.shape, y_train.shape, X_test.shape, y_test.shape"
      ],
      "execution_count": 72,
      "outputs": [
        {
          "output_type": "execute_result",
          "data": {
            "text/plain": [
              "((11232, 70), (11232, 70, 10), (2809, 70), (2809, 70, 10))"
            ]
          },
          "metadata": {
            "tags": []
          },
          "execution_count": 72
        }
      ]
    },
    {
      "cell_type": "markdown",
      "metadata": {
        "id": "vOgJh8reTCbS"
      },
      "source": [
        "## 2. Bi-LSTM 개체명 인식기 만들기"
      ]
    },
    {
      "cell_type": "code",
      "metadata": {
        "id": "ZAic9QPORexS"
      },
      "source": [
        "model = Sequential()\n",
        "\n",
        "model.add(Embedding(input_dim = vocab_size,\n",
        "                    output_dim = 128,\n",
        "                    input_length = max_len,\n",
        "                    mask_zero = True))\n",
        "model.add(Bidirectional(LSTM(256, return_sequences = True)))\n",
        "model.add(TimeDistributed(Dense(tag_size, activation = 'softmax')))"
      ],
      "execution_count": 82,
      "outputs": []
    },
    {
      "cell_type": "code",
      "metadata": {
        "colab": {
          "base_uri": "https://localhost:8080/"
        },
        "id": "-YdfE08cSprp",
        "outputId": "fd7ca99f-ff95-4164-b390-36e9ccc3e498"
      },
      "source": [
        "model.summary()"
      ],
      "execution_count": 83,
      "outputs": [
        {
          "output_type": "stream",
          "text": [
            "Model: \"sequential_1\"\n",
            "_________________________________________________________________\n",
            "Layer (type)                 Output Shape              Param #   \n",
            "=================================================================\n",
            "embedding_1 (Embedding)      (None, 70, 128)           512000    \n",
            "_________________________________________________________________\n",
            "bidirectional_1 (Bidirection (None, 70, 512)           788480    \n",
            "_________________________________________________________________\n",
            "time_distributed_1 (TimeDist (None, 70, 10)            5130      \n",
            "=================================================================\n",
            "Total params: 1,305,610\n",
            "Trainable params: 1,305,610\n",
            "Non-trainable params: 0\n",
            "_________________________________________________________________\n"
          ],
          "name": "stdout"
        }
      ]
    },
    {
      "cell_type": "code",
      "metadata": {
        "id": "zR4QKFVkTn3x"
      },
      "source": [
        "model.compile(loss = 'categorical_crossentropy',\n",
        "              optimizer = Adam(0.001),\n",
        "              metrics = ['accuracy'])"
      ],
      "execution_count": 84,
      "outputs": []
    },
    {
      "cell_type": "code",
      "metadata": {
        "colab": {
          "base_uri": "https://localhost:8080/"
        },
        "id": "lYOrhXp9TvOS",
        "outputId": "ededea2e-391f-48b8-df3e-6b2ec73a43ff"
      },
      "source": [
        "%%time\n",
        "\n",
        "hist = model.fit(X_train, y_train,\n",
        "          batch_size = 128,\n",
        "          epochs = 50,\n",
        "          validation_data = (X_test, y_test))"
      ],
      "execution_count": 85,
      "outputs": [
        {
          "output_type": "stream",
          "text": [
            "Epoch 1/50\n",
            "88/88 [==============================] - 11s 52ms/step - loss: 0.2591 - accuracy: 0.7844 - val_loss: 0.1257 - val_accuracy: 0.8344\n",
            "Epoch 2/50\n",
            "88/88 [==============================] - 2s 27ms/step - loss: 0.1026 - accuracy: 0.8479 - val_loss: 0.0737 - val_accuracy: 0.8945\n",
            "Epoch 3/50\n",
            "88/88 [==============================] - 2s 27ms/step - loss: 0.0642 - accuracy: 0.9069 - val_loss: 0.0538 - val_accuracy: 0.9260\n",
            "Epoch 4/50\n",
            "88/88 [==============================] - 2s 26ms/step - loss: 0.0457 - accuracy: 0.9352 - val_loss: 0.0415 - val_accuracy: 0.9428\n",
            "Epoch 5/50\n",
            "88/88 [==============================] - 2s 26ms/step - loss: 0.0352 - accuracy: 0.9512 - val_loss: 0.0357 - val_accuracy: 0.9498\n",
            "Epoch 6/50\n",
            "88/88 [==============================] - 2s 27ms/step - loss: 0.0272 - accuracy: 0.9620 - val_loss: 0.0356 - val_accuracy: 0.9503\n",
            "Epoch 7/50\n",
            "88/88 [==============================] - 2s 26ms/step - loss: 0.0234 - accuracy: 0.9670 - val_loss: 0.0332 - val_accuracy: 0.9534\n",
            "Epoch 8/50\n",
            "88/88 [==============================] - 2s 26ms/step - loss: 0.0204 - accuracy: 0.9705 - val_loss: 0.0326 - val_accuracy: 0.9553\n",
            "Epoch 9/50\n",
            "88/88 [==============================] - 2s 26ms/step - loss: 0.0172 - accuracy: 0.9755 - val_loss: 0.0331 - val_accuracy: 0.9562\n",
            "Epoch 10/50\n",
            "88/88 [==============================] - 2s 27ms/step - loss: 0.0153 - accuracy: 0.9779 - val_loss: 0.0337 - val_accuracy: 0.9550\n",
            "Epoch 11/50\n",
            "88/88 [==============================] - 2s 26ms/step - loss: 0.0137 - accuracy: 0.9806 - val_loss: 0.0354 - val_accuracy: 0.9510\n",
            "Epoch 12/50\n",
            "88/88 [==============================] - 2s 27ms/step - loss: 0.0126 - accuracy: 0.9823 - val_loss: 0.0349 - val_accuracy: 0.9555\n",
            "Epoch 13/50\n",
            "88/88 [==============================] - 2s 27ms/step - loss: 0.0105 - accuracy: 0.9852 - val_loss: 0.0364 - val_accuracy: 0.9550\n",
            "Epoch 14/50\n",
            "88/88 [==============================] - 2s 26ms/step - loss: 0.0096 - accuracy: 0.9864 - val_loss: 0.0388 - val_accuracy: 0.9551\n",
            "Epoch 15/50\n",
            "88/88 [==============================] - 2s 26ms/step - loss: 0.0085 - accuracy: 0.9885 - val_loss: 0.0400 - val_accuracy: 0.9558\n",
            "Epoch 16/50\n",
            "88/88 [==============================] - 2s 27ms/step - loss: 0.0079 - accuracy: 0.9896 - val_loss: 0.0413 - val_accuracy: 0.9517\n",
            "Epoch 17/50\n",
            "88/88 [==============================] - 2s 26ms/step - loss: 0.0071 - accuracy: 0.9898 - val_loss: 0.0424 - val_accuracy: 0.9536\n",
            "Epoch 18/50\n",
            "88/88 [==============================] - 2s 26ms/step - loss: 0.0057 - accuracy: 0.9922 - val_loss: 0.0438 - val_accuracy: 0.9539\n",
            "Epoch 19/50\n",
            "88/88 [==============================] - 2s 27ms/step - loss: 0.0050 - accuracy: 0.9936 - val_loss: 0.0465 - val_accuracy: 0.9541\n",
            "Epoch 20/50\n",
            "88/88 [==============================] - 2s 26ms/step - loss: 0.0048 - accuracy: 0.9941 - val_loss: 0.0462 - val_accuracy: 0.9534\n",
            "Epoch 21/50\n",
            "88/88 [==============================] - 2s 26ms/step - loss: 0.0040 - accuracy: 0.9949 - val_loss: 0.0481 - val_accuracy: 0.9536\n",
            "Epoch 22/50\n",
            "88/88 [==============================] - 2s 26ms/step - loss: 0.0035 - accuracy: 0.9958 - val_loss: 0.0509 - val_accuracy: 0.9535\n",
            "Epoch 23/50\n",
            "88/88 [==============================] - 2s 26ms/step - loss: 0.0028 - accuracy: 0.9968 - val_loss: 0.0526 - val_accuracy: 0.9525\n",
            "Epoch 24/50\n",
            "88/88 [==============================] - 2s 26ms/step - loss: 0.0026 - accuracy: 0.9968 - val_loss: 0.0545 - val_accuracy: 0.9534\n",
            "Epoch 25/50\n",
            "88/88 [==============================] - 2s 27ms/step - loss: 0.0026 - accuracy: 0.9968 - val_loss: 0.0541 - val_accuracy: 0.9541\n",
            "Epoch 26/50\n",
            "88/88 [==============================] - 2s 27ms/step - loss: 0.0020 - accuracy: 0.9978 - val_loss: 0.0565 - val_accuracy: 0.9526\n",
            "Epoch 27/50\n",
            "88/88 [==============================] - 2s 27ms/step - loss: 0.0019 - accuracy: 0.9978 - val_loss: 0.0582 - val_accuracy: 0.9524\n",
            "Epoch 28/50\n",
            "88/88 [==============================] - 2s 27ms/step - loss: 0.0015 - accuracy: 0.9982 - val_loss: 0.0616 - val_accuracy: 0.9529\n",
            "Epoch 29/50\n",
            "88/88 [==============================] - 2s 27ms/step - loss: 0.0018 - accuracy: 0.9979 - val_loss: 0.0585 - val_accuracy: 0.9518\n",
            "Epoch 30/50\n",
            "88/88 [==============================] - 2s 27ms/step - loss: 0.0014 - accuracy: 0.9984 - val_loss: 0.0607 - val_accuracy: 0.9515\n",
            "Epoch 31/50\n",
            "88/88 [==============================] - 2s 27ms/step - loss: 0.0013 - accuracy: 0.9986 - val_loss: 0.0605 - val_accuracy: 0.9527\n",
            "Epoch 32/50\n",
            "88/88 [==============================] - 2s 27ms/step - loss: 0.0013 - accuracy: 0.9985 - val_loss: 0.0616 - val_accuracy: 0.9528\n",
            "Epoch 33/50\n",
            "88/88 [==============================] - 2s 27ms/step - loss: 0.0011 - accuracy: 0.9988 - val_loss: 0.0633 - val_accuracy: 0.9518\n",
            "Epoch 34/50\n",
            "88/88 [==============================] - 2s 27ms/step - loss: 0.0012 - accuracy: 0.9987 - val_loss: 0.0628 - val_accuracy: 0.9533\n",
            "Epoch 35/50\n",
            "88/88 [==============================] - 2s 27ms/step - loss: 9.3695e-04 - accuracy: 0.9988 - val_loss: 0.0648 - val_accuracy: 0.9535\n",
            "Epoch 36/50\n",
            "88/88 [==============================] - 2s 27ms/step - loss: 8.2783e-04 - accuracy: 0.9990 - val_loss: 0.0648 - val_accuracy: 0.9534\n",
            "Epoch 37/50\n",
            "88/88 [==============================] - 2s 27ms/step - loss: 8.7303e-04 - accuracy: 0.9988 - val_loss: 0.0642 - val_accuracy: 0.9532\n",
            "Epoch 38/50\n",
            "88/88 [==============================] - 2s 27ms/step - loss: 8.0005e-04 - accuracy: 0.9989 - val_loss: 0.0656 - val_accuracy: 0.9521\n",
            "Epoch 39/50\n",
            "88/88 [==============================] - 2s 27ms/step - loss: 7.3169e-04 - accuracy: 0.9991 - val_loss: 0.0663 - val_accuracy: 0.9527\n",
            "Epoch 40/50\n",
            "88/88 [==============================] - 2s 26ms/step - loss: 8.1150e-04 - accuracy: 0.9991 - val_loss: 0.0681 - val_accuracy: 0.9518\n",
            "Epoch 41/50\n",
            "88/88 [==============================] - 2s 26ms/step - loss: 6.4255e-04 - accuracy: 0.9992 - val_loss: 0.0684 - val_accuracy: 0.9519\n",
            "Epoch 42/50\n",
            "88/88 [==============================] - 2s 26ms/step - loss: 5.9224e-04 - accuracy: 0.9992 - val_loss: 0.0679 - val_accuracy: 0.9524\n",
            "Epoch 43/50\n",
            "88/88 [==============================] - 2s 26ms/step - loss: 6.3272e-04 - accuracy: 0.9991 - val_loss: 0.0693 - val_accuracy: 0.9525\n",
            "Epoch 44/50\n",
            "88/88 [==============================] - 2s 26ms/step - loss: 5.7851e-04 - accuracy: 0.9992 - val_loss: 0.0693 - val_accuracy: 0.9500\n",
            "Epoch 45/50\n",
            "88/88 [==============================] - 2s 27ms/step - loss: 6.4425e-04 - accuracy: 0.9992 - val_loss: 0.0708 - val_accuracy: 0.9516\n",
            "Epoch 46/50\n",
            "88/88 [==============================] - 2s 26ms/step - loss: 0.0020 - accuracy: 0.9970 - val_loss: 0.0680 - val_accuracy: 0.9504\n",
            "Epoch 47/50\n",
            "88/88 [==============================] - 2s 27ms/step - loss: 0.0053 - accuracy: 0.9919 - val_loss: 0.0599 - val_accuracy: 0.9514\n",
            "Epoch 48/50\n",
            "88/88 [==============================] - 2s 27ms/step - loss: 0.0021 - accuracy: 0.9966 - val_loss: 0.0619 - val_accuracy: 0.9527\n",
            "Epoch 49/50\n",
            "88/88 [==============================] - 2s 27ms/step - loss: 0.0010 - accuracy: 0.9988 - val_loss: 0.0624 - val_accuracy: 0.9540\n",
            "Epoch 50/50\n",
            "88/88 [==============================] - 2s 26ms/step - loss: 7.0559e-04 - accuracy: 0.9992 - val_loss: 0.0639 - val_accuracy: 0.9532\n",
            "CPU times: user 2min 38s, sys: 14.1 s, total: 2min 52s\n",
            "Wall time: 2min 5s\n"
          ],
          "name": "stdout"
        }
      ]
    },
    {
      "cell_type": "markdown",
      "metadata": {
        "id": "gVVerdnyT49e"
      },
      "source": [
        "## 3. Model Evaluate"
      ]
    },
    {
      "cell_type": "code",
      "metadata": {
        "colab": {
          "base_uri": "https://localhost:8080/"
        },
        "id": "fvH7QEAPT8yh",
        "outputId": "1bf2238c-2ceb-45fa-e384-4f5ea28d5543"
      },
      "source": [
        "accuracy = model.evaluate(X_test, y_test)[1]\n",
        "\n",
        "print(\"Accuracy: {:.4f}\" .format(accuracy))"
      ],
      "execution_count": 86,
      "outputs": [
        {
          "output_type": "stream",
          "text": [
            "88/88 [==============================] - 1s 7ms/step - loss: 0.0639 - accuracy: 0.9532\n",
            "Accuracy: 0.9532\n"
          ],
          "name": "stdout"
        }
      ]
    },
    {
      "cell_type": "markdown",
      "metadata": {
        "id": "V4BUohfrU67m"
      },
      "source": [
        "### 1) 실제값과 비교"
      ]
    },
    {
      "cell_type": "code",
      "metadata": {
        "colab": {
          "base_uri": "https://localhost:8080/"
        },
        "id": "oH8cpPR8T4PL",
        "outputId": "134daadf-e103-4dd2-91ae-39b63a0d2562"
      },
      "source": [
        "i = 10  # 확인하고 싶은 테스트용 샘플의 인덱스\n",
        "\n",
        "y_hat = model.predict(np.array([X_test[i]]))\n",
        "y_hat = np.argmax(y_hat, axis = -1) # 원핫인코딩을 정수인코딩으로 변환\n",
        "y_true = np.argmax(y_test[i], axis = -1)\n",
        "\n",
        "print('{:15}|{:5}|{}' .format('단어' , '실제값' , '예측값'))\n",
        "print('-' * 35)\n",
        "\n",
        "for w, t, pred in zip(X_test[i], y_true, y_hat[0]) :\n",
        "  if w != 0 : # pad 값은 제외\n",
        "    print('{:17}: {:7} {}' .format(index_to_word[w],\n",
        "                                   index_to_ner[t].upper(),\n",
        "                                   index_to_ner[pred].upper()))"
      ],
      "execution_count": 87,
      "outputs": [
        {
          "output_type": "stream",
          "text": [
            "단어             |실제값  |예측값\n",
            "-----------------------------------\n",
            "iss              : B-ORG   B-ORG\n",
            "says             : O       O\n",
            "agreed           : O       O\n",
            "sale             : O       O\n",
            "of               : O       O\n",
            "u.s.             : B-LOC   B-ORG\n",
            "unit             : O       O\n",
            ".                : O       O\n"
          ],
          "name": "stdout"
        }
      ]
    }
  ]
}