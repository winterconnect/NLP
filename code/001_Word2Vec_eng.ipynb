{
  "nbformat": 4,
  "nbformat_minor": 0,
  "metadata": {
    "colab": {
      "name": "001_Word2Vec_eng",
      "provenance": []
    },
    "kernelspec": {
      "name": "python3",
      "display_name": "Python 3"
    },
    "language_info": {
      "name": "python"
    },
    "accelerator": "GPU"
  },
  "cells": [
    {
      "cell_type": "code",
      "metadata": {
        "id": "SYfNbvI-SaJG"
      },
      "source": [
        "import warnings\n",
        "warnings.filterwarnings('ignore')"
      ],
      "execution_count": 2,
      "outputs": []
    },
    {
      "cell_type": "code",
      "metadata": {
        "id": "vdu66KzWSkMN"
      },
      "source": [
        "import re\n",
        "import pandas as pd\n",
        "import xml.etree.ElementTree as ET\n",
        "from urllib.request import urlopen\n",
        "\n",
        "\n",
        "from lxml import etree\n",
        "import urllib.request\n",
        "import zipfile\n",
        "from nltk.tokenize import word_tokenize, sent_tokenize"
      ],
      "execution_count": 3,
      "outputs": []
    },
    {
      "cell_type": "code",
      "metadata": {
        "id": "-yEWMMo18ids"
      },
      "source": [
        "from gensim.models import Word2Vec, KeyedVectors"
      ],
      "execution_count": 24,
      "outputs": []
    },
    {
      "cell_type": "code",
      "metadata": {
        "colab": {
          "base_uri": "https://localhost:8080/"
        },
        "id": "B_prnOF87e19",
        "outputId": "175f75b2-4a09-4469-c3ce-6dd6ffb87b8c"
      },
      "source": [
        "!nvidia-smi"
      ],
      "execution_count": 6,
      "outputs": [
        {
          "output_type": "stream",
          "text": [
            "Sat Mar 27 09:05:05 2021       \n",
            "+-----------------------------------------------------------------------------+\n",
            "| NVIDIA-SMI 460.56       Driver Version: 460.32.03    CUDA Version: 11.2     |\n",
            "|-------------------------------+----------------------+----------------------+\n",
            "| GPU  Name        Persistence-M| Bus-Id        Disp.A | Volatile Uncorr. ECC |\n",
            "| Fan  Temp  Perf  Pwr:Usage/Cap|         Memory-Usage | GPU-Util  Compute M. |\n",
            "|                               |                      |               MIG M. |\n",
            "|===============================+======================+======================|\n",
            "|   0  Tesla P4            Off  | 00000000:00:04.0 Off |                    0 |\n",
            "| N/A   36C    P8     7W /  75W |      0MiB /  7611MiB |      0%      Default |\n",
            "|                               |                      |                  N/A |\n",
            "+-------------------------------+----------------------+----------------------+\n",
            "                                                                               \n",
            "+-----------------------------------------------------------------------------+\n",
            "| Processes:                                                                  |\n",
            "|  GPU   GI   CI        PID   Type   Process name                  GPU Memory |\n",
            "|        ID   ID                                                   Usage      |\n",
            "|=============================================================================|\n",
            "|  No running processes found                                                 |\n",
            "+-----------------------------------------------------------------------------+\n"
          ],
          "name": "stdout"
        }
      ]
    },
    {
      "cell_type": "markdown",
      "metadata": {
        "id": "3putc60fSvHy"
      },
      "source": [
        "## 1. 훈련데이터 다운로드"
      ]
    },
    {
      "cell_type": "code",
      "metadata": {
        "colab": {
          "base_uri": "https://localhost:8080/"
        },
        "id": "ORXLAAhSa9Gd",
        "outputId": "dd5cef7c-171e-4e73-b0e5-5bea97eb4013"
      },
      "source": [
        "from google.colab import drive\n",
        "\n",
        "drive.mount('/content/drive')"
      ],
      "execution_count": 4,
      "outputs": [
        {
          "output_type": "stream",
          "text": [
            "Mounted at /content/drive\n"
          ],
          "name": "stdout"
        }
      ]
    },
    {
      "cell_type": "code",
      "metadata": {
        "colab": {
          "base_uri": "https://localhost:8080/"
        },
        "id": "DD-P9_zSbewQ",
        "outputId": "f5395e38-62bd-4593-d7ba-5844452f2db3"
      },
      "source": [
        "!ls -l '/content/drive/My Drive/Colab Notebooks/Natural_Language_Processing/data'"
      ],
      "execution_count": 5,
      "outputs": [
        {
          "output_type": "stream",
          "text": [
            "total 15660\n",
            "-rw------- 1 root root 16035163 Mar 27 02:02 ted_en-20160408.zip\n"
          ],
          "name": "stdout"
        }
      ]
    },
    {
      "cell_type": "code",
      "metadata": {
        "id": "LWTJBL87b3b8"
      },
      "source": [
        "url = '/content/drive/My Drive/Colab Notebooks/Natural_Language_Processing/data/ted_en-20160408.zip'\n",
        "\n",
        "with zipfile.ZipFile(url , 'r') as z:\n",
        "  target_text = etree.parse(z.open('ted_en-20160408.xml' , 'r'))\n",
        "  parse_text = '\\n'.join(target_text.xpath('//content/text()'))"
      ],
      "execution_count": 7,
      "outputs": []
    },
    {
      "cell_type": "code",
      "metadata": {
        "colab": {
          "base_uri": "https://localhost:8080/"
        },
        "id": "_SSnSyLu4PBu",
        "outputId": "7020da91-c71c-40c5-87c8-317e629da546"
      },
      "source": [
        "print(len(parse_text))"
      ],
      "execution_count": 8,
      "outputs": [
        {
          "output_type": "stream",
          "text": [
            "24222849\n"
          ],
          "name": "stdout"
        }
      ]
    },
    {
      "cell_type": "code",
      "metadata": {
        "colab": {
          "base_uri": "https://localhost:8080/",
          "height": 86
        },
        "id": "3_eWdwF9cuEI",
        "outputId": "d98e3b40-1285-4860-823c-af103cd8cd6b"
      },
      "source": [
        "parse_text[:300]"
      ],
      "execution_count": 9,
      "outputs": [
        {
          "output_type": "execute_result",
          "data": {
            "application/vnd.google.colaboratory.intrinsic+json": {
              "type": "string"
            },
            "text/plain": [
              "\"Here are two reasons companies fail: they only do more of the same, or they only do what's new.\\nTo me the real, real solution to quality growth is figuring out the balance between two activities: exploration and exploitation. Both are necessary, but it can be too much of a good thing.\\nConsider Facit\""
            ]
          },
          "metadata": {
            "tags": []
          },
          "execution_count": 9
        }
      ]
    },
    {
      "cell_type": "markdown",
      "metadata": {
        "id": "JFkolisN4ZsR"
      },
      "source": [
        "## 2. 데이터 전처리"
      ]
    },
    {
      "cell_type": "markdown",
      "metadata": {
        "id": "ceDHqZn_4bqz"
      },
      "source": [
        "### 1) 괄호로 구성된 내용 제거"
      ]
    },
    {
      "cell_type": "code",
      "metadata": {
        "id": "bS1UbctUTYRo"
      },
      "source": [
        "# (content 중간에 등장하는 (Audio), (Laughter) 등의 배경음 부분 제거)\n",
        "content_text = re.sub(r'\\([^)]*\\)' , '' , parse_text)\n",
        "# 정규표현식의 ^: 제외\n",
        "# 괄호 사이에 든, 괄호를 제외한 모든 문자\n",
        "# (hello), () 등 괄호가 든 모든 문자 삭제\n",
        "# 일정 패턴 안에 포함된 모든 것을 지우고싶을 때 이렇게 사용하자"
      ],
      "execution_count": 12,
      "outputs": []
    },
    {
      "cell_type": "markdown",
      "metadata": {
        "id": "4X0mbpU55FY8"
      },
      "source": [
        "### 2) 입력 코퍼스에 대해 문장 토큰화"
      ]
    },
    {
      "cell_type": "code",
      "metadata": {
        "colab": {
          "base_uri": "https://localhost:8080/"
        },
        "id": "gwHxECXc6PNa",
        "outputId": "0572da15-9552-494d-bfbd-9aa7a57d773b"
      },
      "source": [
        "import nltk\n",
        "nltk.download('punkt')"
      ],
      "execution_count": 10,
      "outputs": [
        {
          "output_type": "stream",
          "text": [
            "[nltk_data] Downloading package punkt to /root/nltk_data...\n",
            "[nltk_data]   Unzipping tokenizers/punkt.zip.\n"
          ],
          "name": "stdout"
        },
        {
          "output_type": "execute_result",
          "data": {
            "text/plain": [
              "True"
            ]
          },
          "metadata": {
            "tags": []
          },
          "execution_count": 10
        }
      ]
    },
    {
      "cell_type": "code",
      "metadata": {
        "id": "NurCAVfp4_aY"
      },
      "source": [
        "# NLTK 이용, 문장 단위로 쪼갬\n",
        "sent_text = sent_tokenize(content_text)"
      ],
      "execution_count": 13,
      "outputs": []
    },
    {
      "cell_type": "markdown",
      "metadata": {
        "id": "Djf6v63v5UlT"
      },
      "source": [
        "### 3) 구두점 제거, 대문자를 소문자로 변환"
      ]
    },
    {
      "cell_type": "code",
      "metadata": {
        "id": "wdoEqYU36YxE"
      },
      "source": [
        "normalized_text = []\n",
        "\n",
        "for string in sent_text :\n",
        "  tokens = re.sub(r'[^a-z0-9]+', ' ', string.lower())\n",
        "  normalized_text.append(tokens)\n",
        "\n",
        "# [^a-z0-9]+ : 알파벳이나 숫자 빼고 한번 이상 반복되는 모든 것"
      ],
      "execution_count": 14,
      "outputs": []
    },
    {
      "cell_type": "code",
      "metadata": {
        "id": "s8hZZGzu647c"
      },
      "source": [
        "# 각 문장에 대해서 NLTK를 이용하여 단어 토큰화를 수행\n",
        "# 각 문장을 word_tokenize 하면 list 안에 list로 들어감\n",
        "result = [word_tokenize(sentence) for sentence in normalized_text]"
      ],
      "execution_count": 15,
      "outputs": []
    },
    {
      "cell_type": "markdown",
      "metadata": {
        "id": "I9fCcqnZ7wuv"
      },
      "source": [
        "### 4) 전처리 수행 후 샘플의 개수"
      ]
    },
    {
      "cell_type": "code",
      "metadata": {
        "colab": {
          "base_uri": "https://localhost:8080/"
        },
        "id": "pBDA4Kq07S-s",
        "outputId": "751a967d-b182-4051-dec8-f43c74328715"
      },
      "source": [
        "print('총 샘플의 개수: {}' .format(len(result)))"
      ],
      "execution_count": 17,
      "outputs": [
        {
          "output_type": "stream",
          "text": [
            "총 샘플의 개수: 273424\n"
          ],
          "name": "stdout"
        }
      ]
    },
    {
      "cell_type": "code",
      "metadata": {
        "colab": {
          "base_uri": "https://localhost:8080/"
        },
        "id": "PfSUUZAe731F",
        "outputId": "db746344-9bec-4d84-a6ed-a6c5316f7cd3"
      },
      "source": [
        "# 샘플 3개 출력\n",
        "for line in result[:3] :\n",
        "  print(line)"
      ],
      "execution_count": 18,
      "outputs": [
        {
          "output_type": "stream",
          "text": [
            "['here', 'are', 'two', 'reasons', 'companies', 'fail', 'they', 'only', 'do', 'more', 'of', 'the', 'same', 'or', 'they', 'only', 'do', 'what', 's', 'new']\n",
            "['to', 'me', 'the', 'real', 'real', 'solution', 'to', 'quality', 'growth', 'is', 'figuring', 'out', 'the', 'balance', 'between', 'two', 'activities', 'exploration', 'and', 'exploitation']\n",
            "['both', 'are', 'necessary', 'but', 'it', 'can', 'be', 'too', 'much', 'of', 'a', 'good', 'thing']\n"
          ],
          "name": "stdout"
        }
      ]
    },
    {
      "cell_type": "markdown",
      "metadata": {
        "id": "Ui0HqdrV8Sqm"
      },
      "source": [
        "## 3. Word2Vec 훈련시키기"
      ]
    },
    {
      "cell_type": "code",
      "metadata": {
        "colab": {
          "base_uri": "https://localhost:8080/"
        },
        "id": "ItPpESoj8M6-",
        "outputId": "c83511ad-c4dc-4075-c041-156f35a76fa3"
      },
      "source": [
        "%%time\n",
        "\n",
        "model = Word2Vec(sentences = result,\n",
        "                 size = 100,      # 밀집벡터의 크기. 워드벡터의 특징값(임베딩 된 벡터의 차원)\n",
        "                                  # 한 단어가 들어가면 100개의 밀집벡터로 나타남\n",
        "                                  # 밀집벡터가 클수록 좀 더 정밀하게 벡터로 나타냄\n",
        "                 window = 5,      # 맥락벡터의 크기. 컨텍스트 윈도우 크기 (앞뒤 5단어)\n",
        "                 min_count = 5,   # 단어 최소 빈도수 제한(빈도가 적은 단어들은 학습하지 않는다)\n",
        "                 workers = 4,     # 학습을 위한 프로세스 수 (내부적으로 멀티쓰레드 사용)\n",
        "                                  # GPU에 의미가 있음\n",
        "                 sg = 0)          # skip-gram: 0(CBOW), 1(Skip-gram)\n",
        "\n",
        "# model로 학습까지 됨"
      ],
      "execution_count": 22,
      "outputs": [
        {
          "output_type": "stream",
          "text": [
            "CPU times: user 49.3 s, sys: 363 ms, total: 49.7 s\n",
            "Wall time: 28.1 s\n"
          ],
          "name": "stdout"
        }
      ]
    },
    {
      "cell_type": "markdown",
      "metadata": {
        "id": "wtxbLkop-A8I"
      },
      "source": [
        "- model.wv.most_similar: 가장 유사한 단어들을 출력"
      ]
    },
    {
      "cell_type": "code",
      "metadata": {
        "colab": {
          "base_uri": "https://localhost:8080/"
        },
        "id": "sWNJOUHj90MY",
        "outputId": "a4f09780-50ce-438a-d7d3-bbb38471c924"
      },
      "source": [
        "# man과 유사한 단어 출력\n",
        "model_result = model.wv.most_similar('man')\n",
        "print(model_result)\n",
        "# 내부적으로 코사인 유사도를 구함"
      ],
      "execution_count": 23,
      "outputs": [
        {
          "output_type": "stream",
          "text": [
            "[('woman', 0.8382266759872437), ('guy', 0.8277359008789062), ('lady', 0.7799607515335083), ('gentleman', 0.7605015635490417), ('boy', 0.7373381853103638), ('girl', 0.7265478372573853), ('poet', 0.7214939594268799), ('soldier', 0.7167720794677734), ('kid', 0.686995267868042), ('david', 0.6737528443336487)]\n"
          ],
          "name": "stdout"
        }
      ]
    },
    {
      "cell_type": "markdown",
      "metadata": {
        "id": "GTxiG1Gd-m56"
      },
      "source": [
        "## 4. Word2Vec 모델 저장하고 로드하기"
      ]
    },
    {
      "cell_type": "code",
      "metadata": {
        "id": "qteJc6tI-bqO"
      },
      "source": [
        "model.wv.save_word2vec_format('eng_w2v') # 모델 저장\n",
        "loaded_model = KeyedVectors.load_word2vec_format('eng_w2v') # 모델 로드"
      ],
      "execution_count": 31,
      "outputs": []
    },
    {
      "cell_type": "code",
      "metadata": {
        "colab": {
          "base_uri": "https://localhost:8080/"
        },
        "id": "x_mDBs2H_10t",
        "outputId": "638e279e-0fe1-4240-d254-e8722aa517b6"
      },
      "source": [
        "model_result = loaded_model.most_similar('man')\n",
        "print(model_result)"
      ],
      "execution_count": 32,
      "outputs": [
        {
          "output_type": "stream",
          "text": [
            "[('woman', 0.8382266759872437), ('guy', 0.8277359008789062), ('lady', 0.7799607515335083), ('gentleman', 0.7605015635490417), ('boy', 0.7373381853103638), ('girl', 0.7265478372573853), ('poet', 0.7214939594268799), ('soldier', 0.7167720794677734), ('kid', 0.686995267868042), ('david', 0.6737528443336487)]\n"
          ],
          "name": "stdout"
        }
      ]
    },
    {
      "cell_type": "code",
      "metadata": {
        "id": "-k6FyXWGATP5"
      },
      "source": [
        ""
      ],
      "execution_count": null,
      "outputs": []
    }
  ]
}