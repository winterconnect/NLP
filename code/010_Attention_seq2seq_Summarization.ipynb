{
  "nbformat": 4,
  "nbformat_minor": 0,
  "metadata": {
    "colab": {
      "name": "010_Attention_seq2seq_Summarization.ipynb",
      "provenance": []
    },
    "kernelspec": {
      "name": "python3",
      "display_name": "Python 3"
    },
    "language_info": {
      "name": "python"
    },
    "accelerator": "TPU"
  },
  "cells": [
    {
      "cell_type": "code",
      "metadata": {
        "id": "RCfrMv5uOoDH"
      },
      "source": [
        "import tensorflow as tf"
      ],
      "execution_count": null,
      "outputs": []
    },
    {
      "cell_type": "code",
      "metadata": {
        "id": "TZsY_ZElOrbe"
      },
      "source": [
        "import numpy as np\n",
        "import pandas as pd\n",
        "import re\n",
        "import matplotlib.pyplot as plt\n",
        "from pprint import pprint\n",
        "import urllib.request\n",
        "import os"
      ],
      "execution_count": null,
      "outputs": []
    },
    {
      "cell_type": "code",
      "metadata": {
        "id": "Nb8LMApIOsjU"
      },
      "source": [
        "import nltk\n",
        "from nltk.corpus import stopwords\n",
        "from bs4 import BeautifulSoup"
      ],
      "execution_count": null,
      "outputs": []
    },
    {
      "cell_type": "code",
      "metadata": {
        "id": "efRBMHzsOtg9"
      },
      "source": [
        "from keras.preprocessing.text import Tokenizer\n",
        "from keras.preprocessing.sequence import pad_sequences\n",
        "from keras.layers import Input, LSTM, Embedding, Dense, Concatenate\n",
        "from keras.models import Model\n",
        "from keras.callbacks import EarlyStopping, ModelCheckpoint\n",
        "\n",
        "from keras.models import load_model"
      ],
      "execution_count": null,
      "outputs": []
    },
    {
      "cell_type": "code",
      "metadata": {
        "id": "DO8nIonlOukS"
      },
      "source": [
        "from sklearn.model_selection import train_test_split"
      ],
      "execution_count": null,
      "outputs": []
    },
    {
      "cell_type": "code",
      "metadata": {
        "id": "ehPeeHTaOvpJ"
      },
      "source": [
        "resolver = tf.distribute.cluster_resolver.TPUClusterResolver(\n",
        "    tpu = 'grpc://' + os.environ['COLAB_TPU_ADDR'])\n",
        "\n",
        "tf.config.experimental_connect_to_cluster(resolver)\n",
        "tf.tpu.experimental.initialize_tpu_system(resolver)\n",
        "\n",
        "strategy = tf.distribute.TPUStrategy(resolver)"
      ],
      "execution_count": null,
      "outputs": []
    },
    {
      "cell_type": "code",
      "metadata": {
        "colab": {
          "base_uri": "https://localhost:8080/"
        },
        "id": "XOS95klHOw7p",
        "outputId": "9065217d-97e9-4e39-a869-568b1c381041"
      },
      "source": [
        "url = \"https://raw.githubusercontent.com/thushv89/attention_keras/master/src/layers/attention.py\"\n",
        "urllib.request.urlretrieve(url, filename=\"attention.py\")"
      ],
      "execution_count": null,
      "outputs": [
        {
          "output_type": "execute_result",
          "data": {
            "text/plain": [
              "('attention.py', <http.client.HTTPMessage at 0x7fe99bfed5d0>)"
            ]
          },
          "metadata": {
            "tags": []
          },
          "execution_count": 7
        }
      ]
    },
    {
      "cell_type": "code",
      "metadata": {
        "id": "BjFTbjlIOyvS"
      },
      "source": [
        "from attention import AttentionLayer"
      ],
      "execution_count": null,
      "outputs": []
    },
    {
      "cell_type": "code",
      "metadata": {
        "colab": {
          "base_uri": "https://localhost:8080/"
        },
        "id": "b1GgW05jOz5B",
        "outputId": "e542eb8d-739b-4116-a8f4-82071a13d8dd"
      },
      "source": [
        "from google.colab import drive\n",
        "drive.mount('/content/drive/')"
      ],
      "execution_count": null,
      "outputs": [
        {
          "output_type": "stream",
          "text": [
            "Mounted at /content/drive/\n"
          ],
          "name": "stdout"
        }
      ]
    },
    {
      "cell_type": "markdown",
      "metadata": {
        "id": "8u_B_2mmOl6m"
      },
      "source": [
        "## 1. Data Load"
      ]
    },
    {
      "cell_type": "code",
      "metadata": {
        "id": "dyv0uhQZO55_"
      },
      "source": [
        "data = pd.read_csv('/content/drive/MyDrive/Colab Notebooks/Natural_Language_Processing/data/Reviews.csv' , nrows = 100000)"
      ],
      "execution_count": null,
      "outputs": []
    },
    {
      "cell_type": "markdown",
      "metadata": {
        "id": "5rRMX0NnOtRh"
      },
      "source": [
        "## 2. Text, Summary 분리"
      ]
    },
    {
      "cell_type": "code",
      "metadata": {
        "colab": {
          "base_uri": "https://localhost:8080/",
          "height": 204
        },
        "id": "i2cPof3VO_DQ",
        "outputId": "b57f7f99-3b19-4db6-eeac-c47992cfaa6f"
      },
      "source": [
        "data = data[['Text' , 'Summary']]\n",
        "\n",
        "data.head()"
      ],
      "execution_count": null,
      "outputs": [
        {
          "output_type": "execute_result",
          "data": {
            "text/html": [
              "<div>\n",
              "<style scoped>\n",
              "    .dataframe tbody tr th:only-of-type {\n",
              "        vertical-align: middle;\n",
              "    }\n",
              "\n",
              "    .dataframe tbody tr th {\n",
              "        vertical-align: top;\n",
              "    }\n",
              "\n",
              "    .dataframe thead th {\n",
              "        text-align: right;\n",
              "    }\n",
              "</style>\n",
              "<table border=\"1\" class=\"dataframe\">\n",
              "  <thead>\n",
              "    <tr style=\"text-align: right;\">\n",
              "      <th></th>\n",
              "      <th>Text</th>\n",
              "      <th>Summary</th>\n",
              "    </tr>\n",
              "  </thead>\n",
              "  <tbody>\n",
              "    <tr>\n",
              "      <th>0</th>\n",
              "      <td>I have bought several of the Vitality canned d...</td>\n",
              "      <td>Good Quality Dog Food</td>\n",
              "    </tr>\n",
              "    <tr>\n",
              "      <th>1</th>\n",
              "      <td>Product arrived labeled as Jumbo Salted Peanut...</td>\n",
              "      <td>Not as Advertised</td>\n",
              "    </tr>\n",
              "    <tr>\n",
              "      <th>2</th>\n",
              "      <td>This is a confection that has been around a fe...</td>\n",
              "      <td>\"Delight\" says it all</td>\n",
              "    </tr>\n",
              "    <tr>\n",
              "      <th>3</th>\n",
              "      <td>If you are looking for the secret ingredient i...</td>\n",
              "      <td>Cough Medicine</td>\n",
              "    </tr>\n",
              "    <tr>\n",
              "      <th>4</th>\n",
              "      <td>Great taffy at a great price.  There was a wid...</td>\n",
              "      <td>Great taffy</td>\n",
              "    </tr>\n",
              "  </tbody>\n",
              "</table>\n",
              "</div>"
            ],
            "text/plain": [
              "                                                Text                Summary\n",
              "0  I have bought several of the Vitality canned d...  Good Quality Dog Food\n",
              "1  Product arrived labeled as Jumbo Salted Peanut...      Not as Advertised\n",
              "2  This is a confection that has been around a fe...  \"Delight\" says it all\n",
              "3  If you are looking for the secret ingredient i...         Cough Medicine\n",
              "4  Great taffy at a great price.  There was a wid...            Great taffy"
            ]
          },
          "metadata": {
            "tags": []
          },
          "execution_count": 11
        }
      ]
    },
    {
      "cell_type": "markdown",
      "metadata": {
        "id": "w2MENXAcOyu4"
      },
      "source": [
        "## 3. Data Preprocessing"
      ]
    },
    {
      "cell_type": "markdown",
      "metadata": {
        "id": "qoLrrH-rO2ZT"
      },
      "source": [
        "### 1) 불필요한 샘플 제거"
      ]
    },
    {
      "cell_type": "markdown",
      "metadata": {
        "id": "GuDH5mnRO3-c"
      },
      "source": [
        "- 중복샘플 제거"
      ]
    },
    {
      "cell_type": "code",
      "metadata": {
        "colab": {
          "base_uri": "https://localhost:8080/"
        },
        "id": "x6cVO69ePAqV",
        "outputId": "654f3495-1675-4a87-ad26-c12293ea8086"
      },
      "source": [
        "data.drop_duplicates(subset = ['Text'] , inplace = True)\n",
        "print('전체 샘플수: ' , len(data))"
      ],
      "execution_count": null,
      "outputs": [
        {
          "output_type": "stream",
          "text": [
            "전체 샘플수:  88426\n"
          ],
          "name": "stdout"
        }
      ]
    },
    {
      "cell_type": "markdown",
      "metadata": {
        "id": "r8MPJzVqPCrg"
      },
      "source": [
        "- Null 제거"
      ]
    },
    {
      "cell_type": "code",
      "metadata": {
        "id": "HJPwQesvPETM"
      },
      "source": [
        "data.dropna(axis = 0, inplace = True)"
      ],
      "execution_count": null,
      "outputs": []
    },
    {
      "cell_type": "markdown",
      "metadata": {
        "id": "ygMD7rrSPNnT"
      },
      "source": [
        "### 2) 샘플 내부 전처리"
      ]
    },
    {
      "cell_type": "code",
      "metadata": {
        "id": "kL_TrFnFPF0z"
      },
      "source": [
        "# 전처리 함수 내 사용\n",
        "contractions = {\"ain't\": \"is not\", \"aren't\": \"are not\",\"can't\": \"cannot\", \n",
        "                \"'cause\": \"because\", \"could've\": \"could have\", \n",
        "                \"couldn't\": \"could not\", \"didn't\": \"did not\", \n",
        "                \"doesn't\": \"does not\", \"don't\": \"do not\", \"hadn't\": \"had not\", \n",
        "                \"hasn't\": \"has not\", \"haven't\": \"have not\", \"he'd\": \"he would\",\n",
        "                \"he'll\": \"he will\", \"he's\": \"he is\", \"how'd\": \"how did\", \n",
        "                \"how'd'y\": \"how do you\", \"how'll\": \"how will\", \"how's\": \"how is\",\n",
        "                \"I'd\": \"I would\", \"I'd've\": \"I would have\", \"I'll\": \"I will\",\n",
        "                \"I'll've\": \"I will have\",\"I'm\": \"I am\", \"I've\": \"I have\",\n",
        "                \"i'd\": \"i would\", \"i'd've\": \"i would have\", \"i'll\": \"i will\",\n",
        "                \"i'll've\": \"i will have\",\"i'm\": \"i am\", \"i've\": \"i have\", \n",
        "                \"isn't\": \"is not\", \"it'd\": \"it would\", \"it'd've\": \"it would have\", \n",
        "                \"it'll\": \"it will\", \"it'll've\": \"it will have\",\"it's\": \"it is\",\n",
        "                \"let's\": \"let us\", \"ma'am\": \"madam\", \"mayn't\": \"may not\", \n",
        "                \"might've\": \"might have\",\"mightn't\": \"might not\",\n",
        "                \"mightn't've\": \"might not have\", \"must've\": \"must have\",\n",
        "                \"mustn't\": \"must not\", \"mustn't've\": \"must not have\",\n",
        "                \"needn't\": \"need not\", \"needn't've\": \"need not have\",\n",
        "                \"o'clock\": \"of the clock\", \"oughtn't\": \"ought not\", \n",
        "                \"oughtn't've\": \"ought not have\", \"shan't\": \"shall not\", \n",
        "                \"sha'n't\": \"shall not\", \"shan't've\": \"shall not have\", \n",
        "                \"she'd\": \"she would\", \"she'd've\": \"she would have\", \n",
        "                \"she'll\": \"she will\", \"she'll've\": \"she will have\", \n",
        "                \"she's\": \"she is\", \"should've\": \"should have\",\n",
        "                \"shouldn't\": \"should not\", \"shouldn't've\": \"should not have\", \n",
        "                \"so've\": \"so have\",\"so's\": \"so as\", \"this's\": \"this is\",\n",
        "                \"that'd\": \"that would\", \"that'd've\": \"that would have\", \n",
        "                \"that's\": \"that is\", \"there'd\": \"there would\", \n",
        "                \"there'd've\": \"there would have\", \"there's\": \"there is\", \n",
        "                \"here's\": \"here is\",\"they'd\": \"they would\", \n",
        "                \"they'd've\": \"they would have\", \"they'll\": \"they will\",\n",
        "                \"they'll've\": \"they will have\", \"they're\": \"they are\", \n",
        "                \"they've\": \"they have\", \"to've\": \"to have\", \"wasn't\": \"was not\",\n",
        "                \"we'd\": \"we would\", \"we'd've\": \"we would have\", \n",
        "                \"we'll\": \"we will\", \"we'll've\": \"we will have\", \"we're\": \"we are\",\n",
        "                \"we've\": \"we have\", \"weren't\": \"were not\", \"what'll\": \"what will\",\n",
        "                \"what'll've\": \"what will have\", \"what're\": \"what are\", \n",
        "                \"what's\": \"what is\", \"what've\": \"what have\", \"when's\": \"when is\",\n",
        "                \"when've\": \"when have\", \"where'd\": \"where did\", \"where's\": \"where is\",\n",
        "                \"where've\": \"where have\", \"who'll\": \"who will\", \n",
        "                \"who'll've\": \"who will have\", \"who's\": \"who is\", \"who've\": \"who have\",\n",
        "                \"why's\": \"why is\", \"why've\": \"why have\", \"will've\": \"will have\",\n",
        "                \"won't\": \"will not\", \"won't've\": \"will not have\",\n",
        "                \"would've\": \"would have\", \"wouldn't\": \"would not\", \n",
        "                \"wouldn't've\": \"would not have\", \"y'all\": \"you all\", \n",
        "                \"y'all'd\": \"you all would\",\"y'all'd've\": \"you all would have\",\n",
        "                \"y'all're\": \"you all are\",\"y'all've\": \"you all have\",\n",
        "                \"you'd\": \"you would\", \"you'd've\": \"you would have\", \n",
        "                \"you'll\": \"you will\", \"you'll've\": \"you will have\", \n",
        "                \"you're\": \"you are\", \"you've\": \"you have\"}"
      ],
      "execution_count": null,
      "outputs": []
    },
    {
      "cell_type": "markdown",
      "metadata": {
        "id": "ZvO2z6LJPQ3Z"
      },
      "source": [
        "- NLTK의 불용어를 저장하고 개수 확인"
      ]
    },
    {
      "cell_type": "code",
      "metadata": {
        "colab": {
          "base_uri": "https://localhost:8080/"
        },
        "id": "QlE5uyBAPIYx",
        "outputId": "931333fb-5765-4839-9235-914a81b3d0a0"
      },
      "source": [
        "nltk.download('stopwords')"
      ],
      "execution_count": null,
      "outputs": [
        {
          "output_type": "stream",
          "text": [
            "[nltk_data] Downloading package stopwords to /root/nltk_data...\n",
            "[nltk_data]   Unzipping corpora/stopwords.zip.\n"
          ],
          "name": "stdout"
        },
        {
          "output_type": "execute_result",
          "data": {
            "text/plain": [
              "True"
            ]
          },
          "metadata": {
            "tags": []
          },
          "execution_count": 15
        }
      ]
    },
    {
      "cell_type": "code",
      "metadata": {
        "colab": {
          "base_uri": "https://localhost:8080/"
        },
        "id": "hvom0NhwPJjo",
        "outputId": "e687a6bc-cee6-4223-8426-190c107b4c18"
      },
      "source": [
        "# NLTK의 불용어\n",
        "stop_words = set(stopwords.words('english'))\n",
        "print('불용어 개수: ' , len(stop_words))\n",
        "print('불용어 종류: ' , stop_words)"
      ],
      "execution_count": null,
      "outputs": [
        {
          "output_type": "stream",
          "text": [
            "불용어 개수:  179\n",
            "불용어 종류:  {'during', 'such', 'where', 'can', 'your', 'not', 'having', 'his', 'when', \"won't\", 'against', 'they', 'isn', \"isn't\", \"you're\", 'off', 'should', 'both', 'from', 'all', 'further', 'mustn', 'to', 'very', 'hadn', 'nor', 'wasn', 'were', 'shouldn', 'whom', 'these', 'don', 'doing', 's', 'under', 'd', 'mightn', 'll', \"it's\", 'couldn', 'weren', \"doesn't\", \"aren't\", 'once', 'being', 'herself', 'are', \"shan't\", \"weren't\", 'those', 'does', \"hasn't\", 'than', 't', 'so', 'myself', 'him', 'about', 'which', \"you'll\", 'didn', 'down', 'haven', 'while', 'that', 'again', 'an', 'most', 'my', 'ain', 'how', 'ma', 'each', 'below', 'yourselves', 'more', 'will', 'at', 'it', 'has', \"mustn't\", 'her', 'until', 'y', 'had', 'some', 'be', 'and', 'why', 'before', 'm', 'the', 'do', \"wasn't\", 'ours', 'been', 'through', 'me', 'himself', 'out', 'am', 'few', 'did', 'no', 'what', 'then', 'in', 'other', 'doesn', \"wouldn't\", 'themselves', 'any', 'them', 'on', 'of', 'o', 'our', 'or', \"couldn't\", 'needn', 'he', \"didn't\", \"hadn't\", 'own', 'here', 'yours', 're', 'by', \"mightn't\", 'above', 'a', 'is', 'after', 'hers', 'its', 'wouldn', 've', \"haven't\", 'same', \"you've\", 'too', \"shouldn't\", 'for', 'their', 'hasn', 'who', 'as', 'but', 'have', \"you'd\", 'over', 'because', 'only', 'was', 'this', 'she', 'up', 'itself', 'theirs', 'if', 'into', 'i', \"she's\", 'with', \"needn't\", 'between', \"that'll\", \"should've\", 'there', \"don't\", 'shan', 'you', 'just', 'aren', 'won', 'yourself', 'we', 'ourselves', 'now'}\n"
          ],
          "name": "stdout"
        }
      ]
    },
    {
      "cell_type": "markdown",
      "metadata": {
        "id": "J5g_qK6oPUz5"
      },
      "source": [
        "### 3) 전처리 함수 설계"
      ]
    },
    {
      "cell_type": "code",
      "metadata": {
        "id": "C-AyfMttPKxk"
      },
      "source": [
        "# 전처리 함수\n",
        "def preprocess_sentence(sentence, remove_stopwords = True) :\n",
        "  sentence = sentence.lower()\n",
        "\n",
        "  # <br /> <a ref = ...> 등의 html 태그 제거\n",
        "  sentence = BeautifulSoup(sentence, \"lxml\").text\n",
        "  # 괄호로 닫힌 문자열 제거 ex) my husband (and myself) for => my husband for\n",
        "  sentence = re.sub(r'\\([^)]*\\)' , '' , sentence)\n",
        "  # 쌍따옴표 제거\n",
        "  sentence = re.sub('\"' , '' , sentence)\n",
        "  # 약어 정규화\n",
        "  sentence = ' '.join([contractions[t] if t in contractions else t\n",
        "                       for t in sentence.split(\" \")]) \n",
        "  # 소유격 제거 ex) roland's => roland\n",
        "  sentence = re.sub(r\"'s\\b\" , '' , sentence)\n",
        "  # 영어 외 문자(숫자, 특수문자 등) 공백으로 전환\n",
        "  sentence = re.sub(\"[^a-zA-Z]\" , \" \" , sentence)\n",
        "  # m이 3개 이상이면 2개로 변경 ex) ummmmmmm yeah => umm yeah\n",
        "  sentence = re.sub('m]{2,}' , 'mm' , sentence)\n",
        "  # 불용어 제거(Text)\n",
        "  if remove_stopwords:\n",
        "    tokens = ' '.join(word for word in sentence.split()\n",
        "    if not word in stop_words if len(word) > 1)\n",
        "  # 불용어 미제거(Summary)\n",
        "  else:\n",
        "    tokens = ' '.join(word for word in sentence.split() if len(word) > 1)\n",
        "  \n",
        "  return tokens"
      ],
      "execution_count": null,
      "outputs": []
    },
    {
      "cell_type": "code",
      "metadata": {
        "colab": {
          "base_uri": "https://localhost:8080/"
        },
        "id": "dzF0BPPzPMME",
        "outputId": "619da02f-56f6-41d8-bbd7-36a4b0a7c3d2"
      },
      "source": [
        "temp_text = 'Everything I bought was great, infact I ordered twice and the third ordered was<br />for my mother and father.'\n",
        "temp_summary = \"Great way to start aren't (or finish) the day!!! ummmmm\"\n",
        "print(preprocess_sentence(temp_text))\n",
        "print(preprocess_sentence(temp_summary, 0))"
      ],
      "execution_count": null,
      "outputs": [
        {
          "output_type": "stream",
          "text": [
            "everything bought great infact ordered twice third ordered wasfor mother father\n",
            "great way to start are not the day ummmmm\n"
          ],
          "name": "stdout"
        }
      ]
    },
    {
      "cell_type": "markdown",
      "metadata": {
        "id": "VoZEnO9DPY5X"
      },
      "source": [
        "### 4) Text 열 전처리"
      ]
    },
    {
      "cell_type": "code",
      "metadata": {
        "colab": {
          "base_uri": "https://localhost:8080/"
        },
        "id": "ZhWqSa-wPNh2",
        "outputId": "0ea1ecb1-b496-445b-c10b-759ddf6dfbdb"
      },
      "source": [
        "clean_text = []\n",
        "\n",
        "for s in data['Text'] :\n",
        "  clean_text.append(preprocess_sentence(s))\n",
        "\n",
        "clean_text[:5]"
      ],
      "execution_count": null,
      "outputs": [
        {
          "output_type": "execute_result",
          "data": {
            "text/plain": [
              "['bought several vitality canned dog food products found good quality product looks like stew processed meat smells better labrador finicky appreciates product better',\n",
              " 'product arrived labeled jumbo salted peanuts peanuts actually small sized unsalted sure error vendor intended represent product jumbo',\n",
              " 'confection around centuries light pillowy citrus gelatin nuts case filberts cut tiny squares liberally coated powdered sugar tiny mouthful heaven chewy flavorful highly recommend yummy treat familiar story lewis lion witch wardrobe treat seduces edmund selling brother sisters witch',\n",
              " 'looking secret ingredient robitussin believe found got addition root beer extract ordered made cherry soda flavor medicinal',\n",
              " 'great taffy great price wide assortment yummy taffy delivery quick taffy lover deal']"
            ]
          },
          "metadata": {
            "tags": []
          },
          "execution_count": 19
        }
      ]
    },
    {
      "cell_type": "markdown",
      "metadata": {
        "id": "r4izrYXfPbgy"
      },
      "source": [
        "### 5) Summary 열 전처리"
      ]
    },
    {
      "cell_type": "code",
      "metadata": {
        "colab": {
          "base_uri": "https://localhost:8080/"
        },
        "id": "vR6rX7nPPO8Z",
        "outputId": "4c239c24-1c10-4841-8e07-4d9a2d3a4f64"
      },
      "source": [
        "clean_summary = []\n",
        "\n",
        "for s in data['Summary'] :\n",
        "  clean_summary.append(preprocess_sentence(s, 0))\n",
        "\n",
        "clean_summary[:5]"
      ],
      "execution_count": null,
      "outputs": [
        {
          "output_type": "stream",
          "text": [
            "/usr/local/lib/python3.7/dist-packages/bs4/__init__.py:336: UserWarning: \"http://www.amazon.com/gp/product/b007i7yygy/ref=cm_cr_rev_prod_title\" looks like a URL. Beautiful Soup is not an HTTP client. You should probably use an HTTP client like requests to get the document behind the URL, and feed that document to Beautiful Soup.\n",
            "  ' that document to Beautiful Soup.' % decoded_markup\n"
          ],
          "name": "stderr"
        },
        {
          "output_type": "execute_result",
          "data": {
            "text/plain": [
              "['good quality dog food',\n",
              " 'not as advertised',\n",
              " 'delight says it all',\n",
              " 'cough medicine',\n",
              " 'great taffy']"
            ]
          },
          "metadata": {
            "tags": []
          },
          "execution_count": 20
        }
      ]
    },
    {
      "cell_type": "code",
      "metadata": {
        "id": "zaMqYtTEPQhV"
      },
      "source": [
        "data['Text'] = clean_text\n",
        "data['Summary'] = clean_summary"
      ],
      "execution_count": null,
      "outputs": []
    },
    {
      "cell_type": "markdown",
      "metadata": {
        "id": "1IB4eFt2PezQ"
      },
      "source": [
        "### 6) 전처리 과정에서 생긴 공백 처리"
      ]
    },
    {
      "cell_type": "code",
      "metadata": {
        "colab": {
          "base_uri": "https://localhost:8080/"
        },
        "id": "W5WmUmVyPRq0",
        "outputId": "56c71a6c-9079-4c08-9b04-3043213caf91"
      },
      "source": [
        "# Null값으로 변환\n",
        "data.replace('' , np.nan, inplace = True)\n",
        "print(data.isnull().sum())"
      ],
      "execution_count": null,
      "outputs": [
        {
          "output_type": "stream",
          "text": [
            "Text        0\n",
            "Summary    70\n",
            "dtype: int64\n"
          ],
          "name": "stdout"
        }
      ]
    },
    {
      "cell_type": "code",
      "metadata": {
        "colab": {
          "base_uri": "https://localhost:8080/"
        },
        "id": "G5VTCitsPTFo",
        "outputId": "515c783b-a01f-4380-b010-3ac485539b17"
      },
      "source": [
        "data.dropna(axis = 0, inplace = True)\n",
        "print('전체 샘플수: ' , len(data))"
      ],
      "execution_count": null,
      "outputs": [
        {
          "output_type": "stream",
          "text": [
            "전체 샘플수:  88355\n"
          ],
          "name": "stdout"
        }
      ]
    },
    {
      "cell_type": "markdown",
      "metadata": {
        "id": "5oFhV2kkPlCO"
      },
      "source": [
        "### 7) 길이분포 확인"
      ]
    },
    {
      "cell_type": "code",
      "metadata": {
        "colab": {
          "base_uri": "https://localhost:8080/",
          "height": 955
        },
        "id": "kATNOJlwPUS5",
        "outputId": "32d08e0d-be13-4012-893e-80e17a1ec96a"
      },
      "source": [
        "text_len = [ len(s.split()) for s in data['Text']]\n",
        "summary_len = [len(s.split()) for s in data['Summary']]\n",
        "\n",
        "print('텍스트의 최소 길이: {} ' .format(np.min(text_len)))\n",
        "print('텍스트의 최대 길이 : {}'.format(np.max(text_len)))\n",
        "print('텍스트의 평균 길이 : {}'.format(np.mean(text_len)))\n",
        "print('요약의 최소 길이 : {}'.format(np.min(summary_len)))\n",
        "print('요약의 최대 길이 : {}'.format(np.max(summary_len)))\n",
        "print('요약의 평균 길이 : {}'.format(np.mean(summary_len)))\n",
        "\n",
        "plt.subplot(1,2,1)\n",
        "plt.boxplot(summary_len)\n",
        "plt.title('Summary')\n",
        "plt.subplot(1,2,2)\n",
        "plt.boxplot(text_len)\n",
        "plt.title('Text')\n",
        "plt.tight_layout()\n",
        "plt.show()\n",
        "\n",
        "plt.title('Summary')\n",
        "plt.hist(summary_len, bins=40)\n",
        "plt.xlabel('length of samples')\n",
        "plt.ylabel('number of samples')\n",
        "plt.show()\n",
        "\n",
        "plt.title('Text')\n",
        "plt.hist(text_len, bins=40)\n",
        "plt.xlabel('length of samples')\n",
        "plt.ylabel('number of samples')\n",
        "plt.show()"
      ],
      "execution_count": null,
      "outputs": [
        {
          "output_type": "stream",
          "text": [
            "텍스트의 최소 길이: 2 \n",
            "텍스트의 최대 길이 : 1235\n",
            "텍스트의 평균 길이 : 38.792428272310566\n",
            "요약의 최소 길이 : 1\n",
            "요약의 최대 길이 : 28\n",
            "요약의 평균 길이 : 4.010729443721352\n"
          ],
          "name": "stdout"
        },
        {
          "output_type": "display_data",
          "data": {
            "image/png": "[encoded data removed]",
            "text/plain": [
              "<Figure size 432x288 with 2 Axes>"
            ]
          },
          "metadata": {
            "tags": [],
            "needs_background": "light"
          }
        },
        {
          "output_type": "display_data",
          "data": {
            "image/png": "[encoded data removed]",
            "text/plain": [
              "<Figure size 432x288 with 1 Axes>"
            ]
          },
          "metadata": {
            "tags": [],
            "needs_background": "light"
          }
        },
        {
          "output_type": "display_data",
          "data": {
            "image/png": "[encoded data removed]",
            "text/plain": [
              "<Figure size 432x288 with 1 Axes>"
            ]
          },
          "metadata": {
            "tags": [],
            "needs_background": "light"
          }
        }
      ]
    },
    {
      "cell_type": "markdown",
      "metadata": {
        "id": "L6jdLMREPo3R"
      },
      "source": [
        "### 8) 패딩"
      ]
    },
    {
      "cell_type": "code",
      "metadata": {
        "id": "GZiLLeEUPWLk"
      },
      "source": [
        "# 패딩길이를 각각 60과 8로 정함\n",
        "text_max_len = 60\n",
        "summary_max_len = 8"
      ],
      "execution_count": null,
      "outputs": []
    },
    {
      "cell_type": "code",
      "metadata": {
        "id": "DeWaQpD9PX_i"
      },
      "source": [
        "def below_threshold_len(max_len, nested_list) :\n",
        "  cnt = 0\n",
        "  for s in nested_list:\n",
        "    if len(s.split()) <= max_len :\n",
        "      cnt += 1\n",
        "  \n",
        "  print('전체 샘플 중 길이가 %s 이하인 샘플의 비율: %.5f' %(max_len,\n",
        "                                          (cnt / len(nested_list))))"
      ],
      "execution_count": null,
      "outputs": []
    },
    {
      "cell_type": "code",
      "metadata": {
        "colab": {
          "base_uri": "https://localhost:8080/"
        },
        "id": "vfoBAG8bPZXi",
        "outputId": "c0798964-bbdf-4a90-a19f-1123d34a3f73"
      },
      "source": [
        "below_threshold_len(text_max_len, data['Text'])"
      ],
      "execution_count": null,
      "outputs": [
        {
          "output_type": "stream",
          "text": [
            "전체 샘플 중 길이가 60 이하인 샘플의 비율: 0.83533\n"
          ],
          "name": "stdout"
        }
      ]
    },
    {
      "cell_type": "code",
      "metadata": {
        "colab": {
          "base_uri": "https://localhost:8080/"
        },
        "id": "jbEA8WEIPa6h",
        "outputId": "a449cdf0-204b-43ea-dcc9-6b53bcfe1461"
      },
      "source": [
        "below_threshold_len(summary_max_len, data['Summary'])"
      ],
      "execution_count": null,
      "outputs": [
        {
          "output_type": "stream",
          "text": [
            "전체 샘플 중 길이가 8 이하인 샘플의 비율: 0.94246\n"
          ],
          "name": "stdout"
        }
      ]
    },
    {
      "cell_type": "markdown",
      "metadata": {
        "id": "kOC3hCa5Pt3D"
      },
      "source": [
        "- 정해진 패딩보다 큰 샘플들을 제거"
      ]
    },
    {
      "cell_type": "code",
      "metadata": {
        "colab": {
          "base_uri": "https://localhost:8080/"
        },
        "id": "u88UJbNkPcH2",
        "outputId": "93194685-ac63-4354-b4f5-d8ba390d0fe1"
      },
      "source": [
        "data = data[data['Text'].apply(lambda x : len(x.split()) <= text_max_len)]\n",
        "data = data[data['Summary'].apply(lambda x : len(x.split()) <= summary_max_len)]\n",
        "\n",
        "print('전체 샘플 수: ' , len(data))"
      ],
      "execution_count": null,
      "outputs": [
        {
          "output_type": "stream",
          "text": [
            "전체 샘플 수:  70761\n"
          ],
          "name": "stdout"
        }
      ]
    },
    {
      "cell_type": "code",
      "metadata": {
        "colab": {
          "base_uri": "https://localhost:8080/",
          "height": 204
        },
        "id": "QxdatJ5OPdcc",
        "outputId": "99b589c5-79ba-4e74-8716-a79f78d9f56c"
      },
      "source": [
        "data['Summary'] = data['Summary'].apply(lambda x : 'sostoken ' + x + ' eostoken')\n",
        "\n",
        "data.head()"
      ],
      "execution_count": null,
      "outputs": [
        {
          "output_type": "execute_result",
          "data": {
            "text/html": [
              "<div>\n",
              "<style scoped>\n",
              "    .dataframe tbody tr th:only-of-type {\n",
              "        vertical-align: middle;\n",
              "    }\n",
              "\n",
              "    .dataframe tbody tr th {\n",
              "        vertical-align: top;\n",
              "    }\n",
              "\n",
              "    .dataframe thead th {\n",
              "        text-align: right;\n",
              "    }\n",
              "</style>\n",
              "<table border=\"1\" class=\"dataframe\">\n",
              "  <thead>\n",
              "    <tr style=\"text-align: right;\">\n",
              "      <th></th>\n",
              "      <th>Text</th>\n",
              "      <th>Summary</th>\n",
              "    </tr>\n",
              "  </thead>\n",
              "  <tbody>\n",
              "    <tr>\n",
              "      <th>0</th>\n",
              "      <td>bought several vitality canned dog food produc...</td>\n",
              "      <td>sostoken good quality dog food eostoken</td>\n",
              "    </tr>\n",
              "    <tr>\n",
              "      <th>1</th>\n",
              "      <td>product arrived labeled jumbo salted peanuts p...</td>\n",
              "      <td>sostoken not as advertised eostoken</td>\n",
              "    </tr>\n",
              "    <tr>\n",
              "      <th>2</th>\n",
              "      <td>confection around centuries light pillowy citr...</td>\n",
              "      <td>sostoken delight says it all eostoken</td>\n",
              "    </tr>\n",
              "    <tr>\n",
              "      <th>3</th>\n",
              "      <td>looking secret ingredient robitussin believe f...</td>\n",
              "      <td>sostoken cough medicine eostoken</td>\n",
              "    </tr>\n",
              "    <tr>\n",
              "      <th>4</th>\n",
              "      <td>great taffy great price wide assortment yummy ...</td>\n",
              "      <td>sostoken great taffy eostoken</td>\n",
              "    </tr>\n",
              "  </tbody>\n",
              "</table>\n",
              "</div>"
            ],
            "text/plain": [
              "                                                Text                                  Summary\n",
              "0  bought several vitality canned dog food produc...  sostoken good quality dog food eostoken\n",
              "1  product arrived labeled jumbo salted peanuts p...      sostoken not as advertised eostoken\n",
              "2  confection around centuries light pillowy citr...    sostoken delight says it all eostoken\n",
              "3  looking secret ingredient robitussin believe f...         sostoken cough medicine eostoken\n",
              "4  great taffy great price wide assortment yummy ...            sostoken great taffy eostoken"
            ]
          },
          "metadata": {
            "tags": []
          },
          "execution_count": 30
        }
      ]
    },
    {
      "cell_type": "markdown",
      "metadata": {
        "id": "6RTzQJegPz1j"
      },
      "source": [
        "### 9) seq2seq를 위해 디코더에 시작토큰, 종료토큰 추가"
      ]
    },
    {
      "cell_type": "code",
      "metadata": {
        "id": "GvIH5_r7PfGS"
      },
      "source": [
        "text_data = list(data['Text'])\n",
        "summary_data = list(data['Summary'])"
      ],
      "execution_count": null,
      "outputs": []
    },
    {
      "cell_type": "markdown",
      "metadata": {
        "id": "trnB3QM_P61R"
      },
      "source": [
        "### 10) "
      ]
    },
    {
      "cell_type": "code",
      "metadata": {
        "colab": {
          "base_uri": "https://localhost:8080/"
        },
        "id": "Yl6WYsgWPgv7",
        "outputId": "a66423f7-9075-41ec-ef33-2d7ee538933f"
      },
      "source": [
        "X_train, X_test, y_train, y_test = train_test_split(text_data, summary_data,\n",
        "                                                    test_size = .2,\n",
        "                                                    random_state = 2046,\n",
        "                                                    shuffle = True)\n",
        "\n",
        "len(X_train), len(y_train), len(X_test), len(y_test)"
      ],
      "execution_count": null,
      "outputs": [
        {
          "output_type": "execute_result",
          "data": {
            "text/plain": [
              "(56608, 56608, 14153, 14153)"
            ]
          },
          "metadata": {
            "tags": []
          },
          "execution_count": 32
        }
      ]
    },
    {
      "cell_type": "code",
      "metadata": {
        "id": "x_3_JuRfPh6D"
      },
      "source": [
        "src_tokenizer = Tokenizer()\n",
        "src_tokenizer.fit_on_texts(X_train)"
      ],
      "execution_count": null,
      "outputs": []
    },
    {
      "cell_type": "code",
      "metadata": {
        "colab": {
          "base_uri": "https://localhost:8080/"
        },
        "id": "U8hB7kuZPjTS",
        "outputId": "5788cfc5-6c9d-4af1-a42f-5e5851771b76"
      },
      "source": [
        "threshold = 7\n",
        "total_cnt = len(src_tokenizer.word_index) # 단어의 수\n",
        "rare_cnt = 0    # 등장 빈도수가 threshold보다 작은 단어의 개수를 카운트\n",
        "total_freq = 0  # 훈련 데이터의 전체 단어 빈도수 총 합\n",
        "rare_freq = 0   # 등장 빈도수가 threshold보다 작은 단어의 등장 빈도수의 총 합\n",
        "\n",
        "# 단어와 빈도수의 쌍(pair)을 key와 value로 받는다.\n",
        "for key, value in src_tokenizer.word_counts.items():\n",
        "    total_freq = total_freq + value\n",
        "\n",
        "    # 단어의 등장 빈도수가 threshold보다 작으면\n",
        "    if(value < threshold):\n",
        "        rare_cnt += 1\n",
        "        rare_freq = rare_freq + value\n",
        "\n",
        "print('단어 집합(vocabulary)의 크기 :',total_cnt)\n",
        "print('등장 빈도가 %s번 이하인 희귀 단어의 수: %s'%(threshold, rare_cnt))\n",
        "print('단어 집합에서 희귀 단어를 제외시킬 경우의 단어 집합의 크기 %s'%(total_cnt - rare_cnt))\n",
        "print(\"단어 집합에서 희귀 단어의 비율:\", (rare_cnt / total_cnt)*100)\n",
        "print(\"전체 등장 빈도에서 희귀 단어 등장 빈도 비율:\", (rare_freq / total_freq)*100)"
      ],
      "execution_count": null,
      "outputs": [
        {
          "output_type": "stream",
          "text": [
            "단어 집합(vocabulary)의 크기 : 34925\n",
            "등장 빈도가 7번 이하인 희귀 단어의 수: 25866\n",
            "단어 집합에서 희귀 단어를 제외시킬 경우의 단어 집합의 크기 9059\n",
            "단어 집합에서 희귀 단어의 비율: 74.06156048675734\n",
            "전체 등장 빈도에서 희귀 단어 등장 빈도 비율: 3.1506456395233626\n"
          ],
          "name": "stdout"
        }
      ]
    },
    {
      "cell_type": "code",
      "metadata": {
        "id": "gaEIXyvYPlhn"
      },
      "source": [
        "src_vocab = 9000\n",
        "\n",
        "src_tokenizer = Tokenizer(num_words = src_vocab)\n",
        "src_tokenizer.fit_on_texts(X_train)\n",
        "\n",
        "# 텍스트 시퀀스를 정수 시퀀스로 변환\n",
        "X_train = src_tokenizer.texts_to_sequences(X_train)\n",
        "X_test = src_tokenizer.texts_to_sequences(X_test)"
      ],
      "execution_count": null,
      "outputs": []
    },
    {
      "cell_type": "code",
      "metadata": {
        "id": "ihttTnKLPnIo"
      },
      "source": [
        "tar_tokenizer = Tokenizer()\n",
        "tar_tokenizer.fit_on_texts(y_train)"
      ],
      "execution_count": null,
      "outputs": []
    },
    {
      "cell_type": "code",
      "metadata": {
        "colab": {
          "base_uri": "https://localhost:8080/"
        },
        "id": "FdvyFFXDPofK",
        "outputId": "6037d2cb-df5e-4a70-9ed6-11b34431b9ed"
      },
      "source": [
        "threshold = 5\n",
        "total_cnt = len(tar_tokenizer.word_index) # 단어의 수\n",
        "rare_cnt = 0    # 등장 빈도수가 threshold보다 작은 단어의 개수를 카운트\n",
        "total_freq = 0  # 훈련 데이터의 전체 단어 빈도수 총 합\n",
        "rare_freq = 0   # 등장 빈도수가 threshold보다 작은 단어의 등장 빈도수의 총 합\n",
        "\n",
        "# 단어와 빈도수의 쌍(pair)을 key와 value로 받는다.\n",
        "for key, value in tar_tokenizer.word_counts.items():\n",
        "    total_freq = total_freq + value\n",
        "\n",
        "    # 단어의 등장 빈도수가 threshold보다 작으면\n",
        "    if(value < threshold):\n",
        "        rare_cnt = rare_cnt + 1\n",
        "        rare_freq = rare_freq + value\n",
        "\n",
        "print('단어 집합(vocabulary)의 크기 :',total_cnt)\n",
        "print('등장 빈도가 %s번 이하인 희귀 단어의 수: %s'%(threshold, rare_cnt))\n",
        "print('단어 집합에서 희귀 단어를 제외시킬 경우의 단어 집합의 크기 %s'%(total_cnt - rare_cnt))\n",
        "print(\"단어 집합에서 희귀 단어의 비율:\", (rare_cnt / total_cnt)*100)\n",
        "print(\"전체 등장 빈도에서 희귀 단어 등장 빈도 비율:\", (rare_freq / total_freq)*100)"
      ],
      "execution_count": null,
      "outputs": [
        {
          "output_type": "stream",
          "text": [
            "단어 집합(vocabulary)의 크기 : 11047\n",
            "등장 빈도가 5번 이하인 희귀 단어의 수: 8159\n",
            "단어 집합에서 희귀 단어를 제외시킬 경우의 단어 집합의 크기 2888\n",
            "단어 집합에서 희귀 단어의 비율: 73.85715578890196\n",
            "전체 등장 빈도에서 희귀 단어 등장 빈도 비율: 4.057406610752256\n"
          ],
          "name": "stdout"
        }
      ]
    },
    {
      "cell_type": "code",
      "metadata": {
        "id": "xgtY8Wf2PqAp"
      },
      "source": [
        "tar_vocab = 2500\n",
        "\n",
        "tar_tokenizer = Tokenizer(num_words = tar_vocab)\n",
        "tar_tokenizer.fit_on_texts(y_train)\n",
        "\n",
        "# 텍스트 시퀀스를 정수 시퀀스로 변환\n",
        "y_train = tar_tokenizer.texts_to_sequences(y_train) \n",
        "y_test = tar_tokenizer.texts_to_sequences(y_test)"
      ],
      "execution_count": null,
      "outputs": []
    },
    {
      "cell_type": "code",
      "metadata": {
        "id": "MlZZOaaMPrbI"
      },
      "source": [
        "drop_train = [index for index, sentence in enumerate(y_train) if len(sentence) == 2]\n",
        "drop_test = [index for index, sentence in enumerate(y_test) if len(sentence) == 2]"
      ],
      "execution_count": null,
      "outputs": []
    },
    {
      "cell_type": "code",
      "metadata": {
        "colab": {
          "base_uri": "https://localhost:8080/"
        },
        "id": "cN3TrQOoPs1w",
        "outputId": "05c3ee3e-f7dd-410e-9627-2b5eea4e8282"
      },
      "source": [
        "print('훈련 데이터의 개수 :', len(X_train))\n",
        "print('훈련 레이블의 개수 :',len(y_train))\n",
        "print('테스트 데이터의 개수 :',len(X_test))\n",
        "print('테스트 레이블의 개수 :',len(y_test))"
      ],
      "execution_count": null,
      "outputs": [
        {
          "output_type": "stream",
          "text": [
            "훈련 데이터의 개수 : 56608\n",
            "훈련 레이블의 개수 : 56608\n",
            "테스트 데이터의 개수 : 14153\n",
            "테스트 레이블의 개수 : 14153\n"
          ],
          "name": "stdout"
        }
      ]
    },
    {
      "cell_type": "code",
      "metadata": {
        "colab": {
          "base_uri": "https://localhost:8080/"
        },
        "id": "bt-12ZipPuRN",
        "outputId": "958e09d3-61ba-414f-a050-eaaa94ab6385"
      },
      "source": [
        "# 삭제 후 개수\n",
        "\n",
        "X_train = np.delete(X_train, drop_train, axis=0)\n",
        "y_train = np.delete(y_train, drop_train, axis=0)\n",
        "X_test = np.delete(X_test, drop_test, axis=0)\n",
        "y_test = np.delete(y_test, drop_test, axis=0)"
      ],
      "execution_count": null,
      "outputs": [
        {
          "output_type": "stream",
          "text": [
            "/usr/local/lib/python3.7/dist-packages/numpy/core/_asarray.py:83: VisibleDeprecationWarning: Creating an ndarray from ragged nested sequences (which is a list-or-tuple of lists-or-tuples-or ndarrays with different lengths or shapes) is deprecated. If you meant to do this, you must specify 'dtype=object' when creating the ndarray\n",
            "  return array(a, dtype, copy=False, order=order)\n"
          ],
          "name": "stderr"
        }
      ]
    },
    {
      "cell_type": "code",
      "metadata": {
        "colab": {
          "base_uri": "https://localhost:8080/"
        },
        "id": "m8qhCOPyPwIu",
        "outputId": "a071d293-e2ef-4fbb-b0e8-83a820392416"
      },
      "source": [
        "print('훈련 데이터의 개수 :', len(X_train))\n",
        "print('훈련 레이블의 개수 :',len(y_train))\n",
        "print('테스트 데이터의 개수 :',len(X_test))\n",
        "print('테스트 레이블의 개수 :',len(y_test))"
      ],
      "execution_count": null,
      "outputs": [
        {
          "output_type": "stream",
          "text": [
            "훈련 데이터의 개수 : 55466\n",
            "훈련 레이블의 개수 : 55466\n",
            "테스트 데이터의 개수 : 13846\n",
            "테스트 레이블의 개수 : 13846\n"
          ],
          "name": "stdout"
        }
      ]
    },
    {
      "cell_type": "code",
      "metadata": {
        "id": "mTwn8N3zPxY1"
      },
      "source": [
        "X_train = pad_sequences(X_train, maxlen = text_max_len, padding='post')\n",
        "X_test = pad_sequences(X_test, maxlen = text_max_len, padding='post')\n",
        "y_train = pad_sequences(y_train, maxlen = summary_max_len, padding='post')\n",
        "y_test = pad_sequences(y_test, maxlen = summary_max_len, padding='post')"
      ],
      "execution_count": null,
      "outputs": []
    },
    {
      "cell_type": "code",
      "metadata": {
        "id": "FzUuPTmQPzFd"
      },
      "source": [
        "embedding_dim = 128\n",
        "hidden_size = 256\n",
        "\n",
        "# 인코더\n",
        "encoder_inputs = Input(shape = (text_max_len, ))\n",
        "\n",
        "# 인코더의 임베딩 층\n",
        "encoder_emb = Embedding(src_vocab, embedding_dim)(encoder_inputs)\n",
        "\n",
        "# 인코더의 LSTM1\n",
        "encoder_lstm1 = LSTM(hidden_size,\n",
        "                    return_sequences = True,\n",
        "                    return_state = True,\n",
        "                    dropout = 0.5,\n",
        "                    recurrent_dropout = 0.4)\n",
        "encoder_output1, state_h1, state_c1 = encoder_lstm1(encoder_emb)\n",
        "\n",
        "# 인코더의 LSTM2\n",
        "encoder_lstm2 = LSTM(hidden_size,\n",
        "                    return_sequences = True,\n",
        "                    return_state = True,\n",
        "                    dropout = 0.5,\n",
        "                    recurrent_dropout = 0.4)\n",
        "encoder_output2, state_h2, state_c2 = encoder_lstm2(encoder_output1)\n",
        "\n",
        "# 인코더의 LSTM3\n",
        "encoder_lstm3 = LSTM(hidden_size,\n",
        "                    return_state = True,\n",
        "                    return_sequences = True,\n",
        "                    dropout = 0.5,\n",
        "                    recurrent_dropout = 0.4)\n",
        "encoder_outputs, state_h, state_c = encoder_lstm3(encoder_output2)\n",
        "\n",
        "# 디코더\n",
        "decoder_inputs = Input(shape = (None, ))\n",
        "\n",
        "# 디코더의 임베딩 층\n",
        "decoder_emb_layer = Embedding(tar_vocab, embedding_dim)\n",
        "decoder_emb = decoder_emb_layer(decoder_inputs)\n",
        "\n",
        "# 디코더의 LSTM\n",
        "decoder_lstm = LSTM(hidden_size,\n",
        "                    return_sequences = True,\n",
        "                    return_state = True,\n",
        "                    dropout = 0.5,\n",
        "                    recurrent_dropout = 0.2)\n",
        "decoder_outputs, _, _ = decoder_lstm(decoder_emb,\n",
        "                                    initial_state = [state_h, state_c])  \n",
        "\n",
        "# 어텐션 출력층\n",
        "attn_layer = AttentionLayer(name = 'attention_layer')\n",
        "attn_out, attn_states = attn_layer([encoder_outputs,\n",
        "                                    decoder_outputs])\n",
        "\n",
        "# 어텐션의 결과와 디코더의 hidden state들을 연결\n",
        "decoder_concat_input = Concatenate(axis = -1,\n",
        "                                  name = 'concat_layer')([decoder_outputs,\n",
        "                                                          attn_out])\n",
        "                                  \n",
        "# 디코더의 출력층\n",
        "decoder_softmax_layer = Dense(tar_vocab, activation = 'softmax')\n",
        "decoder_softmax_outputs = decoder_softmax_layer(decoder_concat_input)\n",
        "\n",
        "model = Model([encoder_inputs, decoder_inputs],\n",
        "              decoder_softmax_outputs)  "
      ],
      "execution_count": null,
      "outputs": []
    },
    {
      "cell_type": "code",
      "metadata": {
        "id": "aoQNyA8UP1EZ"
      },
      "source": [
        "model.compile(loss = 'sparse_categorical_crossentropy',\n",
        "              optimizer = 'rmsprop')"
      ],
      "execution_count": null,
      "outputs": []
    },
    {
      "cell_type": "code",
      "metadata": {
        "id": "1XU2i9bfP3vf"
      },
      "source": [
        "es = EarlyStopping(monitor = 'val_loss' ,\n",
        "                   mode = 'min' ,\n",
        "                   verbose = 1,\n",
        "                   patience = 15)"
      ],
      "execution_count": null,
      "outputs": []
    },
    {
      "cell_type": "code",
      "metadata": {
        "colab": {
          "base_uri": "https://localhost:8080/"
        },
        "id": "3BwHweRBP6w2",
        "outputId": "8fe09c68-0195-4259-83b0-397620f428d3"
      },
      "source": [
        "%%time\n",
        "\n",
        "history = model.fit([X_train, y_train[:,:-1]],\n",
        "                    y_train.reshape(y_train.shape[0], y_train.shape[1], 1)[:, 1:],\n",
        "                    epochs = 100,\n",
        "                    callbacks = [es],\n",
        "                    batch_size = 256,\n",
        "                    validation_data = ([X_test, y_test[:, :-1]],\n",
        "                                       y_test.reshape(y_test.shape[0],\n",
        "                                                      y_test.shape[1], 1)[:, 1:]))"
      ],
      "execution_count": null,
      "outputs": [
        {
          "output_type": "stream",
          "text": [
            "Epoch 1/100\n",
            "217/217 [==============================] - 176s 760ms/step - loss: 3.5940 - val_loss: 2.7956\n",
            "Epoch 2/100\n",
            "217/217 [==============================] - 165s 758ms/step - loss: 2.8038 - val_loss: 2.6466\n",
            "Epoch 3/100\n",
            "217/217 [==============================] - 164s 756ms/step - loss: 2.6448 - val_loss: 2.5180\n",
            "Epoch 4/100\n",
            "217/217 [==============================] - 164s 758ms/step - loss: 2.5123 - val_loss: 2.4292\n",
            "Epoch 5/100\n",
            "217/217 [==============================] - 164s 756ms/step - loss: 2.4107 - val_loss: 2.3546\n",
            "Epoch 6/100\n",
            "217/217 [==============================] - 165s 758ms/step - loss: 2.3230 - val_loss: 2.3050\n",
            "Epoch 7/100\n",
            "217/217 [==============================] - 164s 757ms/step - loss: 2.2555 - val_loss: 2.2701\n",
            "Epoch 8/100\n",
            "217/217 [==============================] - 164s 757ms/step - loss: 2.1968 - val_loss: 2.2298\n",
            "Epoch 9/100\n",
            "217/217 [==============================] - 164s 755ms/step - loss: 2.1498 - val_loss: 2.2089\n",
            "Epoch 10/100\n",
            "217/217 [==============================] - 165s 760ms/step - loss: 2.1072 - val_loss: 2.1959\n",
            "Epoch 11/100\n",
            "217/217 [==============================] - 164s 757ms/step - loss: 2.0751 - val_loss: 2.1823\n",
            "Epoch 12/100\n",
            "217/217 [==============================] - 165s 758ms/step - loss: 2.0329 - val_loss: 2.1700\n",
            "Epoch 13/100\n",
            "217/217 [==============================] - 164s 757ms/step - loss: 2.0069 - val_loss: 2.1576\n",
            "Epoch 14/100\n",
            "217/217 [==============================] - 165s 758ms/step - loss: 1.9670 - val_loss: 2.1577\n",
            "Epoch 15/100\n",
            "217/217 [==============================] - 165s 759ms/step - loss: 1.9416 - val_loss: 2.1465\n",
            "Epoch 16/100\n",
            "217/217 [==============================] - 165s 758ms/step - loss: 1.9109 - val_loss: 2.1529\n",
            "Epoch 17/100\n",
            "217/217 [==============================] - 165s 758ms/step - loss: 1.8865 - val_loss: 2.1481\n",
            "Epoch 18/100\n",
            "217/217 [==============================] - 165s 759ms/step - loss: 1.8637 - val_loss: 2.1438\n",
            "Epoch 19/100\n",
            "217/217 [==============================] - 165s 761ms/step - loss: 1.8338 - val_loss: 2.1441\n",
            "Epoch 20/100\n",
            "217/217 [==============================] - 165s 758ms/step - loss: 1.8111 - val_loss: 2.1464\n",
            "Epoch 21/100\n",
            "217/217 [==============================] - 165s 760ms/step - loss: 1.7907 - val_loss: 2.1494\n",
            "Epoch 22/100\n",
            "217/217 [==============================] - 166s 767ms/step - loss: 1.7758 - val_loss: 2.1476\n",
            "Epoch 23/100\n",
            "217/217 [==============================] - 165s 759ms/step - loss: 1.7468 - val_loss: 2.1499\n",
            "Epoch 24/100\n",
            "217/217 [==============================] - 164s 757ms/step - loss: 1.7338 - val_loss: 2.1521\n",
            "Epoch 25/100\n",
            "217/217 [==============================] - 165s 759ms/step - loss: 1.7135 - val_loss: 2.1549\n",
            "Epoch 26/100\n",
            "217/217 [==============================] - 165s 759ms/step - loss: 1.7040 - val_loss: 2.1597\n",
            "Epoch 27/100\n",
            "217/217 [==============================] - 165s 759ms/step - loss: 1.6770 - val_loss: 2.1616\n",
            "Epoch 28/100\n",
            "217/217 [==============================] - 165s 759ms/step - loss: 1.6651 - val_loss: 2.1685\n",
            "Epoch 29/100\n",
            "217/217 [==============================] - 165s 759ms/step - loss: 1.6525 - val_loss: 2.1716\n",
            "Epoch 30/100\n",
            "217/217 [==============================] - 165s 760ms/step - loss: 1.6373 - val_loss: 2.1783\n",
            "Epoch 31/100\n",
            "217/217 [==============================] - 165s 761ms/step - loss: 1.6249 - val_loss: 2.1771\n",
            "Epoch 32/100\n",
            "217/217 [==============================] - 165s 761ms/step - loss: 1.6157 - val_loss: 2.1858\n",
            "Epoch 33/100\n",
            "217/217 [==============================] - 165s 761ms/step - loss: 1.5920 - val_loss: 2.1948\n",
            "Epoch 00033: early stopping\n",
            "CPU times: user 1min 35s, sys: 13.6 s, total: 1min 48s\n",
            "Wall time: 1h 30min 46s\n"
          ],
          "name": "stdout"
        }
      ]
    },
    {
      "cell_type": "code",
      "metadata": {
        "colab": {
          "base_uri": "https://localhost:8080/",
          "height": 267
        },
        "id": "mzztBwyaRvQA",
        "outputId": "7f9ffcc5-7fdd-41cb-d85d-6375516a73dd"
      },
      "source": [
        "plt.plot(history.history['loss'], label='train')\n",
        "plt.plot(history.history['val_loss'], label='test')\n",
        "plt.legend()\n",
        "plt.show()"
      ],
      "execution_count": null,
      "outputs": [
        {
          "output_type": "display_data",
          "data": {
            "image/png": "[encoded data removed]",
            "text/plain": [
              "<Figure size 432x288 with 1 Axes>"
            ]
          },
          "metadata": {
            "tags": [],
            "needs_background": "light"
          }
        }
      ]
    },
    {
      "cell_type": "code",
      "metadata": {
        "id": "PFadoma9P8u-"
      },
      "source": [
        "src_index_to_word = src_tokenizer.index_word  # 원문 단어집합에서 정수 -> 단어 얻음\n",
        "tar_word_to_index = tar_tokenizer.word_index  # 요약 단어집학합에서 단어 -> 정수 얻음\n",
        "tar_index_to_word = tar_tokenizer.index_word  # 요약 단어집합에서 정수 -> 단어 얻음"
      ],
      "execution_count": null,
      "outputs": []
    },
    {
      "cell_type": "code",
      "metadata": {
        "id": "LtwMavqhR52w"
      },
      "source": [
        "# 인코더 설계\n",
        "encoder_model = Model(inputs=encoder_inputs,\n",
        "                      outputs=[encoder_outputs, state_h, state_c])"
      ],
      "execution_count": null,
      "outputs": []
    },
    {
      "cell_type": "code",
      "metadata": {
        "id": "LVYh-6yHR7ZT"
      },
      "source": [
        "# 이전 시점의 상태들을 저장하는 텐서\n",
        "decoder_state_input_h = Input(shape=(hidden_size,))\n",
        "decoder_state_input_c = Input(shape=(hidden_size,))\n",
        "\n",
        "decoder_emb2 = decoder_emb_layer(decoder_inputs)\n",
        "\n",
        "# 문장의 다음 단어를 예측하기 위해서 초기 상태(initial_state)를 이전 시점의 상태로 사용\n",
        "# 이는 뒤의 함수 decode_sequence()에 구현\n",
        "# 훈련 과정에서와 달리 LSTM의 리턴하는 은닉 상태와 셀 상태인 state_h와 state_c를 버리지 않음\n",
        "\n",
        "decoder_outputs2, state_h2, state_c2 = decoder_lstm(\n",
        "    decoder_emb2, initial_state=[decoder_state_input_h, decoder_state_input_c])"
      ],
      "execution_count": null,
      "outputs": []
    },
    {
      "cell_type": "code",
      "metadata": {
        "id": "m7ywz9QRR8s-"
      },
      "source": [
        "# 어텐션 함수\n",
        "decoder_hidden_state_input = Input(shape=(text_max_len, hidden_size))\n",
        "attn_out_inf, attn_states_inf = attn_layer([decoder_hidden_state_input,\n",
        "                                            decoder_outputs2])\n",
        "decoder_inf_concat = Concatenate(axis=-1, name='concat')([decoder_outputs2,\n",
        "                                                          attn_out_inf])\n",
        "\n",
        "# 디코더의 출력층\n",
        "decoder_outputs2 = decoder_softmax_layer(decoder_inf_concat) \n",
        "\n",
        "# 최종 디코더 모델\n",
        "decoder_model = Model(\n",
        "    [decoder_inputs] + [decoder_hidden_state_input,decoder_state_input_h, decoder_state_input_c],\n",
        "    [decoder_outputs2] + [state_h2, state_c2])"
      ],
      "execution_count": null,
      "outputs": []
    },
    {
      "cell_type": "code",
      "metadata": {
        "id": "4ZcxIhbNR-Lp"
      },
      "source": [
        "def decode_sequence(input_seq) :\n",
        "  # 입력으로부터 인코더의 상태를 얻음\n",
        "  e_out, e_h, e_c = encoder_model.predict(input_seq)\n",
        "\n",
        "  # <sos>에 해당하는 토큰 생성\n",
        "  target_seq = np.zeros((1, 1))\n",
        "  target_seq[0, 0] = tar_word_to_index['sostoken']\n",
        "\n",
        "  stop_condition = False\n",
        "  decoded_sentence = ''\n",
        "\n",
        "  while not stop_condition :\n",
        "    output_tokens, h, c = decoder_model.predict([target_seq] + [e_out, e_h, e_c])\n",
        "    sampled_token_index = np.argmax(output_tokens[0, -1, :])\n",
        "    sampled_token = tar_index_to_word[sampled_token_index]\n",
        "\n",
        "    if (sampled_token != 'eostoken') :\n",
        "      decoded_sentence += ' ' + sampled_token\n",
        "\n",
        "    # <eos>에 도달하거나 최대 길이를 넘으면 중단\n",
        "    if (sampled_token == 'eostoken' or\n",
        "        len(decoded_sentence.split()) >= (summary_max_len -1 )) :\n",
        "\n",
        "        stop_condition = True\n",
        "    \n",
        "    # 길이가 1인 타겟 시퀀스를 업데이트\n",
        "    target_seq = np.zeros((1, 1))\n",
        "    target_seq[0, 0] = sampled_token_index\n",
        "\n",
        "    # 상태 업데이트\n",
        "    e_h , e_c = h, c\n",
        "\n",
        "  return decoded_sentence"
      ],
      "execution_count": null,
      "outputs": []
    },
    {
      "cell_type": "code",
      "metadata": {
        "id": "_lK3hExDSAOW"
      },
      "source": [
        "# 원문의 정수 시퀀스를 텍스트 시퀀스로 변환\n",
        "def seq2text(input_seq) :\n",
        "  temp = ''\n",
        "  for i in input_seq:\n",
        "    if (i != 0):\n",
        "      temp = temp + src_index_to_word[i] + ' '\n",
        "  return temp\n",
        "\n",
        "# 요약문의 정수 시퀀스를 텍스트 시퀀스로 변환\n",
        "def seq2summary(input_seq) :\n",
        "  temp = ''\n",
        "  for i in input_seq:\n",
        "    if ((i != 0 and i != tar_word_to_index['sostoken'])\n",
        "    and i != tar_word_to_index['eostoken']) :\n",
        "      temp = temp + tar_index_to_word[i] + ' '\n",
        "\n",
        "  return temp"
      ],
      "execution_count": null,
      "outputs": []
    },
    {
      "cell_type": "code",
      "metadata": {
        "colab": {
          "base_uri": "https://localhost:8080/"
        },
        "id": "XEgH-TFYSCEX",
        "outputId": "c7ad2865-1773-45bc-e3b5-3374b26ad7ac"
      },
      "source": [
        "for i in range(100) :\n",
        "  print(\"원문: \" , seq2text(X_test[i]))\n",
        "  print(\"실제 요약문: \" , seq2summary(y_test[i]))\n",
        "  print(\"예측 요약문: \" , decode_sequence(X_test[i].reshape(1, text_max_len)))\n",
        "  print(\"\\n\")"
      ],
      "execution_count": null,
      "outputs": [
        {
          "output_type": "stream",
          "text": [
            "원문:  great addition diet filling opinion better wider miracle noodles \n",
            "실제 요약문:  excellent \n",
            "예측 요약문:   my favorite\n",
            "\n",
            "\n",
            "원문:  shipped fast great product dog teeth giving poodle greenies years vet said teeth white healthy year old dogs years old \n",
            "실제 요약문:  greenies \n",
            "예측 요약문:   great product\n",
            "\n",
            "\n",
            "원문:  little candies really exactly say good way wake prefer mocha mint flavor though others good well leave sour taste stomach like coffee keep anywhere desk car pocket purse would without \n",
            "실제 요약문:  great product \n",
            "예측 요약문:   nice flavor\n",
            "\n",
            "\n",
            "원문:  eat homemade cooked food saw could feed raw grain free diet easily really thought good true true love smells wonderful costs less half spending making food thanks customers life \n",
            "실제 요약문:  my dogs loved it \n",
            "예측 요약문:   great product\n",
            "\n",
            "\n",
            "원문:  love hot spicy taste wasabi peas decided try luck ordering amazon well disappointed peas hot crunchy want snack shipping fast paying oz pack little things target decided better price somewhere well found looking soon finish lb bag back ordering \n",
            "실제 요약문:  excellent buy \n",
            "예측 요약문:   great product\n",
            "\n",
            "\n",
            "원문:  giving senior dog pill pockets two years recently great however seem changed formula hates throat often get bit process give many pills day buy bulk closet full every flavor disappointing \n",
            "실제 요약문:  my dog hates these \n",
            "예측 요약문:   great for\n",
            "\n",
            "\n",
            "원문:  great value grown love snack delicious healthy well difficult find local stores glad go amazon \n",
            "실제 요약문:  the best snack ever \n",
            "예측 요약문:   great snack\n",
            "\n",
            "\n",
            "원문:  previously using timothy extra bold midnight magic good flavored coffee along came coffee introduced friend immediately liked bold dark roast flavor alternate two brews strongly recommend try green mountain coffee like strong dark extra bold roast \n",
            "실제 요약문:  extra bold strong and excellent taste \n",
            "예측 요약문:   bold and delicious\n",
            "\n",
            "\n",
            "원문:  granola wonderful price good value love crunchy full good things hard believe good \n",
            "실제 요약문:  we love \n",
            "예측 요약문:   great granola\n",
            "\n",
            "\n",
            "원문:  like taste texture steal cut oats instant oatmeal patience time cook real stuff give try texture much closer steel cut oats prep super easy bought single pack instant oatmeal since discovered coach oats recommend everyone \n",
            "실제 요약문:  favorite oatmeal \n",
            "예측 요약문:   pretty good\n",
            "\n",
            "\n",
            "원문:  dissapointed called sour cherry gummies avid haribo gummy fan expecting least type sour taste instead overly sweet sugar coated even much cherry flavor sweet overwhelming sugar flavor want gummies sour tangy try fizzy cola bottles still sugar coating good sweet tangy tart flavor enjoy \n",
            "실제 요약문:  much sugar no sour at all \n",
            "예측 요약문:   sour and sour\n",
            "\n",
            "\n",
            "원문:  coffee great cheaper bed bath beyond coupon added \n",
            "실제 요약문:  cheaper at with \n",
            "예측 요약문:   great coffee\n",
            "\n",
            "\n",
            "원문:  enjoying product time buy grocery store believe cost box like black licorice love product \n",
            "실제 요약문:  my favorite natural licorice \n",
            "예측 요약문:   great\n",
            "\n",
            "\n",
            "원문:  seemed like great toy dogs seconds end treats come rubber parts opposite end little holes makes smell treats much stronger wrong end toy dogs scratching licking end could actually smell treats actually backed away strong smell rubber treat dispensing toys easy dogs one seem made animal heavily sense smell \n",
            "실제 요약문:  treat smell is stronger at wrong end \n",
            "예측 요약문:   my dogs loved it\n",
            "\n",
            "\n",
            "원문:  eating stuff ages recently local store stopped carrying idea really option mail order bulk price last thing need chocolate bars sitting around kitchen fat enough anyway bars taste exactly milk chocolate without animal cruelty creamy smooth wish company would make different flavors like peanut bars puffed rice bits chunky bars cranberries pecans \n",
            "실제 요약문:  rare treat \n",
            "예측 요약문:   best bars\n",
            "\n",
            "\n",
            "원문:  normally love product stars shipment bars hard like rock wonder stored prior shipment still tasted great soft like kind bars buy store \n",
            "실제 요약문:  hard \n",
            "예측 요약문:   great product\n",
            "\n",
            "\n",
            "원문:  great coffee great price great love new single cup coffee maker enjoy variety cup flavors including one \n",
            "실제 요약문:  cups \n",
            "예측 요약문:   great coffee\n",
            "\n",
            "\n",
            "원문:  got refund saying company carry item longer disappointment take listing \n",
            "실제 요약문:  ordered this and and \n",
            "예측 요약문:   not as advertised\n",
            "\n",
            "\n",
            "원문:  various mothers laws etc buy mother day decided order flowers amazon ease convenient way send flowers multiple recipients hoped flowers would look okay fact thrilled everyone received raved recipients stated flowers packed fresh beautiful lasted long time use pro flowers future flower purchases \n",
            "실제 요약문:  expectations \n",
            "예측 요약문:   great service\n",
            "\n",
            "\n",
            "원문:  mexico border state found like mexican food know fix used lawry mixes saw enchilada mix shopping tried family amazed could cook prepare good enchiladas secret lawry enchilada mix work wonders \n",
            "실제 요약문:  best enchilada \n",
            "예측 요약문:   great for the\n",
            "\n",
            "\n",
            "원문:  dogs love treats small perfect training want treats fill unlike reviewers said salmon flavor peanut butter seem strong odor keep bag sealed difficulty treats drying cannot go wrong ordering case stop making \n",
            "실제 요약문:  my dogs love these treats \n",
            "예측 요약문:   great treats\n",
            "\n",
            "\n",
            "원문:  first ordered line thought unusual buy coffee pods internet order third time expensive purchase store boxes small love able get larger quantity cannot beat price fast delivery free shipping great \n",
            "실제 요약문:  price fast delivery am now repeat customer \n",
            "예측 요약문:   great coffee\n",
            "\n",
            "\n",
            "원문:  normally make meals pinch dinner couple favorite flavors hamburger helper years must say found boxed dinner quite good simply takes one pound ground beef cups water minutes dinner liquid cheese sauce normally boxed dinners rich creamy really liked reheated well cheesy skillets would great item pantry need make dinner fast simple tasty boot \n",
            "실제 요약문:  it is cheesy \n",
            "예측 요약문:   tasty and easy\n",
            "\n",
            "\n",
            "원문:  stuff yummy afraid try since love regular butter much read health benefits ghee ordering hooked delicious use butter popcorn saute veggies toast etc best part grass fed one grass fed find grass fed much better grain fed continue buy hoping start selling larger jar keep ordering twice month lol \n",
            "실제 요약문:  awesome \n",
            "예측 요약문:   amazing\n",
            "\n",
            "\n",
            "원문:  mini marshmallows needed get us tough cold winter never enough marshmallows store bought hot cocoa mix perfect economical way fix issue pleased quality definitely buying seller near future highly recommended treasure cute tiny marshmallows hot cocoa \n",
            "실제 요약문:  great deal \n",
            "예측 요약문:   great for hot chocolate\n",
            "\n",
            "\n",
            "원문:  makes great centerpiece dining room coffee table well great conversation piece convince friends real live bonsai tree see expected considering real tree preserved tree look picture branches much wild still looks fantastic could always trim wanted make like moss nice touch pebbles look great fall overall pleased purchase \n",
            "실제 요약문:  beautiful tree \n",
            "예측 요약문:   great gift\n",
            "\n",
            "\n",
            "원문:  ordered alternative canned pears taste taste exactly like canned pears like canned found like even better light syrup gives nice flavor like texture fruit retains lot crunchiness fresh pear canned pears soft throughout product something like hybrid fresh pears canned pears overall pleased purchase order stars relatively expensive price otherwise star product \n",
            "실제 요약문:  delicious sweet and like fresh pear \n",
            "예측 요약문:   it is ok but\n",
            "\n",
            "\n",
            "원문:  product good addition fruit smoothies thins adding good taste electrolytes good hot weather \n",
            "실제 요약문:  good for use in smoothies \n",
            "예측 요약문:   it is good\n",
            "\n",
            "\n",
            "원문:  cups came perfect condition taste great great price would recommend product \n",
            "실제 요약문:  lot cheaper than stores \n",
            "예측 요약문:   great coffee\n",
            "\n",
            "\n",
            "원문:  working wonders pump three times day built frozen refrigerated storage breast milk cannot imagine life without definitely must buy supply low \n",
            "실제 요약문:  love this product \n",
            "예측 요약문:   great product\n",
            "\n",
            "\n",
            "원문:  month old son picky eater first refused one flavor baby foods introduced months refused swallow rice lentil flavor variety pack actually spit back blew raspberries tried several times weeks got response time ordering pack even though loved meals \n",
            "실제 요약문:  variety but may not be for everyone \n",
            "예측 요약문:   my baby loves these\n",
            "\n",
            "\n",
            "원문:  usual biscuits good normally get couple biscuits totally crumble get time whole packet totally worthless expect get similar \n",
            "실제 요약문:  expect not to have crumbs \n",
            "예측 요약문:   great but beware\n",
            "\n",
            "\n",
            "원문:  would trying find onion soup mix lot chemicals preservatives bought try please would buy \n",
            "실제 요약문:  very good \n",
            "예측 요약문:   good\n",
            "\n",
            "\n",
            "원문:  fell love first trip belgium since wait trip family members could send us sugar enough make favorite home often since rich often enough craving \n",
            "실제 요약문:  belgian sugar \n",
            "예측 요약문:   the best\n",
            "\n",
            "\n",
            "원문:  ordered sugar added version usually like sugar added low sugar products ice cream yogurt hot chocolate etc one terrible like reviewer tasted like ovaltine use like spoons powder get taste know cans probably donate \n",
            "실제 요약문:  horrible \n",
            "예측 요약문:   disgusting\n",
            "\n",
            "\n",
            "원문:  bar pretty good really taste homemade liked nuts top added little texture bite heated bad microwave seconds recommended tasted great good alternative dont like muffins little dry bar nice dont like sweets morning id steer clear \n",
            "실제 요약문:  pretty good \n",
            "예측 요약문:   tasty and filling\n",
            "\n",
            "\n",
            "원문:  difficult describe herbal type pills quick results takes blind faith really ok got ordered quickly \n",
            "실제 요약문:  quick delivery \n",
            "예측 요약문:   not what expected\n",
            "\n",
            "\n",
            "원문:  chips great crispy crunchy lots flavor many times gluten free taste free time served guests one night several wanted know brand etc disappointed came well packed nothing crushed broken \n",
            "실제 요약문:  tasty tasty \n",
            "예측 요약문:   great chips\n",
            "\n",
            "\n",
            "원문:  make pancakes waffles every saturday morning kids simply comparison product baking powder come across even expensive brands trader joe whole foods pale comparison batter comes light fluffy every time kids love also known eat pancake two get pack store \n",
            "실제 요약문:  simply the best \n",
            "예측 요약문:   great product\n",
            "\n",
            "\n",
            "원문:  like cross cracker tortilla chip tastes pretty good sort little cardboard like texture would work really well dip cracker snacking prefer jalape chips brand pretty tasty \n",
            "실제 요약문:  pretty good more cracker like than chip \n",
            "예측 요약문:   great tasting\n",
            "\n",
            "\n",
            "원문:  coffee lovely hint nuttiness really great got brand one mixed bag boxes coffees afraid might bitter made self tried surprised smoothness wonderfully rich taste gave husband sip well loved turned around bought two whole boxes goes nice large mug \n",
            "실제 요약문:  you are or not \n",
            "예측 요약문:   love this coffee\n",
            "\n",
            "\n",
            "원문:  got sample today excited try fail brewing smelled great came dark first quickly changed light watery colour boring taste like dark coffee daily drink timothy midnight magic extra bold wife likes timothy morning blend prefers light roast even like coffee said tastes like warm milk \n",
            "실제 요약문:  weak boring coffee \n",
            "예측 요약문:   it is okay\n",
            "\n",
            "\n",
            "원문:  ordered evo cat food recommendation cats grand old ladies one developed diabetes last months insulin day starting cats innova evo diabetic cat able stop insulin altogether nothing short amazing far concerned never feed animals anything else \n",
            "실제 요약문:  amazing cat food \n",
            "예측 요약문:   cats love it\n",
            "\n",
            "\n",
            "원문:  love bread mixes nothing like making bread admit use bread maker clever enough use hands still enjoy experience tried different hodgson mixes excellent \n",
            "실제 요약문:  excellent bread mix \n",
            "예측 요약문:   best gluten free bread\n",
            "\n",
            "\n",
            "원문:  like another reviewer fell love beverage france overjoyed months return found available expensive grocery store near unfortunately kind orangina sold us beverage available europe ingredients totally different since product page says made us assume american recipe tasty thought would give heads anyone expecting european version miss orangina \n",
            "실제 요약문:  not the same \n",
            "예측 요약문:   not the best\n",
            "\n",
            "\n",
            "원문:  really good like twenty ingredients none add anything close flavor imo buy something else also lb bag open store something else unless eat would unlikely mentioned taste \n",
            "실제 요약문:  unpleasant \n",
            "예측 요약문:   good but not great\n",
            "\n",
            "\n",
            "원문:  like pop tarts pack convenient way house \n",
            "실제 요약문:  pop tarts are awesome \n",
            "예측 요약문:   good but expensive\n",
            "\n",
            "\n",
            "원문:  yummy crackers son loves price right subscribe save always available \n",
            "실제 요약문:  yummy \n",
            "예측 요약문:   great product\n",
            "\n",
            "\n",
            "원문:  love pretzels appreciate long expiration date makes great kids snack paired nutella stars \n",
            "실제 요약문:  yummy \n",
            "예측 요약문:   yummy\n",
            "\n",
            "\n",
            "원문:  love mint tea always soothes upset tummy tastes refreshing best brand tried worth price though certainly wish lower \n",
            "실제 요약문:  my favorite brand \n",
            "예측 요약문:   love this tea\n",
            "\n",
            "\n",
            "원문:  chocolate covered pomegranates hard find stores glad find amazon friend favorite made wonderful surprise \n",
            "실제 요약문:  yummy \n",
            "예측 요약문:   great product\n",
            "\n",
            "\n",
            "원문:  trouble finding supermarket bit cheaper amazon com plus course convenient \n",
            "실제 요약문:  my wife \n",
            "예측 요약문:   great price\n",
            "\n",
            "\n",
            "원문:  flavorful satisfying crunch great gluten free casein free diet \n",
            "실제 요약문:  great for gluten free diets \n",
            "예측 요약문:   delicious\n",
            "\n",
            "\n",
            "원문:  know expect since first time getting vitamins searched high low vegan vitamins kids kids loves even autistic child loves eating hoped could make pills smaller add inside bottle instead continue get something better comes along god blessed \n",
            "실제 요약문:  vegan kids \n",
            "예측 요약문:   my kids love it\n",
            "\n",
            "\n",
            "원문:  company great product top notch customer service made mistake order found fixed satisfaction well gift great would recommend plan give chocolates gift \n",
            "실제 요약문:  top customer service \n",
            "예측 요약문:   excellent service\n",
            "\n",
            "\n",
            "원문:  tasty healthy toddler gets morning asks bar devours great knowing getting healthy start breakfast loves taste normally asks bar fruit ready thank kashi love healthy soft breakfast bars kids hoping flavor options soft cereal bars soon \n",
            "실제 요약문:  great healthy breakfast bar that tastes great \n",
            "예측 요약문:   great for training\n",
            "\n",
            "\n",
            "원문:  looking alternative pasta rice whole wheat couscous great easy make healthy unlike couscous many supermarkets grains bit larger round anyhow plastic jars keep couscous nicely \n",
            "실제 요약문:  great alternative \n",
            "예측 요약문:   great pasta\n",
            "\n",
            "\n",
            "원문:  love coffee always mixed decaf regular get caffeine buy perfect amount enjoy flavor coffee vacuum sucked packages make easy store use keeps coffee fresh use refill another container works well \n",
            "실제 요약문:  love it \n",
            "예측 요약문:   great coffee\n",
            "\n",
            "\n",
            "원문:  good cereal know else want say definately good stuff \n",
            "실제 요약문:  crunchy healthy \n",
            "예측 요약문:   great cereal\n",
            "\n",
            "\n",
            "원문:  drank could tell little difference regular strawberry kiwi flavored soda quite impressive considering drink made juice calories great alternative regular soda definitely purchasing future also tried orange tangerine carbonated juice enjoyed well \n",
            "실제 요약문:  like regular soda but made from juice \n",
            "예측 요약문:   tasty and refreshing\n",
            "\n",
            "\n",
            "원문:  non aspartame filling drink good good took diet soda addiction \n",
            "실제 요약문:  very good \n",
            "예측 요약문:   great alternative to soda\n",
            "\n",
            "\n",
            "원문:  great soup full flavor spice like spicy stuff stay away one \n",
            "실제 요약문:  good stuff \n",
            "예측 요약문:   good soup\n",
            "\n",
            "\n",
            "원문:  product fantastic anyone diet watching fat intake give try could believe delicious real peanuts mix water get creamy spreadable delicious peanut butter miss anything except calories \n",
            "실제 요약문:  the best \n",
            "예측 요약문:   delicious\n",
            "\n",
            "\n",
            "원문:  husband recently stopped smoking tea really helped clear junk chest pleasant taste aroma neither strong weak find drinking simply flavor tea great drink type chest cold good way get fluids soothe cough related illness yogi tea products best buying amazon way cheaper buying store subscribed couple flavors arrive without specifically order love feature thanks amazon \n",
            "실제 요약문:  tea the way tea should be \n",
            "예측 요약문:   the best tea\n",
            "\n",
            "\n",
            "원문:  product available cold retail even less four pack case \n",
            "실제 요약문:  are nuts \n",
            "예측 요약문:   great product\n",
            "\n",
            "\n",
            "원문:  really great tasting hot sauce cannot imagine eating certain mexican foods without definitely agree reviewers price much higher retail downside amazon prime free shipping exactly free pay three times much would elsewhere \n",
            "실제 요약문:  great stuff \n",
            "예측 요약문:   great price great taste\n",
            "\n",
            "\n",
            "원문:  love peach flavored iced tea right flavor wise case flavors example raspberry sooo sweet pretty unbearable tea good mix buying cheaper grocery price keeps going locally box pack ridiculous used able get stuff may big deal one pack drink much starts add recommend peach tea one flavors messed regards taste seems flavors one \n",
            "실제 요약문:  my favorite crystal light flavor \n",
            "예측 요약문:   great tea\n",
            "\n",
            "\n",
            "원문:  like like chocolate hazelnuts love chocolate bar ritter sport makes quality chocolate bars sweet milk chocolate bar like normal chocolate bars put together great chocolate bar highly recommended like love hazelnuts chocolate \n",
            "실제 요약문:  one great bar of \n",
            "예측 요약문:   great chocolate\n",
            "\n",
            "\n",
            "원문:  hard rock soft dip break diet pretzel great \n",
            "실제 요약문:  one word delicious \n",
            "예측 요약문:   great snack\n",
            "\n",
            "\n",
            "원문:  always looking fiber bang buck cereal wins hands light crunchy texture get soggy milk artificial sweeteners nice natural sweet flavor satisfying healthy give gas intestinal body thank eating cereal \n",
            "실제 요약문:  so tasty and so healthy \n",
            "예측 요약문:   great tasting cereal\n",
            "\n",
            "\n",
            "원문:  bought tassimo coffee machine daughter college absolutely love machine peppermint mocha disappeared quickly last winter appears flavor seasonal daughter wanted soon found available delivery quick daughter said tassimo selection even better starbucks far less expensive well worth \n",
            "실제 요약문:  delicious peppermint mocha for tassimo \n",
            "예측 요약문:   great idea\n",
            "\n",
            "\n",
            "원문:  excellent salsa nice chunky good flavor spice spice overwhelming \n",
            "실제 요약문:  yum \n",
            "예측 요약문:   great\n",
            "\n",
            "\n",
            "원문:  got gift girlfriend mother mentioned getting heart burn coffee even though loves coffee thought might make reasonable fix situation trying though seemed little less worried heart burn little concerned taste heartburn also drink much either due taste thought tasted little stale bland maybe bad batch seems process limit acid also limits flavor bad hoped going big winner \n",
            "실제 요약문:  low acid low taste \n",
            "예측 요약문:   awful\n",
            "\n",
            "\n",
            "원문:  sold lbs dollars steal couldnt leave stock less days came exactly described melted bears yummy wish came resealable bag purchased dollars next day dollars glad picked steal \n",
            "실제 요약문:  yummm \n",
            "예측 요약문:   great tasting\n",
            "\n",
            "\n",
            "원문:  product shopping amazon saves trying find stores sure whether price best service convenient \n",
            "실제 요약문:  convenient \n",
            "예측 요약문:   great product\n",
            "\n",
            "\n",
            "원문:  say getting coffee amazon bags came sealed well perfect condition beans fresh made great tasting coffee grind looking inexpensive way buying clock brand cheaper instead waiting go buy one get one free local supermarket ok guess price really cheaper expensive another option say clock makes around coffee burnt grinds really easily use french press auto drip maker turns great \n",
            "실제 요약문:  item came as described \n",
            "예측 요약문:   great coffee for great price\n",
            "\n",
            "\n",
            "원문:  enjoy syrup hate constant increases getting fed corporate country \n",
            "실제 요약문:  price increase in months \n",
            "예측 요약문:   great product\n",
            "\n",
            "\n",
            "원문:  received green coffee cups sample test quite pleased strong coffee weak coffee either great blend flavor smooth taste bitter like coffees tend good price brand well overall would say keeper morning ritual \n",
            "실제 요약문:  great all around taste \n",
            "예측 요약문:   good coffee\n",
            "\n",
            "\n",
            "원문:  asked review purchase already said fast shipping good product bother reviews problem let know stop using future leave alone \n",
            "실제 요약문:  pro treat \n",
            "예측 요약문:   great product\n",
            "\n",
            "\n",
            "원문:  came across treats months ago target looking things make dogs first vet experience pleasant one healthiest things store believe dog really liked go site everything looked kosher eventually scared away whole made china issue eating treats right willing give dogswell another try look recalls within bulk us still eating beef \n",
            "실제 요약문:  pretty good treats \n",
            "예측 요약문:   made in china\n",
            "\n",
            "\n",
            "원문:  applied product several plants including small tree rose bush within two days plants applied product dead grass around plants plants got also dead could used weed killer would spray plants like \n",
            "실제 요약문:  my plants \n",
            "예측 요약문:   poor product\n",
            "\n",
            "\n",
            "원문:  mistake thought bags rather price per bag much higher pay local grocery product \n",
            "실제 요약문:  little expensive \n",
            "예측 요약문:   too expensive\n",
            "\n",
            "\n",
            "원문:  happy found product amazon saved ton money share homemade chinese hot mustard family friends great product great price \n",
            "실제 요약문:  wow bargain for sure \n",
            "예측 요약문:   great product\n",
            "\n",
            "\n",
            "원문:  kids go pace buying grocery store would break bank amazon makes affordable use auto deliver get even cheaper \n",
            "실제 요약문:  same as grocery store but cheaper \n",
            "예측 요약문:   great product\n",
            "\n",
            "\n",
            "원문:  calorie pack snack products tried absolute favorites funny thing even like oreos crazy chocolate however thin crisps exactly thin crisp also right sweet cravings hunger \n",
            "실제 요약문:  oreo thin crisps work for me \n",
            "예측 요약문:   yummy\n",
            "\n",
            "\n",
            "원문:  great flavor snack need boost energy help satisfy cravings meals \n",
            "실제 요약문:  delicious snack \n",
            "예측 요약문:   great snack\n",
            "\n",
            "\n",
            "원문:  tastes great balanced right dark would recommend would buy \n",
            "실제 요약문:  just right \n",
            "예측 요약문:   great\n",
            "\n",
            "\n",
            "원문:  flavor good one though bit stronger pomegranate lemonade preferred first time try likely seem strong tart flavor good careful spill though stain even stain hands make sure drink sip oz water bottle pour powder make less likely make mess amazon also good price found standard price far cheaper grocery store subscribe save price even cheaper \n",
            "실제 요약문:  very good taste though can \n",
            "예측 요약문:   great tasting\n",
            "\n",
            "\n",
            "원문:  makes great sugar free iced mocha coffee ice skim milk truvia chemical taste diluted \n",
            "실제 요약문:  makes great sugar free iced mocha \n",
            "예측 요약문:   great product\n",
            "\n",
            "\n",
            "원문:  like chocolate like peanut butter taste ultimately granola bar quality granola granola bar feels like chocolate merely cover fact granola much natural fiber without taste granola pretty sub par granola ok snacks like granola bars better \n",
            "실제 요약문:  too much fiber flavor \n",
            "예측 요약문:   tasty but too sweet\n",
            "\n",
            "\n",
            "원문:  pg tips perfect black tea great cases right amount brewing intensity love drink much large size great value \n",
            "실제 요약문:  perfect \n",
            "예측 요약문:   great tea\n",
            "\n",
            "\n",
            "원문:  good taste similar tasty texture little little mealy taste better texture appetizing would gotten better review \n",
            "실제 요약문:  meh \n",
            "예측 요약문:   good but not great\n",
            "\n",
            "\n",
            "원문:  love make red velvet cupcakes get deep red color need use ounce food coloring entire little bottle gets expensive quickly turned amazon much better price buying tiny bottles thanks \n",
            "실제 요약문:  great \n",
            "예측 요약문:   great product\n",
            "\n",
            "\n",
            "원문:  best bisquick pancakes ever made think better original bisquick pancakes husband even loved would recommend buying product \n",
            "실제 요약문:  amazing \n",
            "예측 요약문:   best gluten free bread\n",
            "\n",
            "\n",
            "원문:  used make rolls breadsticks pizza think makes better pizza crust pizza crust mix continue buy \n",
            "실제 요약문:  great all purpose baking mix \n",
            "예측 요약문:   great bread\n",
            "\n",
            "\n",
            "원문:  erythritol leaves aftertaste muffins pies tried sugar nothing beats erythritol everyone tastes items baked sweetener wants know used \n",
            "실제 요약문:  great sugar substitute \n",
            "예측 요약문:   sugar free sugar free syrup\n",
            "\n",
            "\n",
            "원문:  tea stuff green stuff shipping nearly price tea ended paying pound yerba mate order got smart googled yerba mate found lots sites offer lot tea lot less money like lb instead lb paid also sites offer genuine brands think try next \n",
            "실제 요약문:  wow expensive \n",
            "예측 요약문:   great tea\n",
            "\n",
            "\n",
            "원문:  pleased find product fantastic purchase anyone uses pumpkin pie spice large quantities reasonably priced creek spices list future orders products via amazon definitely order needed \n",
            "실제 요약문:  pumpkin pie spice packed in large jars \n",
            "예측 요약문:   pumpkin pie pumpkin\n",
            "\n",
            "\n",
            "원문:  liked coffee mush nice nutty pecan flavor cheap definately purchase oh thanks amazon shipments always time undamaged \n",
            "실제 요약문:  great southern taste \n",
            "예측 요약문:   coffee\n",
            "\n",
            "\n",
            "원문:  every year put together treat bags trick get plus every year bubble one gum put cheap price great taste kids adults love \n",
            "실제 요약문:  bubble \n",
            "예측 요약문:   great for\n",
            "\n",
            "\n"
          ],
          "name": "stdout"
        }
      ]
    },
    {
      "cell_type": "code",
      "metadata": {
        "id": "vCfjE9DsHEFX"
      },
      "source": [
        ""
      ],
      "execution_count": null,
      "outputs": []
    }
  ]
}